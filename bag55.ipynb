{
 "cells": [
  {
   "cell_type": "code",
   "execution_count": 1,
   "id": "3131daa6",
   "metadata": {
    "ExecuteTime": {
     "end_time": "2022-07-28T14:58:48.470448Z",
     "start_time": "2022-07-28T14:58:39.522737Z"
    }
   },
   "outputs": [],
   "source": [
    "from sklearn.model_selection import train_test_split\n",
    "import numpy as np\n",
    "import pandas as pd\n",
    "import seaborn as sns\n",
    "import matplotlib.pyplot as plt\n",
    "from sklearn.model_selection import train_test_split\n",
    "from sklearn import preprocessing as prepro\n",
    "from keras.layers import Dense, Dropout, BatchNormalization\n",
    "from tensorflow.keras.utils import to_categorical\n",
    "from keras.models import Sequential\n",
    "from tensorflow.keras.optimizers import Adam\n",
    "from collections import Counter"
   ]
  },
  {
   "cell_type": "code",
   "execution_count": 2,
   "id": "3f65c4ca",
   "metadata": {
    "ExecuteTime": {
     "end_time": "2022-07-28T14:58:51.286277Z",
     "start_time": "2022-07-28T14:58:48.474339Z"
    }
   },
   "outputs": [],
   "source": [
    "train = pd.read_csv('data/train.csv')\n",
    "# test = pd.read_csv('test.csv')"
   ]
  },
  {
   "cell_type": "code",
   "execution_count": 3,
   "id": "61581594",
   "metadata": {
    "ExecuteTime": {
     "end_time": "2022-07-28T14:58:51.364315Z",
     "start_time": "2022-07-28T14:58:51.291127Z"
    }
   },
   "outputs": [],
   "source": [
    "X=train.copy()"
   ]
  },
  {
   "cell_type": "code",
   "execution_count": 4,
   "id": "e7d27a00",
   "metadata": {
    "ExecuteTime": {
     "end_time": "2022-07-28T14:58:51.412184Z",
     "start_time": "2022-07-28T14:58:51.369299Z"
    }
   },
   "outputs": [
    {
     "data": {
      "text/html": [
       "<div>\n",
       "<style scoped>\n",
       "    .dataframe tbody tr th:only-of-type {\n",
       "        vertical-align: middle;\n",
       "    }\n",
       "\n",
       "    .dataframe tbody tr th {\n",
       "        vertical-align: top;\n",
       "    }\n",
       "\n",
       "    .dataframe thead th {\n",
       "        text-align: right;\n",
       "    }\n",
       "</style>\n",
       "<table border=\"1\" class=\"dataframe\">\n",
       "  <thead>\n",
       "    <tr style=\"text-align: right;\">\n",
       "      <th></th>\n",
       "      <th>Dates</th>\n",
       "      <th>Category</th>\n",
       "      <th>Descript</th>\n",
       "      <th>DayOfWeek</th>\n",
       "      <th>PdDistrict</th>\n",
       "      <th>Resolution</th>\n",
       "      <th>Address</th>\n",
       "      <th>X</th>\n",
       "      <th>Y</th>\n",
       "    </tr>\n",
       "  </thead>\n",
       "  <tbody>\n",
       "    <tr>\n",
       "      <th>0</th>\n",
       "      <td>2015-05-13 23:53:00</td>\n",
       "      <td>WARRANTS</td>\n",
       "      <td>WARRANT ARREST</td>\n",
       "      <td>Wednesday</td>\n",
       "      <td>NORTHERN</td>\n",
       "      <td>ARREST, BOOKED</td>\n",
       "      <td>OAK ST / LAGUNA ST</td>\n",
       "      <td>-122.425892</td>\n",
       "      <td>37.774599</td>\n",
       "    </tr>\n",
       "    <tr>\n",
       "      <th>1</th>\n",
       "      <td>2015-05-13 23:53:00</td>\n",
       "      <td>OTHER OFFENSES</td>\n",
       "      <td>TRAFFIC VIOLATION ARREST</td>\n",
       "      <td>Wednesday</td>\n",
       "      <td>NORTHERN</td>\n",
       "      <td>ARREST, BOOKED</td>\n",
       "      <td>OAK ST / LAGUNA ST</td>\n",
       "      <td>-122.425892</td>\n",
       "      <td>37.774599</td>\n",
       "    </tr>\n",
       "    <tr>\n",
       "      <th>2</th>\n",
       "      <td>2015-05-13 23:33:00</td>\n",
       "      <td>OTHER OFFENSES</td>\n",
       "      <td>TRAFFIC VIOLATION ARREST</td>\n",
       "      <td>Wednesday</td>\n",
       "      <td>NORTHERN</td>\n",
       "      <td>ARREST, BOOKED</td>\n",
       "      <td>VANNESS AV / GREENWICH ST</td>\n",
       "      <td>-122.424363</td>\n",
       "      <td>37.800414</td>\n",
       "    </tr>\n",
       "    <tr>\n",
       "      <th>3</th>\n",
       "      <td>2015-05-13 23:30:00</td>\n",
       "      <td>LARCENY/THEFT</td>\n",
       "      <td>GRAND THEFT FROM LOCKED AUTO</td>\n",
       "      <td>Wednesday</td>\n",
       "      <td>NORTHERN</td>\n",
       "      <td>NONE</td>\n",
       "      <td>1500 Block of LOMBARD ST</td>\n",
       "      <td>-122.426995</td>\n",
       "      <td>37.800873</td>\n",
       "    </tr>\n",
       "    <tr>\n",
       "      <th>4</th>\n",
       "      <td>2015-05-13 23:30:00</td>\n",
       "      <td>LARCENY/THEFT</td>\n",
       "      <td>GRAND THEFT FROM LOCKED AUTO</td>\n",
       "      <td>Wednesday</td>\n",
       "      <td>PARK</td>\n",
       "      <td>NONE</td>\n",
       "      <td>100 Block of BRODERICK ST</td>\n",
       "      <td>-122.438738</td>\n",
       "      <td>37.771541</td>\n",
       "    </tr>\n",
       "  </tbody>\n",
       "</table>\n",
       "</div>"
      ],
      "text/plain": [
       "                 Dates        Category                      Descript  \\\n",
       "0  2015-05-13 23:53:00        WARRANTS                WARRANT ARREST   \n",
       "1  2015-05-13 23:53:00  OTHER OFFENSES      TRAFFIC VIOLATION ARREST   \n",
       "2  2015-05-13 23:33:00  OTHER OFFENSES      TRAFFIC VIOLATION ARREST   \n",
       "3  2015-05-13 23:30:00   LARCENY/THEFT  GRAND THEFT FROM LOCKED AUTO   \n",
       "4  2015-05-13 23:30:00   LARCENY/THEFT  GRAND THEFT FROM LOCKED AUTO   \n",
       "\n",
       "   DayOfWeek PdDistrict      Resolution                    Address  \\\n",
       "0  Wednesday   NORTHERN  ARREST, BOOKED         OAK ST / LAGUNA ST   \n",
       "1  Wednesday   NORTHERN  ARREST, BOOKED         OAK ST / LAGUNA ST   \n",
       "2  Wednesday   NORTHERN  ARREST, BOOKED  VANNESS AV / GREENWICH ST   \n",
       "3  Wednesday   NORTHERN            NONE   1500 Block of LOMBARD ST   \n",
       "4  Wednesday       PARK            NONE  100 Block of BRODERICK ST   \n",
       "\n",
       "            X          Y  \n",
       "0 -122.425892  37.774599  \n",
       "1 -122.425892  37.774599  \n",
       "2 -122.424363  37.800414  \n",
       "3 -122.426995  37.800873  \n",
       "4 -122.438738  37.771541  "
      ]
     },
     "execution_count": 4,
     "metadata": {},
     "output_type": "execute_result"
    }
   ],
   "source": [
    "X.head()"
   ]
  },
  {
   "cell_type": "code",
   "execution_count": null,
   "id": "8754648a",
   "metadata": {
    "ExecuteTime": {
     "end_time": "2022-07-27T06:55:20.188529Z",
     "start_time": "2022-07-27T06:55:20.078823Z"
    }
   },
   "outputs": [],
   "source": []
  },
  {
   "cell_type": "code",
   "execution_count": 59,
   "id": "b7d5bb73",
   "metadata": {
    "ExecuteTime": {
     "end_time": "2022-07-28T08:19:27.617660Z",
     "start_time": "2022-07-28T08:19:07.135317Z"
    }
   },
   "outputs": [],
   "source": [
    "X['year'] = pd.to_datetime(X['Dates']).dt.year\n",
    "X['month'] = pd.to_datetime(X['Dates']).dt.month\n",
    "X['day'] = pd.to_datetime(X['Dates']).dt.day\n",
    "X['hour'] = pd.to_datetime(X['Dates']).dt.hour\n",
    "X['minute'] = pd.to_datetime(X['Dates']).dt.minute\n",
    "X['DayOfWeek'] = pd.to_datetime(X['Dates']).dt.weekday\n",
    "\n",
    "test['year'] = pd.to_datetime(test['Dates']).dt.year\n",
    "test['month'] = pd.to_datetime(test['Dates']).dt.month\n",
    "test['day'] = pd.to_datetime(test['Dates']).dt.day\n",
    "test['hour'] = pd.to_datetime(test['Dates']).dt.hour\n",
    "test['minute'] = pd.to_datetime(test['Dates']).dt.minute"
   ]
  },
  {
   "cell_type": "code",
   "execution_count": 60,
   "id": "324ff0b2",
   "metadata": {
    "ExecuteTime": {
     "end_time": "2022-07-28T08:19:27.632473Z",
     "start_time": "2022-07-28T08:19:27.621799Z"
    }
   },
   "outputs": [],
   "source": [
    "# X.DayOfWeek.unique()"
   ]
  },
  {
   "cell_type": "code",
   "execution_count": 5,
   "id": "8554e5e5",
   "metadata": {
    "ExecuteTime": {
     "end_time": "2022-07-28T14:58:51.444151Z",
     "start_time": "2022-07-28T14:58:51.415248Z"
    }
   },
   "outputs": [
    {
     "data": {
      "text/html": [
       "<div>\n",
       "<style scoped>\n",
       "    .dataframe tbody tr th:only-of-type {\n",
       "        vertical-align: middle;\n",
       "    }\n",
       "\n",
       "    .dataframe tbody tr th {\n",
       "        vertical-align: top;\n",
       "    }\n",
       "\n",
       "    .dataframe thead th {\n",
       "        text-align: right;\n",
       "    }\n",
       "</style>\n",
       "<table border=\"1\" class=\"dataframe\">\n",
       "  <thead>\n",
       "    <tr style=\"text-align: right;\">\n",
       "      <th></th>\n",
       "      <th>Dates</th>\n",
       "      <th>Category</th>\n",
       "      <th>Descript</th>\n",
       "      <th>DayOfWeek</th>\n",
       "      <th>PdDistrict</th>\n",
       "      <th>Resolution</th>\n",
       "      <th>Address</th>\n",
       "      <th>X</th>\n",
       "      <th>Y</th>\n",
       "    </tr>\n",
       "  </thead>\n",
       "  <tbody>\n",
       "    <tr>\n",
       "      <th>0</th>\n",
       "      <td>2015-05-13 23:53:00</td>\n",
       "      <td>WARRANTS</td>\n",
       "      <td>WARRANT ARREST</td>\n",
       "      <td>Wednesday</td>\n",
       "      <td>NORTHERN</td>\n",
       "      <td>ARREST, BOOKED</td>\n",
       "      <td>OAK ST / LAGUNA ST</td>\n",
       "      <td>-122.425892</td>\n",
       "      <td>37.774599</td>\n",
       "    </tr>\n",
       "    <tr>\n",
       "      <th>1</th>\n",
       "      <td>2015-05-13 23:53:00</td>\n",
       "      <td>OTHER OFFENSES</td>\n",
       "      <td>TRAFFIC VIOLATION ARREST</td>\n",
       "      <td>Wednesday</td>\n",
       "      <td>NORTHERN</td>\n",
       "      <td>ARREST, BOOKED</td>\n",
       "      <td>OAK ST / LAGUNA ST</td>\n",
       "      <td>-122.425892</td>\n",
       "      <td>37.774599</td>\n",
       "    </tr>\n",
       "    <tr>\n",
       "      <th>2</th>\n",
       "      <td>2015-05-13 23:33:00</td>\n",
       "      <td>OTHER OFFENSES</td>\n",
       "      <td>TRAFFIC VIOLATION ARREST</td>\n",
       "      <td>Wednesday</td>\n",
       "      <td>NORTHERN</td>\n",
       "      <td>ARREST, BOOKED</td>\n",
       "      <td>VANNESS AV / GREENWICH ST</td>\n",
       "      <td>-122.424363</td>\n",
       "      <td>37.800414</td>\n",
       "    </tr>\n",
       "    <tr>\n",
       "      <th>3</th>\n",
       "      <td>2015-05-13 23:30:00</td>\n",
       "      <td>LARCENY/THEFT</td>\n",
       "      <td>GRAND THEFT FROM LOCKED AUTO</td>\n",
       "      <td>Wednesday</td>\n",
       "      <td>NORTHERN</td>\n",
       "      <td>NONE</td>\n",
       "      <td>1500 Block of LOMBARD ST</td>\n",
       "      <td>-122.426995</td>\n",
       "      <td>37.800873</td>\n",
       "    </tr>\n",
       "    <tr>\n",
       "      <th>4</th>\n",
       "      <td>2015-05-13 23:30:00</td>\n",
       "      <td>LARCENY/THEFT</td>\n",
       "      <td>GRAND THEFT FROM LOCKED AUTO</td>\n",
       "      <td>Wednesday</td>\n",
       "      <td>PARK</td>\n",
       "      <td>NONE</td>\n",
       "      <td>100 Block of BRODERICK ST</td>\n",
       "      <td>-122.438738</td>\n",
       "      <td>37.771541</td>\n",
       "    </tr>\n",
       "  </tbody>\n",
       "</table>\n",
       "</div>"
      ],
      "text/plain": [
       "                 Dates        Category                      Descript  \\\n",
       "0  2015-05-13 23:53:00        WARRANTS                WARRANT ARREST   \n",
       "1  2015-05-13 23:53:00  OTHER OFFENSES      TRAFFIC VIOLATION ARREST   \n",
       "2  2015-05-13 23:33:00  OTHER OFFENSES      TRAFFIC VIOLATION ARREST   \n",
       "3  2015-05-13 23:30:00   LARCENY/THEFT  GRAND THEFT FROM LOCKED AUTO   \n",
       "4  2015-05-13 23:30:00   LARCENY/THEFT  GRAND THEFT FROM LOCKED AUTO   \n",
       "\n",
       "   DayOfWeek PdDistrict      Resolution                    Address  \\\n",
       "0  Wednesday   NORTHERN  ARREST, BOOKED         OAK ST / LAGUNA ST   \n",
       "1  Wednesday   NORTHERN  ARREST, BOOKED         OAK ST / LAGUNA ST   \n",
       "2  Wednesday   NORTHERN  ARREST, BOOKED  VANNESS AV / GREENWICH ST   \n",
       "3  Wednesday   NORTHERN            NONE   1500 Block of LOMBARD ST   \n",
       "4  Wednesday       PARK            NONE  100 Block of BRODERICK ST   \n",
       "\n",
       "            X          Y  \n",
       "0 -122.425892  37.774599  \n",
       "1 -122.425892  37.774599  \n",
       "2 -122.424363  37.800414  \n",
       "3 -122.426995  37.800873  \n",
       "4 -122.438738  37.771541  "
      ]
     },
     "execution_count": 5,
     "metadata": {},
     "output_type": "execute_result"
    }
   ],
   "source": [
    "X.head()"
   ]
  },
  {
   "cell_type": "code",
   "execution_count": 62,
   "id": "e43cfc6d",
   "metadata": {
    "ExecuteTime": {
     "end_time": "2022-07-28T08:19:28.491695Z",
     "start_time": "2022-07-28T08:19:27.714255Z"
    }
   },
   "outputs": [
    {
     "data": {
      "text/html": [
       "<div>\n",
       "<style scoped>\n",
       "    .dataframe tbody tr th:only-of-type {\n",
       "        vertical-align: middle;\n",
       "    }\n",
       "\n",
       "    .dataframe tbody tr th {\n",
       "        vertical-align: top;\n",
       "    }\n",
       "\n",
       "    .dataframe thead th {\n",
       "        text-align: right;\n",
       "    }\n",
       "</style>\n",
       "<table border=\"1\" class=\"dataframe\">\n",
       "  <thead>\n",
       "    <tr style=\"text-align: right;\">\n",
       "      <th></th>\n",
       "      <th>DayOfWeek</th>\n",
       "      <th>X</th>\n",
       "      <th>Y</th>\n",
       "      <th>year</th>\n",
       "      <th>month</th>\n",
       "      <th>day</th>\n",
       "      <th>hour</th>\n",
       "      <th>minute</th>\n",
       "    </tr>\n",
       "  </thead>\n",
       "  <tbody>\n",
       "    <tr>\n",
       "      <th>count</th>\n",
       "      <td>878049.000000</td>\n",
       "      <td>878049.000000</td>\n",
       "      <td>878049.000000</td>\n",
       "      <td>878049.000000</td>\n",
       "      <td>878049.000000</td>\n",
       "      <td>878049.000000</td>\n",
       "      <td>878049.000000</td>\n",
       "      <td>878049.000000</td>\n",
       "    </tr>\n",
       "    <tr>\n",
       "      <th>mean</th>\n",
       "      <td>2.992691</td>\n",
       "      <td>-122.422616</td>\n",
       "      <td>37.771020</td>\n",
       "      <td>2008.712046</td>\n",
       "      <td>6.436509</td>\n",
       "      <td>15.570623</td>\n",
       "      <td>13.412655</td>\n",
       "      <td>20.155026</td>\n",
       "    </tr>\n",
       "    <tr>\n",
       "      <th>std</th>\n",
       "      <td>1.972023</td>\n",
       "      <td>0.030354</td>\n",
       "      <td>0.456893</td>\n",
       "      <td>3.631194</td>\n",
       "      <td>3.428972</td>\n",
       "      <td>8.783005</td>\n",
       "      <td>6.549573</td>\n",
       "      <td>18.594915</td>\n",
       "    </tr>\n",
       "    <tr>\n",
       "      <th>min</th>\n",
       "      <td>0.000000</td>\n",
       "      <td>-122.513642</td>\n",
       "      <td>37.707879</td>\n",
       "      <td>2003.000000</td>\n",
       "      <td>1.000000</td>\n",
       "      <td>1.000000</td>\n",
       "      <td>0.000000</td>\n",
       "      <td>0.000000</td>\n",
       "    </tr>\n",
       "    <tr>\n",
       "      <th>25%</th>\n",
       "      <td>1.000000</td>\n",
       "      <td>-122.432952</td>\n",
       "      <td>37.752427</td>\n",
       "      <td>2006.000000</td>\n",
       "      <td>3.000000</td>\n",
       "      <td>8.000000</td>\n",
       "      <td>9.000000</td>\n",
       "      <td>0.000000</td>\n",
       "    </tr>\n",
       "    <tr>\n",
       "      <th>50%</th>\n",
       "      <td>3.000000</td>\n",
       "      <td>-122.416420</td>\n",
       "      <td>37.775421</td>\n",
       "      <td>2009.000000</td>\n",
       "      <td>6.000000</td>\n",
       "      <td>16.000000</td>\n",
       "      <td>14.000000</td>\n",
       "      <td>19.000000</td>\n",
       "    </tr>\n",
       "    <tr>\n",
       "      <th>75%</th>\n",
       "      <td>5.000000</td>\n",
       "      <td>-122.406959</td>\n",
       "      <td>37.784369</td>\n",
       "      <td>2012.000000</td>\n",
       "      <td>9.000000</td>\n",
       "      <td>23.000000</td>\n",
       "      <td>19.000000</td>\n",
       "      <td>33.000000</td>\n",
       "    </tr>\n",
       "    <tr>\n",
       "      <th>max</th>\n",
       "      <td>6.000000</td>\n",
       "      <td>-120.500000</td>\n",
       "      <td>90.000000</td>\n",
       "      <td>2015.000000</td>\n",
       "      <td>12.000000</td>\n",
       "      <td>31.000000</td>\n",
       "      <td>23.000000</td>\n",
       "      <td>59.000000</td>\n",
       "    </tr>\n",
       "  </tbody>\n",
       "</table>\n",
       "</div>"
      ],
      "text/plain": [
       "           DayOfWeek              X              Y           year  \\\n",
       "count  878049.000000  878049.000000  878049.000000  878049.000000   \n",
       "mean        2.992691    -122.422616      37.771020    2008.712046   \n",
       "std         1.972023       0.030354       0.456893       3.631194   \n",
       "min         0.000000    -122.513642      37.707879    2003.000000   \n",
       "25%         1.000000    -122.432952      37.752427    2006.000000   \n",
       "50%         3.000000    -122.416420      37.775421    2009.000000   \n",
       "75%         5.000000    -122.406959      37.784369    2012.000000   \n",
       "max         6.000000    -120.500000      90.000000    2015.000000   \n",
       "\n",
       "               month            day           hour         minute  \n",
       "count  878049.000000  878049.000000  878049.000000  878049.000000  \n",
       "mean        6.436509      15.570623      13.412655      20.155026  \n",
       "std         3.428972       8.783005       6.549573      18.594915  \n",
       "min         1.000000       1.000000       0.000000       0.000000  \n",
       "25%         3.000000       8.000000       9.000000       0.000000  \n",
       "50%         6.000000      16.000000      14.000000      19.000000  \n",
       "75%         9.000000      23.000000      19.000000      33.000000  \n",
       "max        12.000000      31.000000      23.000000      59.000000  "
      ]
     },
     "execution_count": 62,
     "metadata": {},
     "output_type": "execute_result"
    }
   ],
   "source": [
    "X.describe()"
   ]
  },
  {
   "cell_type": "code",
   "execution_count": 63,
   "id": "bde3ee0f",
   "metadata": {
    "ExecuteTime": {
     "end_time": "2022-07-28T08:19:30.690694Z",
     "start_time": "2022-07-28T08:19:28.494604Z"
    }
   },
   "outputs": [
    {
     "name": "stdout",
     "output_type": "stream",
     "text": [
      "<class 'pandas.core.frame.DataFrame'>\n",
      "RangeIndex: 878049 entries, 0 to 878048\n",
      "Data columns (total 14 columns):\n",
      " #   Column      Non-Null Count   Dtype  \n",
      "---  ------      --------------   -----  \n",
      " 0   Dates       878049 non-null  object \n",
      " 1   Category    878049 non-null  object \n",
      " 2   Descript    878049 non-null  object \n",
      " 3   DayOfWeek   878049 non-null  int64  \n",
      " 4   PdDistrict  878049 non-null  object \n",
      " 5   Resolution  878049 non-null  object \n",
      " 6   Address     878049 non-null  object \n",
      " 7   X           878049 non-null  float64\n",
      " 8   Y           878049 non-null  float64\n",
      " 9   year        878049 non-null  int64  \n",
      " 10  month       878049 non-null  int64  \n",
      " 11  day         878049 non-null  int64  \n",
      " 12  hour        878049 non-null  int64  \n",
      " 13  minute      878049 non-null  int64  \n",
      "dtypes: float64(2), int64(6), object(6)\n",
      "memory usage: 93.8+ MB\n"
     ]
    }
   ],
   "source": [
    "X.info()"
   ]
  },
  {
   "cell_type": "code",
   "execution_count": 6,
   "id": "ed1b1c82",
   "metadata": {
    "ExecuteTime": {
     "end_time": "2022-07-28T14:58:58.581823Z",
     "start_time": "2022-07-28T14:58:57.115399Z"
    }
   },
   "outputs": [
    {
     "data": {
      "text/plain": [
       "2323"
      ]
     },
     "execution_count": 6,
     "metadata": {},
     "output_type": "execute_result"
    }
   ],
   "source": [
    "X.duplicated().sum()"
   ]
  },
  {
   "cell_type": "code",
   "execution_count": 7,
   "id": "12ddeb36",
   "metadata": {
    "ExecuteTime": {
     "end_time": "2022-07-28T14:59:00.185588Z",
     "start_time": "2022-07-28T14:58:58.585810Z"
    }
   },
   "outputs": [],
   "source": [
    "X.drop_duplicates(inplace=True)"
   ]
  },
  {
   "cell_type": "code",
   "execution_count": 66,
   "id": "d770c620",
   "metadata": {
    "ExecuteTime": {
     "end_time": "2022-07-28T08:19:38.362691Z",
     "start_time": "2022-07-28T08:19:36.339455Z"
    },
    "scrolled": true
   },
   "outputs": [
    {
     "data": {
      "text/plain": [
       "Dates         0\n",
       "Category      0\n",
       "Descript      0\n",
       "DayOfWeek     0\n",
       "PdDistrict    0\n",
       "Resolution    0\n",
       "Address       0\n",
       "X             0\n",
       "Y             0\n",
       "year          0\n",
       "month         0\n",
       "day           0\n",
       "hour          0\n",
       "minute        0\n",
       "dtype: int64"
      ]
     },
     "execution_count": 66,
     "metadata": {},
     "output_type": "execute_result"
    }
   ],
   "source": [
    "X.isnull().sum()"
   ]
  },
  {
   "cell_type": "code",
   "execution_count": 67,
   "id": "67936111",
   "metadata": {
    "ExecuteTime": {
     "end_time": "2022-07-28T08:19:38.532636Z",
     "start_time": "2022-07-28T08:19:38.366189Z"
    }
   },
   "outputs": [
    {
     "data": {
      "text/plain": [
       "array(['WARRANTS', 'OTHER OFFENSES', 'LARCENY/THEFT', 'VEHICLE THEFT',\n",
       "       'VANDALISM', 'NON-CRIMINAL', 'ROBBERY', 'ASSAULT', 'WEAPON LAWS',\n",
       "       'BURGLARY', 'SUSPICIOUS OCC', 'DRUNKENNESS',\n",
       "       'FORGERY/COUNTERFEITING', 'DRUG/NARCOTIC', 'STOLEN PROPERTY',\n",
       "       'SECONDARY CODES', 'TRESPASS', 'MISSING PERSON', 'FRAUD',\n",
       "       'KIDNAPPING', 'RUNAWAY', 'DRIVING UNDER THE INFLUENCE',\n",
       "       'SEX OFFENSES FORCIBLE', 'PROSTITUTION', 'DISORDERLY CONDUCT',\n",
       "       'ARSON', 'FAMILY OFFENSES', 'LIQUOR LAWS', 'BRIBERY',\n",
       "       'EMBEZZLEMENT', 'SUICIDE', 'LOITERING',\n",
       "       'SEX OFFENSES NON FORCIBLE', 'EXTORTION', 'GAMBLING', 'BAD CHECKS',\n",
       "       'TREA', 'RECOVERED VEHICLE', 'PORNOGRAPHY/OBSCENE MAT'],\n",
       "      dtype=object)"
      ]
     },
     "execution_count": 67,
     "metadata": {},
     "output_type": "execute_result"
    }
   ],
   "source": [
    "X.Category.unique()"
   ]
  },
  {
   "cell_type": "code",
   "execution_count": 68,
   "id": "90e80358",
   "metadata": {
    "ExecuteTime": {
     "end_time": "2022-07-28T08:19:38.932625Z",
     "start_time": "2022-07-28T08:19:38.535628Z"
    }
   },
   "outputs": [
    {
     "data": {
      "text/plain": [
       "23228"
      ]
     },
     "execution_count": 68,
     "metadata": {},
     "output_type": "execute_result"
    }
   ],
   "source": [
    "len(X.Address.unique())"
   ]
  },
  {
   "cell_type": "code",
   "execution_count": 69,
   "id": "712bef37",
   "metadata": {
    "ExecuteTime": {
     "end_time": "2022-07-28T08:19:39.097010Z",
     "start_time": "2022-07-28T08:19:38.935582Z"
    }
   },
   "outputs": [
    {
     "data": {
      "text/plain": [
       "34243"
      ]
     },
     "execution_count": 69,
     "metadata": {},
     "output_type": "execute_result"
    }
   ],
   "source": [
    "len(X.X.unique())"
   ]
  },
  {
   "cell_type": "code",
   "execution_count": 9,
   "id": "1462d7a8",
   "metadata": {
    "ExecuteTime": {
     "end_time": "2022-07-28T14:48:27.772104Z",
     "start_time": "2022-07-28T14:48:27.692155Z"
    }
   },
   "outputs": [
    {
     "data": {
      "text/plain": [
       "array(['NORTHERN', 'PARK', 'INGLESIDE', 'BAYVIEW', 'RICHMOND', 'CENTRAL',\n",
       "       'TARAVAL', 'TENDERLOIN', 'MISSION', 'SOUTHERN'], dtype=object)"
      ]
     },
     "execution_count": 9,
     "metadata": {},
     "output_type": "execute_result"
    }
   ],
   "source": [
    "X.PdDistrict.unique()"
   ]
  },
  {
   "cell_type": "code",
   "execution_count": 8,
   "id": "dd7f67ed",
   "metadata": {
    "ExecuteTime": {
     "end_time": "2022-07-28T14:59:06.753274Z",
     "start_time": "2022-07-28T14:59:06.695429Z"
    }
   },
   "outputs": [],
   "source": [
    "df=X.copy()"
   ]
  },
  {
   "cell_type": "code",
   "execution_count": 9,
   "id": "c6f9e58a",
   "metadata": {
    "ExecuteTime": {
     "end_time": "2022-07-28T14:59:12.056122Z",
     "start_time": "2022-07-28T14:59:11.825681Z"
    }
   },
   "outputs": [
    {
     "data": {
      "text/plain": [
       "800 Block of BRYANT ST                   26245\n",
       "800 Block of MARKET ST                    6576\n",
       "2000 Block of MISSION ST                  5094\n",
       "1000 Block of POTRERO AV                  4046\n",
       "900 Block of MARKET ST                    3245\n",
       "0 Block of TURK ST                        3224\n",
       "0 Block of 6TH ST                         2882\n",
       "300 Block of ELLIS ST                     2701\n",
       "400 Block of ELLIS ST                     2584\n",
       "16TH ST / MISSION ST                      2501\n",
       "1000 Block of MARKET ST                   2487\n",
       "1100 Block of MARKET ST                   2315\n",
       "2000 Block of MARKET ST                   2166\n",
       "100 Block of OFARRELL ST                  2135\n",
       "700 Block of MARKET ST                    2075\n",
       "3200 Block of 20TH AV                     2030\n",
       "100 Block of 6TH ST                       1886\n",
       "500 Block of JOHNFKENNEDY DR              1812\n",
       "TURK ST / TAYLOR ST                       1810\n",
       "200 Block of TURK ST                      1796\n",
       "0 Block of UNITEDNATIONS PZ               1788\n",
       "0 Block of PHELAN AV                      1781\n",
       "0 Block of POWELL ST                      1677\n",
       "100 Block of EDDY ST                      1677\n",
       "300 Block of EDDY ST                      1569\n",
       "1400 Block of PHELPS ST                   1510\n",
       "100 Block of GOLDEN GATE AV               1352\n",
       "100 Block of POWELL ST                    1331\n",
       "200 Block of INTERSTATE80 HY              1309\n",
       "MISSION ST / 16TH ST                      1297\n",
       "200 Block of EDDY ST                      1293\n",
       "100 Block of TURK ST                      1285\n",
       "900 Block of POTRERO AV                   1283\n",
       "2300 Block of 16TH ST                     1280\n",
       "400 Block of EDDY ST                      1245\n",
       "600 Block of VALENCIA ST                  1227\n",
       "700 Block of STANYAN ST                   1226\n",
       "3300 Block of MISSION ST                  1208\n",
       "400 Block of OFARRELL ST                  1195\n",
       "0 Block of JONES ST                       1183\n",
       "ELLIS ST / JONES ST                       1183\n",
       "100 Block of TAYLOR ST                    1171\n",
       "0 Block of OFARRELL ST                    1168\n",
       "3000 Block of 16TH ST                     1162\n",
       "1200 Block of MARKET ST                   1103\n",
       "100 Block of LEAVENWORTH ST               1076\n",
       "400 Block of CASTRO ST                    1076\n",
       "400 Block of JONES ST                     1075\n",
       "1600 Block of THE EMBARCADERONORTH ST     1052\n",
       "TURK ST / LEAVENWORTH ST                  1039\n",
       "Name: Address, dtype: int64"
      ]
     },
     "execution_count": 9,
     "metadata": {},
     "output_type": "execute_result"
    }
   ],
   "source": [
    "address=df.Address.value_counts()\n",
    "# df.Address=df.Address.apply(lambda x:x.strip())\n",
    "# address=df.groupby('Address')['Address'].agg('count').sort_values(ascending=False)\n",
    "address.head(50)"
   ]
  },
  {
   "cell_type": "code",
   "execution_count": 10,
   "id": "c0d3a990",
   "metadata": {
    "ExecuteTime": {
     "end_time": "2022-07-28T14:59:17.261372Z",
     "start_time": "2022-07-28T14:59:17.234444Z"
    }
   },
   "outputs": [
    {
     "name": "stdout",
     "output_type": "stream",
     "text": [
      "total less than 1000: 23178\n"
     ]
    },
    {
     "data": {
      "text/plain": [
       "1300 Block of WEBSTER ST         992\n",
       "100 Block of HYDE ST             990\n",
       "1000 Block of MISSION ST         985\n",
       "0 Block of GROVE ST              982\n",
       "400 Block of BROADWAY ST         976\n",
       "                                ... \n",
       "INTERSTATE280 HY / OCEAN AV        1\n",
       "23RD ST / GRANDVIEW AV             1\n",
       "100 Block of RICKARD ST            1\n",
       "MILTON I ROSS ST / JERROLD AV      1\n",
       "19TH ST / 3RD ST                   1\n",
       "Name: Address, Length: 23178, dtype: int64"
      ]
     },
     "execution_count": 10,
     "metadata": {},
     "output_type": "execute_result"
    }
   ],
   "source": [
    "address_less1000=address[address<=1000]\n",
    "print(f'total less than 1000: {len(address_less1000)}')\n",
    "address_less1000"
   ]
  },
  {
   "cell_type": "code",
   "execution_count": 11,
   "id": "57e79bc0",
   "metadata": {
    "ExecuteTime": {
     "end_time": "2022-07-28T14:59:20.498680Z",
     "start_time": "2022-07-28T14:59:18.127697Z"
    }
   },
   "outputs": [],
   "source": [
    "df.Address=df.Address.apply(lambda x: 'other' if x in address_less1000 else x)"
   ]
  },
  {
   "cell_type": "code",
   "execution_count": 21,
   "id": "d4e0390f",
   "metadata": {
    "ExecuteTime": {
     "end_time": "2022-07-28T14:53:18.034025Z",
     "start_time": "2022-07-28T14:53:18.013488Z"
    }
   },
   "outputs": [],
   "source": [
    "# df.columns=['Dates', 'Category', 'Descript', 'DayOfWeek', 'PdDistrict',\n",
    "#        'Resolution', 'Address', 'lat', 'lon','Block', 'Intersect']\n",
    "# df.to_csv('sample.csv')"
   ]
  },
  {
   "cell_type": "code",
   "execution_count": 23,
   "id": "6af5c704",
   "metadata": {
    "ExecuteTime": {
     "end_time": "2022-07-28T14:53:53.184638Z",
     "start_time": "2022-07-28T14:53:46.893956Z"
    }
   },
   "outputs": [],
   "source": [
    "# df.to_csv('sample.csv')"
   ]
  },
  {
   "cell_type": "code",
   "execution_count": 15,
   "id": "013299fc",
   "metadata": {
    "ExecuteTime": {
     "end_time": "2022-07-28T14:49:36.009850Z",
     "start_time": "2022-07-28T14:49:35.944970Z"
    }
   },
   "outputs": [
    {
     "data": {
      "text/plain": [
       "51"
      ]
     },
     "execution_count": 15,
     "metadata": {},
     "output_type": "execute_result"
    }
   ],
   "source": [
    "len(df.Address.unique())"
   ]
  },
  {
   "cell_type": "code",
   "execution_count": 16,
   "id": "c9be66a9",
   "metadata": {
    "ExecuteTime": {
     "end_time": "2022-07-28T14:49:36.602972Z",
     "start_time": "2022-07-28T14:49:36.581993Z"
    }
   },
   "outputs": [
    {
     "data": {
      "text/html": [
       "<div>\n",
       "<style scoped>\n",
       "    .dataframe tbody tr th:only-of-type {\n",
       "        vertical-align: middle;\n",
       "    }\n",
       "\n",
       "    .dataframe tbody tr th {\n",
       "        vertical-align: top;\n",
       "    }\n",
       "\n",
       "    .dataframe thead th {\n",
       "        text-align: right;\n",
       "    }\n",
       "</style>\n",
       "<table border=\"1\" class=\"dataframe\">\n",
       "  <thead>\n",
       "    <tr style=\"text-align: right;\">\n",
       "      <th></th>\n",
       "      <th>Dates</th>\n",
       "      <th>Category</th>\n",
       "      <th>Descript</th>\n",
       "      <th>DayOfWeek</th>\n",
       "      <th>PdDistrict</th>\n",
       "      <th>Resolution</th>\n",
       "      <th>Address</th>\n",
       "      <th>X</th>\n",
       "      <th>Y</th>\n",
       "    </tr>\n",
       "  </thead>\n",
       "  <tbody>\n",
       "    <tr>\n",
       "      <th>0</th>\n",
       "      <td>2015-05-13 23:53:00</td>\n",
       "      <td>WARRANTS</td>\n",
       "      <td>WARRANT ARREST</td>\n",
       "      <td>Wednesday</td>\n",
       "      <td>NORTHERN</td>\n",
       "      <td>ARREST, BOOKED</td>\n",
       "      <td>other</td>\n",
       "      <td>-122.425892</td>\n",
       "      <td>37.774599</td>\n",
       "    </tr>\n",
       "    <tr>\n",
       "      <th>1</th>\n",
       "      <td>2015-05-13 23:53:00</td>\n",
       "      <td>OTHER OFFENSES</td>\n",
       "      <td>TRAFFIC VIOLATION ARREST</td>\n",
       "      <td>Wednesday</td>\n",
       "      <td>NORTHERN</td>\n",
       "      <td>ARREST, BOOKED</td>\n",
       "      <td>other</td>\n",
       "      <td>-122.425892</td>\n",
       "      <td>37.774599</td>\n",
       "    </tr>\n",
       "    <tr>\n",
       "      <th>2</th>\n",
       "      <td>2015-05-13 23:33:00</td>\n",
       "      <td>OTHER OFFENSES</td>\n",
       "      <td>TRAFFIC VIOLATION ARREST</td>\n",
       "      <td>Wednesday</td>\n",
       "      <td>NORTHERN</td>\n",
       "      <td>ARREST, BOOKED</td>\n",
       "      <td>other</td>\n",
       "      <td>-122.424363</td>\n",
       "      <td>37.800414</td>\n",
       "    </tr>\n",
       "    <tr>\n",
       "      <th>3</th>\n",
       "      <td>2015-05-13 23:30:00</td>\n",
       "      <td>LARCENY/THEFT</td>\n",
       "      <td>GRAND THEFT FROM LOCKED AUTO</td>\n",
       "      <td>Wednesday</td>\n",
       "      <td>NORTHERN</td>\n",
       "      <td>NONE</td>\n",
       "      <td>other</td>\n",
       "      <td>-122.426995</td>\n",
       "      <td>37.800873</td>\n",
       "    </tr>\n",
       "    <tr>\n",
       "      <th>4</th>\n",
       "      <td>2015-05-13 23:30:00</td>\n",
       "      <td>LARCENY/THEFT</td>\n",
       "      <td>GRAND THEFT FROM LOCKED AUTO</td>\n",
       "      <td>Wednesday</td>\n",
       "      <td>PARK</td>\n",
       "      <td>NONE</td>\n",
       "      <td>other</td>\n",
       "      <td>-122.438738</td>\n",
       "      <td>37.771541</td>\n",
       "    </tr>\n",
       "  </tbody>\n",
       "</table>\n",
       "</div>"
      ],
      "text/plain": [
       "                 Dates        Category                      Descript  \\\n",
       "0  2015-05-13 23:53:00        WARRANTS                WARRANT ARREST   \n",
       "1  2015-05-13 23:53:00  OTHER OFFENSES      TRAFFIC VIOLATION ARREST   \n",
       "2  2015-05-13 23:33:00  OTHER OFFENSES      TRAFFIC VIOLATION ARREST   \n",
       "3  2015-05-13 23:30:00   LARCENY/THEFT  GRAND THEFT FROM LOCKED AUTO   \n",
       "4  2015-05-13 23:30:00   LARCENY/THEFT  GRAND THEFT FROM LOCKED AUTO   \n",
       "\n",
       "   DayOfWeek PdDistrict      Resolution Address           X          Y  \n",
       "0  Wednesday   NORTHERN  ARREST, BOOKED   other -122.425892  37.774599  \n",
       "1  Wednesday   NORTHERN  ARREST, BOOKED   other -122.425892  37.774599  \n",
       "2  Wednesday   NORTHERN  ARREST, BOOKED   other -122.424363  37.800414  \n",
       "3  Wednesday   NORTHERN            NONE   other -122.426995  37.800873  \n",
       "4  Wednesday       PARK            NONE   other -122.438738  37.771541  "
      ]
     },
     "execution_count": 16,
     "metadata": {},
     "output_type": "execute_result"
    }
   ],
   "source": [
    "df.head()"
   ]
  },
  {
   "cell_type": "code",
   "execution_count": 17,
   "id": "9893c58d",
   "metadata": {
    "ExecuteTime": {
     "end_time": "2022-07-28T14:50:42.230882Z",
     "start_time": "2022-07-28T14:50:40.795205Z"
    }
   },
   "outputs": [],
   "source": [
    "df['Block'] = df['Address'].str.contains('block', case=False)\n",
    "df['Intersect'] = df['Address'].str.contains('/', case=False)\n",
    "df['Block']=df['Block'].replace({False:0,True:1})\n",
    "df['Intersect']=df['Intersect'].replace({False:0,True:1})"
   ]
  },
  {
   "cell_type": "code",
   "execution_count": 15,
   "id": "e091cec1",
   "metadata": {
    "ExecuteTime": {
     "end_time": "2022-07-28T15:00:18.405326Z",
     "start_time": "2022-07-28T15:00:18.233235Z"
    }
   },
   "outputs": [],
   "source": [
    "df_1=df.copy()"
   ]
  },
  {
   "cell_type": "code",
   "execution_count": 16,
   "id": "186487f3",
   "metadata": {
    "ExecuteTime": {
     "end_time": "2022-07-28T15:00:20.902396Z",
     "start_time": "2022-07-28T15:00:20.881424Z"
    }
   },
   "outputs": [
    {
     "data": {
      "text/html": [
       "<div>\n",
       "<style scoped>\n",
       "    .dataframe tbody tr th:only-of-type {\n",
       "        vertical-align: middle;\n",
       "    }\n",
       "\n",
       "    .dataframe tbody tr th {\n",
       "        vertical-align: top;\n",
       "    }\n",
       "\n",
       "    .dataframe thead th {\n",
       "        text-align: right;\n",
       "    }\n",
       "</style>\n",
       "<table border=\"1\" class=\"dataframe\">\n",
       "  <thead>\n",
       "    <tr style=\"text-align: right;\">\n",
       "      <th></th>\n",
       "      <th>Dates</th>\n",
       "      <th>Category</th>\n",
       "      <th>Descript</th>\n",
       "      <th>DayOfWeek</th>\n",
       "      <th>PdDistrict</th>\n",
       "      <th>Resolution</th>\n",
       "      <th>Address</th>\n",
       "      <th>X</th>\n",
       "      <th>Y</th>\n",
       "    </tr>\n",
       "  </thead>\n",
       "  <tbody>\n",
       "    <tr>\n",
       "      <th>0</th>\n",
       "      <td>2015-05-13 23:53:00</td>\n",
       "      <td>WARRANTS</td>\n",
       "      <td>WARRANT ARREST</td>\n",
       "      <td>Wednesday</td>\n",
       "      <td>NORTHERN</td>\n",
       "      <td>ARREST, BOOKED</td>\n",
       "      <td>other</td>\n",
       "      <td>-122.425892</td>\n",
       "      <td>37.774599</td>\n",
       "    </tr>\n",
       "    <tr>\n",
       "      <th>1</th>\n",
       "      <td>2015-05-13 23:53:00</td>\n",
       "      <td>OTHER OFFENSES</td>\n",
       "      <td>TRAFFIC VIOLATION ARREST</td>\n",
       "      <td>Wednesday</td>\n",
       "      <td>NORTHERN</td>\n",
       "      <td>ARREST, BOOKED</td>\n",
       "      <td>other</td>\n",
       "      <td>-122.425892</td>\n",
       "      <td>37.774599</td>\n",
       "    </tr>\n",
       "    <tr>\n",
       "      <th>2</th>\n",
       "      <td>2015-05-13 23:33:00</td>\n",
       "      <td>OTHER OFFENSES</td>\n",
       "      <td>TRAFFIC VIOLATION ARREST</td>\n",
       "      <td>Wednesday</td>\n",
       "      <td>NORTHERN</td>\n",
       "      <td>ARREST, BOOKED</td>\n",
       "      <td>other</td>\n",
       "      <td>-122.424363</td>\n",
       "      <td>37.800414</td>\n",
       "    </tr>\n",
       "    <tr>\n",
       "      <th>3</th>\n",
       "      <td>2015-05-13 23:30:00</td>\n",
       "      <td>LARCENY/THEFT</td>\n",
       "      <td>GRAND THEFT FROM LOCKED AUTO</td>\n",
       "      <td>Wednesday</td>\n",
       "      <td>NORTHERN</td>\n",
       "      <td>NONE</td>\n",
       "      <td>other</td>\n",
       "      <td>-122.426995</td>\n",
       "      <td>37.800873</td>\n",
       "    </tr>\n",
       "    <tr>\n",
       "      <th>4</th>\n",
       "      <td>2015-05-13 23:30:00</td>\n",
       "      <td>LARCENY/THEFT</td>\n",
       "      <td>GRAND THEFT FROM LOCKED AUTO</td>\n",
       "      <td>Wednesday</td>\n",
       "      <td>PARK</td>\n",
       "      <td>NONE</td>\n",
       "      <td>other</td>\n",
       "      <td>-122.438738</td>\n",
       "      <td>37.771541</td>\n",
       "    </tr>\n",
       "    <tr>\n",
       "      <th>...</th>\n",
       "      <td>...</td>\n",
       "      <td>...</td>\n",
       "      <td>...</td>\n",
       "      <td>...</td>\n",
       "      <td>...</td>\n",
       "      <td>...</td>\n",
       "      <td>...</td>\n",
       "      <td>...</td>\n",
       "      <td>...</td>\n",
       "    </tr>\n",
       "    <tr>\n",
       "      <th>878044</th>\n",
       "      <td>2003-01-06 00:15:00</td>\n",
       "      <td>ROBBERY</td>\n",
       "      <td>ROBBERY ON THE STREET WITH A GUN</td>\n",
       "      <td>Monday</td>\n",
       "      <td>TARAVAL</td>\n",
       "      <td>NONE</td>\n",
       "      <td>other</td>\n",
       "      <td>-122.459033</td>\n",
       "      <td>37.714056</td>\n",
       "    </tr>\n",
       "    <tr>\n",
       "      <th>878045</th>\n",
       "      <td>2003-01-06 00:01:00</td>\n",
       "      <td>LARCENY/THEFT</td>\n",
       "      <td>GRAND THEFT FROM LOCKED AUTO</td>\n",
       "      <td>Monday</td>\n",
       "      <td>INGLESIDE</td>\n",
       "      <td>NONE</td>\n",
       "      <td>other</td>\n",
       "      <td>-122.447364</td>\n",
       "      <td>37.731948</td>\n",
       "    </tr>\n",
       "    <tr>\n",
       "      <th>878046</th>\n",
       "      <td>2003-01-06 00:01:00</td>\n",
       "      <td>LARCENY/THEFT</td>\n",
       "      <td>GRAND THEFT FROM LOCKED AUTO</td>\n",
       "      <td>Monday</td>\n",
       "      <td>SOUTHERN</td>\n",
       "      <td>NONE</td>\n",
       "      <td>other</td>\n",
       "      <td>-122.403390</td>\n",
       "      <td>37.780266</td>\n",
       "    </tr>\n",
       "    <tr>\n",
       "      <th>878047</th>\n",
       "      <td>2003-01-06 00:01:00</td>\n",
       "      <td>VANDALISM</td>\n",
       "      <td>MALICIOUS MISCHIEF, VANDALISM OF VEHICLES</td>\n",
       "      <td>Monday</td>\n",
       "      <td>SOUTHERN</td>\n",
       "      <td>NONE</td>\n",
       "      <td>other</td>\n",
       "      <td>-122.390531</td>\n",
       "      <td>37.780607</td>\n",
       "    </tr>\n",
       "    <tr>\n",
       "      <th>878048</th>\n",
       "      <td>2003-01-06 00:01:00</td>\n",
       "      <td>FORGERY/COUNTERFEITING</td>\n",
       "      <td>CHECKS, FORGERY (FELONY)</td>\n",
       "      <td>Monday</td>\n",
       "      <td>BAYVIEW</td>\n",
       "      <td>NONE</td>\n",
       "      <td>other</td>\n",
       "      <td>-122.394926</td>\n",
       "      <td>37.738212</td>\n",
       "    </tr>\n",
       "  </tbody>\n",
       "</table>\n",
       "<p>875726 rows × 9 columns</p>\n",
       "</div>"
      ],
      "text/plain": [
       "                      Dates                Category  \\\n",
       "0       2015-05-13 23:53:00                WARRANTS   \n",
       "1       2015-05-13 23:53:00          OTHER OFFENSES   \n",
       "2       2015-05-13 23:33:00          OTHER OFFENSES   \n",
       "3       2015-05-13 23:30:00           LARCENY/THEFT   \n",
       "4       2015-05-13 23:30:00           LARCENY/THEFT   \n",
       "...                     ...                     ...   \n",
       "878044  2003-01-06 00:15:00                 ROBBERY   \n",
       "878045  2003-01-06 00:01:00           LARCENY/THEFT   \n",
       "878046  2003-01-06 00:01:00           LARCENY/THEFT   \n",
       "878047  2003-01-06 00:01:00               VANDALISM   \n",
       "878048  2003-01-06 00:01:00  FORGERY/COUNTERFEITING   \n",
       "\n",
       "                                         Descript  DayOfWeek PdDistrict  \\\n",
       "0                                  WARRANT ARREST  Wednesday   NORTHERN   \n",
       "1                        TRAFFIC VIOLATION ARREST  Wednesday   NORTHERN   \n",
       "2                        TRAFFIC VIOLATION ARREST  Wednesday   NORTHERN   \n",
       "3                    GRAND THEFT FROM LOCKED AUTO  Wednesday   NORTHERN   \n",
       "4                    GRAND THEFT FROM LOCKED AUTO  Wednesday       PARK   \n",
       "...                                           ...        ...        ...   \n",
       "878044           ROBBERY ON THE STREET WITH A GUN     Monday    TARAVAL   \n",
       "878045               GRAND THEFT FROM LOCKED AUTO     Monday  INGLESIDE   \n",
       "878046               GRAND THEFT FROM LOCKED AUTO     Monday   SOUTHERN   \n",
       "878047  MALICIOUS MISCHIEF, VANDALISM OF VEHICLES     Monday   SOUTHERN   \n",
       "878048                   CHECKS, FORGERY (FELONY)     Monday    BAYVIEW   \n",
       "\n",
       "            Resolution Address           X          Y  \n",
       "0       ARREST, BOOKED   other -122.425892  37.774599  \n",
       "1       ARREST, BOOKED   other -122.425892  37.774599  \n",
       "2       ARREST, BOOKED   other -122.424363  37.800414  \n",
       "3                 NONE   other -122.426995  37.800873  \n",
       "4                 NONE   other -122.438738  37.771541  \n",
       "...                ...     ...         ...        ...  \n",
       "878044            NONE   other -122.459033  37.714056  \n",
       "878045            NONE   other -122.447364  37.731948  \n",
       "878046            NONE   other -122.403390  37.780266  \n",
       "878047            NONE   other -122.390531  37.780607  \n",
       "878048            NONE   other -122.394926  37.738212  \n",
       "\n",
       "[875726 rows x 9 columns]"
      ]
     },
     "execution_count": 16,
     "metadata": {},
     "output_type": "execute_result"
    }
   ],
   "source": [
    "df_1"
   ]
  },
  {
   "cell_type": "markdown",
   "id": "1351f99a",
   "metadata": {},
   "source": [
    "# check number of catagery"
   ]
  },
  {
   "cell_type": "code",
   "execution_count": 17,
   "id": "ffbde97e",
   "metadata": {
    "ExecuteTime": {
     "end_time": "2022-07-28T15:00:23.748594Z",
     "start_time": "2022-07-28T15:00:23.662298Z"
    }
   },
   "outputs": [
    {
     "data": {
      "text/plain": [
       "LARCENY/THEFT                  174320\n",
       "OTHER OFFENSES                 125960\n",
       "NON-CRIMINAL                    91915\n",
       "ASSAULT                         76815\n",
       "DRUG/NARCOTIC                   53919\n",
       "VEHICLE THEFT                   53706\n",
       "VANDALISM                       44581\n",
       "WARRANTS                        42145\n",
       "BURGLARY                        36600\n",
       "SUSPICIOUS OCC                  31394\n",
       "MISSING PERSON                  25669\n",
       "ROBBERY                         22988\n",
       "FRAUD                           16637\n",
       "FORGERY/COUNTERFEITING          10592\n",
       "SECONDARY CODES                  9979\n",
       "WEAPON LAWS                      8550\n",
       "PROSTITUTION                     7446\n",
       "TRESPASS                         7318\n",
       "STOLEN PROPERTY                  4537\n",
       "SEX OFFENSES FORCIBLE            4380\n",
       "DISORDERLY CONDUCT               4313\n",
       "DRUNKENNESS                      4277\n",
       "RECOVERED VEHICLE                3132\n",
       "KIDNAPPING                       2340\n",
       "DRIVING UNDER THE INFLUENCE      2268\n",
       "LIQUOR LAWS                      1899\n",
       "RUNAWAY                          1894\n",
       "ARSON                            1512\n",
       "LOITERING                        1207\n",
       "EMBEZZLEMENT                     1164\n",
       "SUICIDE                           508\n",
       "FAMILY OFFENSES                   488\n",
       "BAD CHECKS                        406\n",
       "BRIBERY                           289\n",
       "EXTORTION                         256\n",
       "SEX OFFENSES NON FORCIBLE         148\n",
       "GAMBLING                          146\n",
       "PORNOGRAPHY/OBSCENE MAT            22\n",
       "TREA                                6\n",
       "Name: Category, dtype: int64"
      ]
     },
     "execution_count": 17,
     "metadata": {},
     "output_type": "execute_result"
    }
   ],
   "source": [
    "# df_1.Category=df_1.Category.apply(lambda x:x.strip())\n",
    "# cat=df_1.groupby('Category')['Category'].agg('count').sort_values(ascending=False)\n",
    "cat=X.Category.value_counts()\n",
    "# cat[Cat>=53919]\n",
    "cat.head(39)"
   ]
  },
  {
   "cell_type": "code",
   "execution_count": 18,
   "id": "3adc0180",
   "metadata": {
    "ExecuteTime": {
     "end_time": "2022-07-28T15:00:24.507145Z",
     "start_time": "2022-07-28T15:00:24.495179Z"
    }
   },
   "outputs": [
    {
     "name": "stdout",
     "output_type": "stream",
     "text": [
      "total less than 1000: 34\n"
     ]
    },
    {
     "data": {
      "text/plain": [
       "VEHICLE THEFT                  53706\n",
       "VANDALISM                      44581\n",
       "WARRANTS                       42145\n",
       "BURGLARY                       36600\n",
       "SUSPICIOUS OCC                 31394\n",
       "MISSING PERSON                 25669\n",
       "ROBBERY                        22988\n",
       "FRAUD                          16637\n",
       "FORGERY/COUNTERFEITING         10592\n",
       "SECONDARY CODES                 9979\n",
       "WEAPON LAWS                     8550\n",
       "PROSTITUTION                    7446\n",
       "TRESPASS                        7318\n",
       "STOLEN PROPERTY                 4537\n",
       "SEX OFFENSES FORCIBLE           4380\n",
       "DISORDERLY CONDUCT              4313\n",
       "DRUNKENNESS                     4277\n",
       "RECOVERED VEHICLE               3132\n",
       "KIDNAPPING                      2340\n",
       "DRIVING UNDER THE INFLUENCE     2268\n",
       "LIQUOR LAWS                     1899\n",
       "RUNAWAY                         1894\n",
       "ARSON                           1512\n",
       "LOITERING                       1207\n",
       "EMBEZZLEMENT                    1164\n",
       "SUICIDE                          508\n",
       "FAMILY OFFENSES                  488\n",
       "BAD CHECKS                       406\n",
       "BRIBERY                          289\n",
       "EXTORTION                        256\n",
       "SEX OFFENSES NON FORCIBLE        148\n",
       "GAMBLING                         146\n",
       "PORNOGRAPHY/OBSCENE MAT           22\n",
       "TREA                               6\n",
       "Name: Category, dtype: int64"
      ]
     },
     "execution_count": 18,
     "metadata": {},
     "output_type": "execute_result"
    }
   ],
   "source": [
    "cat_less1000=cat[cat<53919]\n",
    "print(f'total less than 1000: {len(cat_less1000)}')\n",
    "cat_less1000"
   ]
  },
  {
   "cell_type": "code",
   "execution_count": 19,
   "id": "fd397ff1",
   "metadata": {
    "ExecuteTime": {
     "end_time": "2022-07-28T15:00:32.224810Z",
     "start_time": "2022-07-28T15:00:27.145995Z"
    }
   },
   "outputs": [
    {
     "data": {
      "text/html": [
       "<div>\n",
       "<style scoped>\n",
       "    .dataframe tbody tr th:only-of-type {\n",
       "        vertical-align: middle;\n",
       "    }\n",
       "\n",
       "    .dataframe tbody tr th {\n",
       "        vertical-align: top;\n",
       "    }\n",
       "\n",
       "    .dataframe thead th {\n",
       "        text-align: right;\n",
       "    }\n",
       "</style>\n",
       "<table border=\"1\" class=\"dataframe\">\n",
       "  <thead>\n",
       "    <tr style=\"text-align: right;\">\n",
       "      <th></th>\n",
       "      <th>Dates</th>\n",
       "      <th>Category</th>\n",
       "      <th>Descript</th>\n",
       "      <th>DayOfWeek</th>\n",
       "      <th>PdDistrict</th>\n",
       "      <th>Resolution</th>\n",
       "      <th>Address</th>\n",
       "      <th>X</th>\n",
       "      <th>Y</th>\n",
       "    </tr>\n",
       "  </thead>\n",
       "  <tbody>\n",
       "    <tr>\n",
       "      <th>1</th>\n",
       "      <td>2015-05-13 23:53:00</td>\n",
       "      <td>OTHER OFFENSES</td>\n",
       "      <td>TRAFFIC VIOLATION ARREST</td>\n",
       "      <td>Wednesday</td>\n",
       "      <td>NORTHERN</td>\n",
       "      <td>ARREST, BOOKED</td>\n",
       "      <td>other</td>\n",
       "      <td>-122.425892</td>\n",
       "      <td>37.774599</td>\n",
       "    </tr>\n",
       "    <tr>\n",
       "      <th>2</th>\n",
       "      <td>2015-05-13 23:33:00</td>\n",
       "      <td>OTHER OFFENSES</td>\n",
       "      <td>TRAFFIC VIOLATION ARREST</td>\n",
       "      <td>Wednesday</td>\n",
       "      <td>NORTHERN</td>\n",
       "      <td>ARREST, BOOKED</td>\n",
       "      <td>other</td>\n",
       "      <td>-122.424363</td>\n",
       "      <td>37.800414</td>\n",
       "    </tr>\n",
       "    <tr>\n",
       "      <th>3</th>\n",
       "      <td>2015-05-13 23:30:00</td>\n",
       "      <td>LARCENY/THEFT</td>\n",
       "      <td>GRAND THEFT FROM LOCKED AUTO</td>\n",
       "      <td>Wednesday</td>\n",
       "      <td>NORTHERN</td>\n",
       "      <td>NONE</td>\n",
       "      <td>other</td>\n",
       "      <td>-122.426995</td>\n",
       "      <td>37.800873</td>\n",
       "    </tr>\n",
       "    <tr>\n",
       "      <th>4</th>\n",
       "      <td>2015-05-13 23:30:00</td>\n",
       "      <td>LARCENY/THEFT</td>\n",
       "      <td>GRAND THEFT FROM LOCKED AUTO</td>\n",
       "      <td>Wednesday</td>\n",
       "      <td>PARK</td>\n",
       "      <td>NONE</td>\n",
       "      <td>other</td>\n",
       "      <td>-122.438738</td>\n",
       "      <td>37.771541</td>\n",
       "    </tr>\n",
       "    <tr>\n",
       "      <th>5</th>\n",
       "      <td>2015-05-13 23:30:00</td>\n",
       "      <td>LARCENY/THEFT</td>\n",
       "      <td>GRAND THEFT FROM UNLOCKED AUTO</td>\n",
       "      <td>Wednesday</td>\n",
       "      <td>INGLESIDE</td>\n",
       "      <td>NONE</td>\n",
       "      <td>other</td>\n",
       "      <td>-122.403252</td>\n",
       "      <td>37.713431</td>\n",
       "    </tr>\n",
       "    <tr>\n",
       "      <th>...</th>\n",
       "      <td>...</td>\n",
       "      <td>...</td>\n",
       "      <td>...</td>\n",
       "      <td>...</td>\n",
       "      <td>...</td>\n",
       "      <td>...</td>\n",
       "      <td>...</td>\n",
       "      <td>...</td>\n",
       "      <td>...</td>\n",
       "    </tr>\n",
       "    <tr>\n",
       "      <th>878041</th>\n",
       "      <td>2003-01-06 00:31:00</td>\n",
       "      <td>OTHER OFFENSES</td>\n",
       "      <td>DRIVERS LICENSE, SUSPENDED OR REVOKED</td>\n",
       "      <td>Monday</td>\n",
       "      <td>RICHMOND</td>\n",
       "      <td>ARREST, CITED</td>\n",
       "      <td>other</td>\n",
       "      <td>-122.472985</td>\n",
       "      <td>37.782552</td>\n",
       "    </tr>\n",
       "    <tr>\n",
       "      <th>878042</th>\n",
       "      <td>2003-01-06 00:20:00</td>\n",
       "      <td>ASSAULT</td>\n",
       "      <td>ATTEMPTED HOMICIDE WITH A GUN</td>\n",
       "      <td>Monday</td>\n",
       "      <td>BAYVIEW</td>\n",
       "      <td>ARREST, BOOKED</td>\n",
       "      <td>other</td>\n",
       "      <td>-122.389769</td>\n",
       "      <td>37.730564</td>\n",
       "    </tr>\n",
       "    <tr>\n",
       "      <th>878043</th>\n",
       "      <td>2003-01-06 00:20:00</td>\n",
       "      <td>OTHER OFFENSES</td>\n",
       "      <td>PAROLE VIOLATION</td>\n",
       "      <td>Monday</td>\n",
       "      <td>BAYVIEW</td>\n",
       "      <td>ARREST, BOOKED</td>\n",
       "      <td>other</td>\n",
       "      <td>-122.389769</td>\n",
       "      <td>37.730564</td>\n",
       "    </tr>\n",
       "    <tr>\n",
       "      <th>878045</th>\n",
       "      <td>2003-01-06 00:01:00</td>\n",
       "      <td>LARCENY/THEFT</td>\n",
       "      <td>GRAND THEFT FROM LOCKED AUTO</td>\n",
       "      <td>Monday</td>\n",
       "      <td>INGLESIDE</td>\n",
       "      <td>NONE</td>\n",
       "      <td>other</td>\n",
       "      <td>-122.447364</td>\n",
       "      <td>37.731948</td>\n",
       "    </tr>\n",
       "    <tr>\n",
       "      <th>878046</th>\n",
       "      <td>2003-01-06 00:01:00</td>\n",
       "      <td>LARCENY/THEFT</td>\n",
       "      <td>GRAND THEFT FROM LOCKED AUTO</td>\n",
       "      <td>Monday</td>\n",
       "      <td>SOUTHERN</td>\n",
       "      <td>NONE</td>\n",
       "      <td>other</td>\n",
       "      <td>-122.403390</td>\n",
       "      <td>37.780266</td>\n",
       "    </tr>\n",
       "  </tbody>\n",
       "</table>\n",
       "<p>522929 rows × 9 columns</p>\n",
       "</div>"
      ],
      "text/plain": [
       "                      Dates        Category  \\\n",
       "1       2015-05-13 23:53:00  OTHER OFFENSES   \n",
       "2       2015-05-13 23:33:00  OTHER OFFENSES   \n",
       "3       2015-05-13 23:30:00   LARCENY/THEFT   \n",
       "4       2015-05-13 23:30:00   LARCENY/THEFT   \n",
       "5       2015-05-13 23:30:00   LARCENY/THEFT   \n",
       "...                     ...             ...   \n",
       "878041  2003-01-06 00:31:00  OTHER OFFENSES   \n",
       "878042  2003-01-06 00:20:00         ASSAULT   \n",
       "878043  2003-01-06 00:20:00  OTHER OFFENSES   \n",
       "878045  2003-01-06 00:01:00   LARCENY/THEFT   \n",
       "878046  2003-01-06 00:01:00   LARCENY/THEFT   \n",
       "\n",
       "                                     Descript  DayOfWeek PdDistrict  \\\n",
       "1                    TRAFFIC VIOLATION ARREST  Wednesday   NORTHERN   \n",
       "2                    TRAFFIC VIOLATION ARREST  Wednesday   NORTHERN   \n",
       "3                GRAND THEFT FROM LOCKED AUTO  Wednesday   NORTHERN   \n",
       "4                GRAND THEFT FROM LOCKED AUTO  Wednesday       PARK   \n",
       "5              GRAND THEFT FROM UNLOCKED AUTO  Wednesday  INGLESIDE   \n",
       "...                                       ...        ...        ...   \n",
       "878041  DRIVERS LICENSE, SUSPENDED OR REVOKED     Monday   RICHMOND   \n",
       "878042          ATTEMPTED HOMICIDE WITH A GUN     Monday    BAYVIEW   \n",
       "878043                       PAROLE VIOLATION     Monday    BAYVIEW   \n",
       "878045           GRAND THEFT FROM LOCKED AUTO     Monday  INGLESIDE   \n",
       "878046           GRAND THEFT FROM LOCKED AUTO     Monday   SOUTHERN   \n",
       "\n",
       "            Resolution Address           X          Y  \n",
       "1       ARREST, BOOKED   other -122.425892  37.774599  \n",
       "2       ARREST, BOOKED   other -122.424363  37.800414  \n",
       "3                 NONE   other -122.426995  37.800873  \n",
       "4                 NONE   other -122.438738  37.771541  \n",
       "5                 NONE   other -122.403252  37.713431  \n",
       "...                ...     ...         ...        ...  \n",
       "878041   ARREST, CITED   other -122.472985  37.782552  \n",
       "878042  ARREST, BOOKED   other -122.389769  37.730564  \n",
       "878043  ARREST, BOOKED   other -122.389769  37.730564  \n",
       "878045            NONE   other -122.447364  37.731948  \n",
       "878046            NONE   other -122.403390  37.780266  \n",
       "\n",
       "[522929 rows x 9 columns]"
      ]
     },
     "execution_count": 19,
     "metadata": {},
     "output_type": "execute_result"
    }
   ],
   "source": [
    "for i in cat_less1000.index:\n",
    "    df_1=df_1[df_1.Category!=i]\n",
    "df_1"
   ]
  },
  {
   "cell_type": "code",
   "execution_count": 20,
   "id": "976a1b0b",
   "metadata": {
    "ExecuteTime": {
     "end_time": "2022-07-28T15:00:51.199262Z",
     "start_time": "2022-07-28T15:00:51.181313Z"
    }
   },
   "outputs": [
    {
     "data": {
      "text/plain": [
       "522929"
      ]
     },
     "execution_count": 20,
     "metadata": {},
     "output_type": "execute_result"
    }
   ],
   "source": [
    "len(df_1)"
   ]
  },
  {
   "cell_type": "code",
   "execution_count": 26,
   "id": "adb5ce1b",
   "metadata": {
    "ExecuteTime": {
     "end_time": "2022-07-28T15:04:17.155983Z",
     "start_time": "2022-07-28T15:04:17.102126Z"
    }
   },
   "outputs": [],
   "source": [
    "# df_1.drop( 'Resolution',axis=1,inplace=True)"
   ]
  },
  {
   "cell_type": "code",
   "execution_count": 27,
   "id": "d3db2d15",
   "metadata": {
    "ExecuteTime": {
     "end_time": "2022-07-28T15:04:21.316815Z",
     "start_time": "2022-07-28T15:04:21.296869Z"
    }
   },
   "outputs": [
    {
     "data": {
      "text/plain": [
       "Index(['Dates', 'Category', 'Descript', 'DayOfWeek', 'PdDistrict', 'Address',\n",
       "       'X', 'Y'],\n",
       "      dtype='object')"
      ]
     },
     "execution_count": 27,
     "metadata": {},
     "output_type": "execute_result"
    }
   ],
   "source": [
    "# df.columns"
   ]
  },
  {
   "cell_type": "code",
   "execution_count": 33,
   "id": "c6bd013d",
   "metadata": {
    "ExecuteTime": {
     "end_time": "2022-07-28T15:07:28.773311Z",
     "start_time": "2022-07-28T15:07:28.457110Z"
    }
   },
   "outputs": [],
   "source": [
    "# df_1.columns=['Dates', 'Category', 'Descript', 'DayOfWeek', 'PdDistrict', 'Address',  'lat', 'lon']\n",
    "# df.to_csv('sample.csv')"
   ]
  },
  {
   "cell_type": "markdown",
   "id": "8c715eef",
   "metadata": {},
   "source": [
    "# divid by _groupby_*Category* and the pick 700 sample from each group"
   ]
  },
  {
   "cell_type": "code",
   "execution_count": 29,
   "id": "282412a7",
   "metadata": {
    "ExecuteTime": {
     "end_time": "2022-07-28T15:05:52.899528Z",
     "start_time": "2022-07-28T15:05:52.847667Z"
    }
   },
   "outputs": [],
   "source": [
    "Categ=list(df_1.Category.unique())"
   ]
  },
  {
   "cell_type": "code",
   "execution_count": 85,
   "id": "49bf240f",
   "metadata": {
    "ExecuteTime": {
     "end_time": "2022-07-28T08:19:54.996249Z",
     "start_time": "2022-07-28T08:19:54.984281Z"
    }
   },
   "outputs": [],
   "source": [
    "# df_2=df_1[df_1.Category==Categ[0]].iloc[:1000]\n"
   ]
  },
  {
   "cell_type": "code",
   "execution_count": 30,
   "id": "ec97bb67",
   "metadata": {
    "ExecuteTime": {
     "end_time": "2022-07-28T15:06:17.138875Z",
     "start_time": "2022-07-28T15:06:16.410416Z"
    }
   },
   "outputs": [
    {
     "data": {
      "text/html": [
       "<div>\n",
       "<style scoped>\n",
       "    .dataframe tbody tr th:only-of-type {\n",
       "        vertical-align: middle;\n",
       "    }\n",
       "\n",
       "    .dataframe tbody tr th {\n",
       "        vertical-align: top;\n",
       "    }\n",
       "\n",
       "    .dataframe thead th {\n",
       "        text-align: right;\n",
       "    }\n",
       "</style>\n",
       "<table border=\"1\" class=\"dataframe\">\n",
       "  <thead>\n",
       "    <tr style=\"text-align: right;\">\n",
       "      <th></th>\n",
       "      <th>Dates</th>\n",
       "      <th>Category</th>\n",
       "      <th>Descript</th>\n",
       "      <th>DayOfWeek</th>\n",
       "      <th>PdDistrict</th>\n",
       "      <th>Address</th>\n",
       "      <th>lat</th>\n",
       "      <th>lon</th>\n",
       "    </tr>\n",
       "  </thead>\n",
       "  <tbody>\n",
       "    <tr>\n",
       "      <th>0</th>\n",
       "      <td>2015-05-13 23:53:00</td>\n",
       "      <td>OTHER OFFENSES</td>\n",
       "      <td>TRAFFIC VIOLATION ARREST</td>\n",
       "      <td>Wednesday</td>\n",
       "      <td>NORTHERN</td>\n",
       "      <td>other</td>\n",
       "      <td>-122.425892</td>\n",
       "      <td>37.774599</td>\n",
       "    </tr>\n",
       "    <tr>\n",
       "      <th>1</th>\n",
       "      <td>2015-05-13 23:33:00</td>\n",
       "      <td>OTHER OFFENSES</td>\n",
       "      <td>TRAFFIC VIOLATION ARREST</td>\n",
       "      <td>Wednesday</td>\n",
       "      <td>NORTHERN</td>\n",
       "      <td>other</td>\n",
       "      <td>-122.424363</td>\n",
       "      <td>37.800414</td>\n",
       "    </tr>\n",
       "    <tr>\n",
       "      <th>2</th>\n",
       "      <td>2015-05-13 22:30:00</td>\n",
       "      <td>OTHER OFFENSES</td>\n",
       "      <td>MISCELLANEOUS INVESTIGATION</td>\n",
       "      <td>Wednesday</td>\n",
       "      <td>TARAVAL</td>\n",
       "      <td>other</td>\n",
       "      <td>-122.487983</td>\n",
       "      <td>37.737667</td>\n",
       "    </tr>\n",
       "    <tr>\n",
       "      <th>3</th>\n",
       "      <td>2015-05-13 21:40:00</td>\n",
       "      <td>OTHER OFFENSES</td>\n",
       "      <td>TRAFFIC VIOLATION</td>\n",
       "      <td>Wednesday</td>\n",
       "      <td>BAYVIEW</td>\n",
       "      <td>other</td>\n",
       "      <td>-122.386401</td>\n",
       "      <td>37.738983</td>\n",
       "    </tr>\n",
       "    <tr>\n",
       "      <th>4</th>\n",
       "      <td>2015-05-13 20:56:00</td>\n",
       "      <td>OTHER OFFENSES</td>\n",
       "      <td>MISCELLANEOUS INVESTIGATION</td>\n",
       "      <td>Wednesday</td>\n",
       "      <td>TARAVAL</td>\n",
       "      <td>other</td>\n",
       "      <td>-122.499787</td>\n",
       "      <td>37.748518</td>\n",
       "    </tr>\n",
       "    <tr>\n",
       "      <th>...</th>\n",
       "      <td>...</td>\n",
       "      <td>...</td>\n",
       "      <td>...</td>\n",
       "      <td>...</td>\n",
       "      <td>...</td>\n",
       "      <td>...</td>\n",
       "      <td>...</td>\n",
       "      <td>...</td>\n",
       "    </tr>\n",
       "    <tr>\n",
       "      <th>24995</th>\n",
       "      <td>2013-07-09 13:32:00</td>\n",
       "      <td>DRUG/NARCOTIC</td>\n",
       "      <td>POSSESSION OF CONTROLLED SUBSTANCE FOR SALE</td>\n",
       "      <td>Tuesday</td>\n",
       "      <td>TENDERLOIN</td>\n",
       "      <td>other</td>\n",
       "      <td>-122.414218</td>\n",
       "      <td>37.783259</td>\n",
       "    </tr>\n",
       "    <tr>\n",
       "      <th>24996</th>\n",
       "      <td>2013-07-09 13:32:00</td>\n",
       "      <td>DRUG/NARCOTIC</td>\n",
       "      <td>SALE OF CONTROLLED SUBSTANCE</td>\n",
       "      <td>Tuesday</td>\n",
       "      <td>TENDERLOIN</td>\n",
       "      <td>other</td>\n",
       "      <td>-122.414218</td>\n",
       "      <td>37.783259</td>\n",
       "    </tr>\n",
       "    <tr>\n",
       "      <th>24997</th>\n",
       "      <td>2013-07-09 13:05:00</td>\n",
       "      <td>DRUG/NARCOTIC</td>\n",
       "      <td>POSSESSION OF METH-AMPHETAMINE</td>\n",
       "      <td>Tuesday</td>\n",
       "      <td>SOUTHERN</td>\n",
       "      <td>other</td>\n",
       "      <td>-122.420010</td>\n",
       "      <td>37.770110</td>\n",
       "    </tr>\n",
       "    <tr>\n",
       "      <th>24998</th>\n",
       "      <td>2013-07-09 13:00:00</td>\n",
       "      <td>DRUG/NARCOTIC</td>\n",
       "      <td>POSSESSION OF MARIJUANA</td>\n",
       "      <td>Tuesday</td>\n",
       "      <td>SOUTHERN</td>\n",
       "      <td>100 Block of 6TH ST</td>\n",
       "      <td>-122.407877</td>\n",
       "      <td>37.780388</td>\n",
       "    </tr>\n",
       "    <tr>\n",
       "      <th>24999</th>\n",
       "      <td>2013-07-09 12:45:00</td>\n",
       "      <td>DRUG/NARCOTIC</td>\n",
       "      <td>POSSESSION OF METH-AMPHETAMINE FOR SALE</td>\n",
       "      <td>Tuesday</td>\n",
       "      <td>NORTHERN</td>\n",
       "      <td>other</td>\n",
       "      <td>-122.416294</td>\n",
       "      <td>37.777494</td>\n",
       "    </tr>\n",
       "  </tbody>\n",
       "</table>\n",
       "<p>25000 rows × 8 columns</p>\n",
       "</div>"
      ],
      "text/plain": [
       "                     Dates        Category  \\\n",
       "0      2015-05-13 23:53:00  OTHER OFFENSES   \n",
       "1      2015-05-13 23:33:00  OTHER OFFENSES   \n",
       "2      2015-05-13 22:30:00  OTHER OFFENSES   \n",
       "3      2015-05-13 21:40:00  OTHER OFFENSES   \n",
       "4      2015-05-13 20:56:00  OTHER OFFENSES   \n",
       "...                    ...             ...   \n",
       "24995  2013-07-09 13:32:00   DRUG/NARCOTIC   \n",
       "24996  2013-07-09 13:32:00   DRUG/NARCOTIC   \n",
       "24997  2013-07-09 13:05:00   DRUG/NARCOTIC   \n",
       "24998  2013-07-09 13:00:00   DRUG/NARCOTIC   \n",
       "24999  2013-07-09 12:45:00   DRUG/NARCOTIC   \n",
       "\n",
       "                                          Descript  DayOfWeek  PdDistrict  \\\n",
       "0                         TRAFFIC VIOLATION ARREST  Wednesday    NORTHERN   \n",
       "1                         TRAFFIC VIOLATION ARREST  Wednesday    NORTHERN   \n",
       "2                      MISCELLANEOUS INVESTIGATION  Wednesday     TARAVAL   \n",
       "3                                TRAFFIC VIOLATION  Wednesday     BAYVIEW   \n",
       "4                      MISCELLANEOUS INVESTIGATION  Wednesday     TARAVAL   \n",
       "...                                            ...        ...         ...   \n",
       "24995  POSSESSION OF CONTROLLED SUBSTANCE FOR SALE    Tuesday  TENDERLOIN   \n",
       "24996                 SALE OF CONTROLLED SUBSTANCE    Tuesday  TENDERLOIN   \n",
       "24997               POSSESSION OF METH-AMPHETAMINE    Tuesday    SOUTHERN   \n",
       "24998                      POSSESSION OF MARIJUANA    Tuesday    SOUTHERN   \n",
       "24999      POSSESSION OF METH-AMPHETAMINE FOR SALE    Tuesday    NORTHERN   \n",
       "\n",
       "                   Address         lat        lon  \n",
       "0                    other -122.425892  37.774599  \n",
       "1                    other -122.424363  37.800414  \n",
       "2                    other -122.487983  37.737667  \n",
       "3                    other -122.386401  37.738983  \n",
       "4                    other -122.499787  37.748518  \n",
       "...                    ...         ...        ...  \n",
       "24995                other -122.414218  37.783259  \n",
       "24996                other -122.414218  37.783259  \n",
       "24997                other -122.420010  37.770110  \n",
       "24998  100 Block of 6TH ST -122.407877  37.780388  \n",
       "24999                other -122.416294  37.777494  \n",
       "\n",
       "[25000 rows x 8 columns]"
      ]
     },
     "execution_count": 30,
     "metadata": {},
     "output_type": "execute_result"
    }
   ],
   "source": [
    "total_sample_from_each_Category=5000\n",
    "df_2=df_1[df_1.Category==Categ[0]].iloc[:total_sample_from_each_Category]\n",
    "for i in Categ:\n",
    "    if list(df_1.Category.unique())[0]!=i:\n",
    "        df_2=pd.concat([df_2,df_1[df_1.Category==i].iloc[:total_sample_from_each_Category]],ignore_index=True)\n",
    "df_2"
   ]
  },
  {
   "cell_type": "code",
   "execution_count": 31,
   "id": "aa04b857",
   "metadata": {
    "ExecuteTime": {
     "end_time": "2022-07-28T15:06:22.958021Z",
     "start_time": "2022-07-28T15:06:22.932060Z"
    }
   },
   "outputs": [
    {
     "data": {
      "text/html": [
       "<div>\n",
       "<style scoped>\n",
       "    .dataframe tbody tr th:only-of-type {\n",
       "        vertical-align: middle;\n",
       "    }\n",
       "\n",
       "    .dataframe tbody tr th {\n",
       "        vertical-align: top;\n",
       "    }\n",
       "\n",
       "    .dataframe thead th {\n",
       "        text-align: right;\n",
       "    }\n",
       "</style>\n",
       "<table border=\"1\" class=\"dataframe\">\n",
       "  <thead>\n",
       "    <tr style=\"text-align: right;\">\n",
       "      <th></th>\n",
       "      <th>Dates</th>\n",
       "      <th>Category</th>\n",
       "      <th>Descript</th>\n",
       "      <th>DayOfWeek</th>\n",
       "      <th>PdDistrict</th>\n",
       "      <th>Address</th>\n",
       "      <th>lat</th>\n",
       "      <th>lon</th>\n",
       "    </tr>\n",
       "  </thead>\n",
       "  <tbody>\n",
       "    <tr>\n",
       "      <th>0</th>\n",
       "      <td>2015-03-06 00:25:00</td>\n",
       "      <td>OTHER OFFENSES</td>\n",
       "      <td>DRIVERS LICENSE, SUSPENDED OR REVOKED</td>\n",
       "      <td>Friday</td>\n",
       "      <td>RICHMOND</td>\n",
       "      <td>other</td>\n",
       "      <td>-122.453172</td>\n",
       "      <td>37.781715</td>\n",
       "    </tr>\n",
       "    <tr>\n",
       "      <th>1</th>\n",
       "      <td>2014-08-08 23:00:00</td>\n",
       "      <td>ASSAULT</td>\n",
       "      <td>BATTERY</td>\n",
       "      <td>Friday</td>\n",
       "      <td>SOUTHERN</td>\n",
       "      <td>other</td>\n",
       "      <td>-122.414027</td>\n",
       "      <td>37.771864</td>\n",
       "    </tr>\n",
       "    <tr>\n",
       "      <th>2</th>\n",
       "      <td>2015-03-07 00:41:00</td>\n",
       "      <td>NON-CRIMINAL</td>\n",
       "      <td>AIDED CASE</td>\n",
       "      <td>Saturday</td>\n",
       "      <td>PARK</td>\n",
       "      <td>other</td>\n",
       "      <td>-122.434769</td>\n",
       "      <td>37.772571</td>\n",
       "    </tr>\n",
       "    <tr>\n",
       "      <th>3</th>\n",
       "      <td>2015-02-02 22:30:00</td>\n",
       "      <td>NON-CRIMINAL</td>\n",
       "      <td>CASE CLOSURE</td>\n",
       "      <td>Monday</td>\n",
       "      <td>RICHMOND</td>\n",
       "      <td>other</td>\n",
       "      <td>-122.476440</td>\n",
       "      <td>37.783318</td>\n",
       "    </tr>\n",
       "    <tr>\n",
       "      <th>4</th>\n",
       "      <td>2015-03-17 12:11:00</td>\n",
       "      <td>NON-CRIMINAL</td>\n",
       "      <td>LOST PROPERTY</td>\n",
       "      <td>Tuesday</td>\n",
       "      <td>SOUTHERN</td>\n",
       "      <td>other</td>\n",
       "      <td>-122.403161</td>\n",
       "      <td>37.783691</td>\n",
       "    </tr>\n",
       "    <tr>\n",
       "      <th>...</th>\n",
       "      <td>...</td>\n",
       "      <td>...</td>\n",
       "      <td>...</td>\n",
       "      <td>...</td>\n",
       "      <td>...</td>\n",
       "      <td>...</td>\n",
       "      <td>...</td>\n",
       "      <td>...</td>\n",
       "    </tr>\n",
       "    <tr>\n",
       "      <th>24995</th>\n",
       "      <td>2013-11-12 21:06:00</td>\n",
       "      <td>DRUG/NARCOTIC</td>\n",
       "      <td>POSSESSION OF NARCOTICS PARAPHERNALIA</td>\n",
       "      <td>Tuesday</td>\n",
       "      <td>NORTHERN</td>\n",
       "      <td>other</td>\n",
       "      <td>-122.417594</td>\n",
       "      <td>37.784015</td>\n",
       "    </tr>\n",
       "    <tr>\n",
       "      <th>24996</th>\n",
       "      <td>2014-07-21 18:22:00</td>\n",
       "      <td>DRUG/NARCOTIC</td>\n",
       "      <td>SALE OF BASE/ROCK COCAINE</td>\n",
       "      <td>Monday</td>\n",
       "      <td>TENDERLOIN</td>\n",
       "      <td>other</td>\n",
       "      <td>-122.415128</td>\n",
       "      <td>37.779787</td>\n",
       "    </tr>\n",
       "    <tr>\n",
       "      <th>24997</th>\n",
       "      <td>2015-04-27 20:20:00</td>\n",
       "      <td>ASSAULT</td>\n",
       "      <td>AGGRAVATED ASSAULT WITH A DEADLY WEAPON</td>\n",
       "      <td>Monday</td>\n",
       "      <td>PARK</td>\n",
       "      <td>700 Block of STANYAN ST</td>\n",
       "      <td>-122.453513</td>\n",
       "      <td>37.768697</td>\n",
       "    </tr>\n",
       "    <tr>\n",
       "      <th>24998</th>\n",
       "      <td>2015-02-17 09:30:00</td>\n",
       "      <td>LARCENY/THEFT</td>\n",
       "      <td>PETTY THEFT FROM LOCKED AUTO</td>\n",
       "      <td>Tuesday</td>\n",
       "      <td>TENDERLOIN</td>\n",
       "      <td>other</td>\n",
       "      <td>-122.412597</td>\n",
       "      <td>37.783932</td>\n",
       "    </tr>\n",
       "    <tr>\n",
       "      <th>24999</th>\n",
       "      <td>2013-08-09 18:51:00</td>\n",
       "      <td>DRUG/NARCOTIC</td>\n",
       "      <td>POSSESSION OF NARCOTICS PARAPHERNALIA</td>\n",
       "      <td>Friday</td>\n",
       "      <td>SOUTHERN</td>\n",
       "      <td>0 Block of 6TH ST</td>\n",
       "      <td>-122.408913</td>\n",
       "      <td>37.781212</td>\n",
       "    </tr>\n",
       "  </tbody>\n",
       "</table>\n",
       "<p>25000 rows × 8 columns</p>\n",
       "</div>"
      ],
      "text/plain": [
       "                     Dates        Category  \\\n",
       "0      2015-03-06 00:25:00  OTHER OFFENSES   \n",
       "1      2014-08-08 23:00:00         ASSAULT   \n",
       "2      2015-03-07 00:41:00    NON-CRIMINAL   \n",
       "3      2015-02-02 22:30:00    NON-CRIMINAL   \n",
       "4      2015-03-17 12:11:00    NON-CRIMINAL   \n",
       "...                    ...             ...   \n",
       "24995  2013-11-12 21:06:00   DRUG/NARCOTIC   \n",
       "24996  2014-07-21 18:22:00   DRUG/NARCOTIC   \n",
       "24997  2015-04-27 20:20:00         ASSAULT   \n",
       "24998  2015-02-17 09:30:00   LARCENY/THEFT   \n",
       "24999  2013-08-09 18:51:00   DRUG/NARCOTIC   \n",
       "\n",
       "                                      Descript DayOfWeek  PdDistrict  \\\n",
       "0        DRIVERS LICENSE, SUSPENDED OR REVOKED    Friday    RICHMOND   \n",
       "1                                      BATTERY    Friday    SOUTHERN   \n",
       "2                                   AIDED CASE  Saturday        PARK   \n",
       "3                                 CASE CLOSURE    Monday    RICHMOND   \n",
       "4                                LOST PROPERTY   Tuesday    SOUTHERN   \n",
       "...                                        ...       ...         ...   \n",
       "24995    POSSESSION OF NARCOTICS PARAPHERNALIA   Tuesday    NORTHERN   \n",
       "24996                SALE OF BASE/ROCK COCAINE    Monday  TENDERLOIN   \n",
       "24997  AGGRAVATED ASSAULT WITH A DEADLY WEAPON    Monday        PARK   \n",
       "24998             PETTY THEFT FROM LOCKED AUTO   Tuesday  TENDERLOIN   \n",
       "24999    POSSESSION OF NARCOTICS PARAPHERNALIA    Friday    SOUTHERN   \n",
       "\n",
       "                       Address         lat        lon  \n",
       "0                        other -122.453172  37.781715  \n",
       "1                        other -122.414027  37.771864  \n",
       "2                        other -122.434769  37.772571  \n",
       "3                        other -122.476440  37.783318  \n",
       "4                        other -122.403161  37.783691  \n",
       "...                        ...         ...        ...  \n",
       "24995                    other -122.417594  37.784015  \n",
       "24996                    other -122.415128  37.779787  \n",
       "24997  700 Block of STANYAN ST -122.453513  37.768697  \n",
       "24998                    other -122.412597  37.783932  \n",
       "24999        0 Block of 6TH ST -122.408913  37.781212  \n",
       "\n",
       "[25000 rows x 8 columns]"
      ]
     },
     "execution_count": 31,
     "metadata": {},
     "output_type": "execute_result"
    }
   ],
   "source": [
    "shuffled = df_2.sample(frac=1,ignore_index=True)\n",
    "shuffled"
   ]
  },
  {
   "cell_type": "code",
   "execution_count": 32,
   "id": "431c6183",
   "metadata": {
    "ExecuteTime": {
     "end_time": "2022-07-28T15:06:27.000665Z",
     "start_time": "2022-07-28T15:06:26.986700Z"
    }
   },
   "outputs": [],
   "source": [
    "df=shuffled.copy()"
   ]
  },
  {
   "cell_type": "code",
   "execution_count": 89,
   "id": "21bed1be",
   "metadata": {
    "ExecuteTime": {
     "end_time": "2022-07-28T08:19:57.740246Z",
     "start_time": "2022-07-28T08:19:56.782724Z"
    }
   },
   "outputs": [
    {
     "data": {
      "image/png": "[encoded data removed]",
      "text/plain": [
       "<Figure size 1440x1440 with 2 Axes>"
      ]
     },
     "metadata": {
      "needs_background": "light"
     },
     "output_type": "display_data"
    }
   ],
   "source": [
    "import seaborn as sns\n",
    "import matplotlib\n",
    "matplotlib.rcParams['figure.figsize'] = [20, 20]\n",
    "# labels = ['True Neg','False Pos','False Neg','True Pos']\n",
    "\n",
    "# labels = np.asarray(labels).reshape(2,2)\n",
    "\n",
    "ax = sns.heatmap(df.corr(), fmt='',)\n",
    "\n",
    "ax.set_title('Seaborn Confusion Matrix with labels\\n\\n');\n",
    "# ax.set_xlabel('\\nPredicted Values')\n",
    "# ax.set_ylabel('Actual Values ');\n",
    "\n",
    "## Ticket labels - List must be in alphabetical order\n",
    "# ax.xaxis.set_ticklabels(['False','True'])\n",
    "# ax.yaxis.set_ticklabels(['False','True'])\n",
    "\n",
    "## Display the visualization of the Confusion Matrix.\n",
    "plt.show()"
   ]
  },
  {
   "cell_type": "code",
   "execution_count": 90,
   "id": "f6418808",
   "metadata": {
    "ExecuteTime": {
     "end_time": "2022-07-28T08:19:57.957568Z",
     "start_time": "2022-07-28T08:19:57.743239Z"
    }
   },
   "outputs": [
    {
     "data": {
      "text/html": [
       "<div>\n",
       "<style scoped>\n",
       "    .dataframe tbody tr th:only-of-type {\n",
       "        vertical-align: middle;\n",
       "    }\n",
       "\n",
       "    .dataframe tbody tr th {\n",
       "        vertical-align: top;\n",
       "    }\n",
       "\n",
       "    .dataframe thead th {\n",
       "        text-align: right;\n",
       "    }\n",
       "</style>\n",
       "<table border=\"1\" class=\"dataframe\">\n",
       "  <thead>\n",
       "    <tr style=\"text-align: right;\">\n",
       "      <th></th>\n",
       "      <th>0 Block of 6TH ST</th>\n",
       "      <th>0 Block of JONES ST</th>\n",
       "      <th>0 Block of OFARRELL ST</th>\n",
       "      <th>0 Block of PHELAN AV</th>\n",
       "      <th>0 Block of POWELL ST</th>\n",
       "      <th>0 Block of TURK ST</th>\n",
       "      <th>0 Block of UNITEDNATIONS PZ</th>\n",
       "      <th>100 Block of 6TH ST</th>\n",
       "      <th>100 Block of EDDY ST</th>\n",
       "      <th>100 Block of GOLDEN GATE AV</th>\n",
       "      <th>...</th>\n",
       "      <th>700 Block of STANYAN ST</th>\n",
       "      <th>800 Block of BRYANT ST</th>\n",
       "      <th>800 Block of MARKET ST</th>\n",
       "      <th>900 Block of MARKET ST</th>\n",
       "      <th>900 Block of POTRERO AV</th>\n",
       "      <th>ELLIS ST / JONES ST</th>\n",
       "      <th>MISSION ST / 16TH ST</th>\n",
       "      <th>TURK ST / LEAVENWORTH ST</th>\n",
       "      <th>TURK ST / TAYLOR ST</th>\n",
       "      <th>other</th>\n",
       "    </tr>\n",
       "  </thead>\n",
       "  <tbody>\n",
       "    <tr>\n",
       "      <th>0</th>\n",
       "      <td>0</td>\n",
       "      <td>0</td>\n",
       "      <td>0</td>\n",
       "      <td>0</td>\n",
       "      <td>0</td>\n",
       "      <td>0</td>\n",
       "      <td>0</td>\n",
       "      <td>0</td>\n",
       "      <td>0</td>\n",
       "      <td>0</td>\n",
       "      <td>...</td>\n",
       "      <td>0</td>\n",
       "      <td>0</td>\n",
       "      <td>0</td>\n",
       "      <td>0</td>\n",
       "      <td>0</td>\n",
       "      <td>0</td>\n",
       "      <td>0</td>\n",
       "      <td>0</td>\n",
       "      <td>0</td>\n",
       "      <td>1</td>\n",
       "    </tr>\n",
       "    <tr>\n",
       "      <th>1</th>\n",
       "      <td>0</td>\n",
       "      <td>0</td>\n",
       "      <td>0</td>\n",
       "      <td>0</td>\n",
       "      <td>0</td>\n",
       "      <td>0</td>\n",
       "      <td>0</td>\n",
       "      <td>0</td>\n",
       "      <td>0</td>\n",
       "      <td>0</td>\n",
       "      <td>...</td>\n",
       "      <td>0</td>\n",
       "      <td>0</td>\n",
       "      <td>0</td>\n",
       "      <td>0</td>\n",
       "      <td>0</td>\n",
       "      <td>0</td>\n",
       "      <td>0</td>\n",
       "      <td>0</td>\n",
       "      <td>0</td>\n",
       "      <td>1</td>\n",
       "    </tr>\n",
       "    <tr>\n",
       "      <th>2</th>\n",
       "      <td>0</td>\n",
       "      <td>0</td>\n",
       "      <td>0</td>\n",
       "      <td>0</td>\n",
       "      <td>0</td>\n",
       "      <td>0</td>\n",
       "      <td>0</td>\n",
       "      <td>0</td>\n",
       "      <td>0</td>\n",
       "      <td>0</td>\n",
       "      <td>...</td>\n",
       "      <td>0</td>\n",
       "      <td>0</td>\n",
       "      <td>0</td>\n",
       "      <td>0</td>\n",
       "      <td>0</td>\n",
       "      <td>0</td>\n",
       "      <td>0</td>\n",
       "      <td>0</td>\n",
       "      <td>0</td>\n",
       "      <td>1</td>\n",
       "    </tr>\n",
       "    <tr>\n",
       "      <th>3</th>\n",
       "      <td>0</td>\n",
       "      <td>0</td>\n",
       "      <td>0</td>\n",
       "      <td>0</td>\n",
       "      <td>0</td>\n",
       "      <td>0</td>\n",
       "      <td>0</td>\n",
       "      <td>0</td>\n",
       "      <td>0</td>\n",
       "      <td>0</td>\n",
       "      <td>...</td>\n",
       "      <td>0</td>\n",
       "      <td>0</td>\n",
       "      <td>1</td>\n",
       "      <td>0</td>\n",
       "      <td>0</td>\n",
       "      <td>0</td>\n",
       "      <td>0</td>\n",
       "      <td>0</td>\n",
       "      <td>0</td>\n",
       "      <td>0</td>\n",
       "    </tr>\n",
       "    <tr>\n",
       "      <th>4</th>\n",
       "      <td>0</td>\n",
       "      <td>0</td>\n",
       "      <td>0</td>\n",
       "      <td>0</td>\n",
       "      <td>0</td>\n",
       "      <td>0</td>\n",
       "      <td>0</td>\n",
       "      <td>0</td>\n",
       "      <td>0</td>\n",
       "      <td>0</td>\n",
       "      <td>...</td>\n",
       "      <td>0</td>\n",
       "      <td>0</td>\n",
       "      <td>0</td>\n",
       "      <td>0</td>\n",
       "      <td>0</td>\n",
       "      <td>0</td>\n",
       "      <td>0</td>\n",
       "      <td>0</td>\n",
       "      <td>0</td>\n",
       "      <td>1</td>\n",
       "    </tr>\n",
       "    <tr>\n",
       "      <th>...</th>\n",
       "      <td>...</td>\n",
       "      <td>...</td>\n",
       "      <td>...</td>\n",
       "      <td>...</td>\n",
       "      <td>...</td>\n",
       "      <td>...</td>\n",
       "      <td>...</td>\n",
       "      <td>...</td>\n",
       "      <td>...</td>\n",
       "      <td>...</td>\n",
       "      <td>...</td>\n",
       "      <td>...</td>\n",
       "      <td>...</td>\n",
       "      <td>...</td>\n",
       "      <td>...</td>\n",
       "      <td>...</td>\n",
       "      <td>...</td>\n",
       "      <td>...</td>\n",
       "      <td>...</td>\n",
       "      <td>...</td>\n",
       "      <td>...</td>\n",
       "    </tr>\n",
       "    <tr>\n",
       "      <th>249995</th>\n",
       "      <td>0</td>\n",
       "      <td>0</td>\n",
       "      <td>0</td>\n",
       "      <td>0</td>\n",
       "      <td>0</td>\n",
       "      <td>0</td>\n",
       "      <td>0</td>\n",
       "      <td>0</td>\n",
       "      <td>0</td>\n",
       "      <td>0</td>\n",
       "      <td>...</td>\n",
       "      <td>0</td>\n",
       "      <td>0</td>\n",
       "      <td>0</td>\n",
       "      <td>0</td>\n",
       "      <td>0</td>\n",
       "      <td>0</td>\n",
       "      <td>0</td>\n",
       "      <td>0</td>\n",
       "      <td>0</td>\n",
       "      <td>1</td>\n",
       "    </tr>\n",
       "    <tr>\n",
       "      <th>249996</th>\n",
       "      <td>0</td>\n",
       "      <td>0</td>\n",
       "      <td>0</td>\n",
       "      <td>0</td>\n",
       "      <td>0</td>\n",
       "      <td>0</td>\n",
       "      <td>0</td>\n",
       "      <td>0</td>\n",
       "      <td>0</td>\n",
       "      <td>0</td>\n",
       "      <td>...</td>\n",
       "      <td>0</td>\n",
       "      <td>0</td>\n",
       "      <td>0</td>\n",
       "      <td>0</td>\n",
       "      <td>0</td>\n",
       "      <td>0</td>\n",
       "      <td>0</td>\n",
       "      <td>0</td>\n",
       "      <td>0</td>\n",
       "      <td>1</td>\n",
       "    </tr>\n",
       "    <tr>\n",
       "      <th>249997</th>\n",
       "      <td>0</td>\n",
       "      <td>0</td>\n",
       "      <td>0</td>\n",
       "      <td>0</td>\n",
       "      <td>0</td>\n",
       "      <td>0</td>\n",
       "      <td>0</td>\n",
       "      <td>0</td>\n",
       "      <td>0</td>\n",
       "      <td>0</td>\n",
       "      <td>...</td>\n",
       "      <td>0</td>\n",
       "      <td>1</td>\n",
       "      <td>0</td>\n",
       "      <td>0</td>\n",
       "      <td>0</td>\n",
       "      <td>0</td>\n",
       "      <td>0</td>\n",
       "      <td>0</td>\n",
       "      <td>0</td>\n",
       "      <td>0</td>\n",
       "    </tr>\n",
       "    <tr>\n",
       "      <th>249998</th>\n",
       "      <td>0</td>\n",
       "      <td>0</td>\n",
       "      <td>0</td>\n",
       "      <td>0</td>\n",
       "      <td>0</td>\n",
       "      <td>0</td>\n",
       "      <td>0</td>\n",
       "      <td>0</td>\n",
       "      <td>0</td>\n",
       "      <td>0</td>\n",
       "      <td>...</td>\n",
       "      <td>0</td>\n",
       "      <td>0</td>\n",
       "      <td>0</td>\n",
       "      <td>0</td>\n",
       "      <td>0</td>\n",
       "      <td>0</td>\n",
       "      <td>0</td>\n",
       "      <td>0</td>\n",
       "      <td>0</td>\n",
       "      <td>1</td>\n",
       "    </tr>\n",
       "    <tr>\n",
       "      <th>249999</th>\n",
       "      <td>0</td>\n",
       "      <td>0</td>\n",
       "      <td>0</td>\n",
       "      <td>0</td>\n",
       "      <td>0</td>\n",
       "      <td>0</td>\n",
       "      <td>0</td>\n",
       "      <td>0</td>\n",
       "      <td>0</td>\n",
       "      <td>0</td>\n",
       "      <td>...</td>\n",
       "      <td>0</td>\n",
       "      <td>0</td>\n",
       "      <td>0</td>\n",
       "      <td>0</td>\n",
       "      <td>0</td>\n",
       "      <td>0</td>\n",
       "      <td>0</td>\n",
       "      <td>0</td>\n",
       "      <td>0</td>\n",
       "      <td>1</td>\n",
       "    </tr>\n",
       "  </tbody>\n",
       "</table>\n",
       "<p>250000 rows × 51 columns</p>\n",
       "</div>"
      ],
      "text/plain": [
       "        0 Block of 6TH ST  0 Block of JONES ST  0 Block of OFARRELL ST  \\\n",
       "0                       0                    0                       0   \n",
       "1                       0                    0                       0   \n",
       "2                       0                    0                       0   \n",
       "3                       0                    0                       0   \n",
       "4                       0                    0                       0   \n",
       "...                   ...                  ...                     ...   \n",
       "249995                  0                    0                       0   \n",
       "249996                  0                    0                       0   \n",
       "249997                  0                    0                       0   \n",
       "249998                  0                    0                       0   \n",
       "249999                  0                    0                       0   \n",
       "\n",
       "        0 Block of PHELAN AV  0 Block of POWELL ST  0 Block of TURK ST  \\\n",
       "0                          0                     0                   0   \n",
       "1                          0                     0                   0   \n",
       "2                          0                     0                   0   \n",
       "3                          0                     0                   0   \n",
       "4                          0                     0                   0   \n",
       "...                      ...                   ...                 ...   \n",
       "249995                     0                     0                   0   \n",
       "249996                     0                     0                   0   \n",
       "249997                     0                     0                   0   \n",
       "249998                     0                     0                   0   \n",
       "249999                     0                     0                   0   \n",
       "\n",
       "        0 Block of UNITEDNATIONS PZ  100 Block of 6TH ST  \\\n",
       "0                                 0                    0   \n",
       "1                                 0                    0   \n",
       "2                                 0                    0   \n",
       "3                                 0                    0   \n",
       "4                                 0                    0   \n",
       "...                             ...                  ...   \n",
       "249995                            0                    0   \n",
       "249996                            0                    0   \n",
       "249997                            0                    0   \n",
       "249998                            0                    0   \n",
       "249999                            0                    0   \n",
       "\n",
       "        100 Block of EDDY ST  100 Block of GOLDEN GATE AV  ...  \\\n",
       "0                          0                            0  ...   \n",
       "1                          0                            0  ...   \n",
       "2                          0                            0  ...   \n",
       "3                          0                            0  ...   \n",
       "4                          0                            0  ...   \n",
       "...                      ...                          ...  ...   \n",
       "249995                     0                            0  ...   \n",
       "249996                     0                            0  ...   \n",
       "249997                     0                            0  ...   \n",
       "249998                     0                            0  ...   \n",
       "249999                     0                            0  ...   \n",
       "\n",
       "        700 Block of STANYAN ST  800 Block of BRYANT ST  \\\n",
       "0                             0                       0   \n",
       "1                             0                       0   \n",
       "2                             0                       0   \n",
       "3                             0                       0   \n",
       "4                             0                       0   \n",
       "...                         ...                     ...   \n",
       "249995                        0                       0   \n",
       "249996                        0                       0   \n",
       "249997                        0                       1   \n",
       "249998                        0                       0   \n",
       "249999                        0                       0   \n",
       "\n",
       "        800 Block of MARKET ST  900 Block of MARKET ST  \\\n",
       "0                            0                       0   \n",
       "1                            0                       0   \n",
       "2                            0                       0   \n",
       "3                            1                       0   \n",
       "4                            0                       0   \n",
       "...                        ...                     ...   \n",
       "249995                       0                       0   \n",
       "249996                       0                       0   \n",
       "249997                       0                       0   \n",
       "249998                       0                       0   \n",
       "249999                       0                       0   \n",
       "\n",
       "        900 Block of POTRERO AV  ELLIS ST / JONES ST  MISSION ST / 16TH ST  \\\n",
       "0                             0                    0                     0   \n",
       "1                             0                    0                     0   \n",
       "2                             0                    0                     0   \n",
       "3                             0                    0                     0   \n",
       "4                             0                    0                     0   \n",
       "...                         ...                  ...                   ...   \n",
       "249995                        0                    0                     0   \n",
       "249996                        0                    0                     0   \n",
       "249997                        0                    0                     0   \n",
       "249998                        0                    0                     0   \n",
       "249999                        0                    0                     0   \n",
       "\n",
       "        TURK ST / LEAVENWORTH ST  TURK ST / TAYLOR ST  other  \n",
       "0                              0                    0      1  \n",
       "1                              0                    0      1  \n",
       "2                              0                    0      1  \n",
       "3                              0                    0      0  \n",
       "4                              0                    0      1  \n",
       "...                          ...                  ...    ...  \n",
       "249995                         0                    0      1  \n",
       "249996                         0                    0      1  \n",
       "249997                         0                    0      0  \n",
       "249998                         0                    0      1  \n",
       "249999                         0                    0      1  \n",
       "\n",
       "[250000 rows x 51 columns]"
      ]
     },
     "execution_count": 90,
     "metadata": {},
     "output_type": "execute_result"
    }
   ],
   "source": [
    "dumies=pd.get_dummies(df.Address)\n",
    "dumies"
   ]
  },
  {
   "cell_type": "code",
   "execution_count": 91,
   "id": "de744498",
   "metadata": {
    "ExecuteTime": {
     "end_time": "2022-07-28T08:19:58.066989Z",
     "start_time": "2022-07-28T08:19:57.960559Z"
    }
   },
   "outputs": [
    {
     "data": {
      "text/html": [
       "<div>\n",
       "<style scoped>\n",
       "    .dataframe tbody tr th:only-of-type {\n",
       "        vertical-align: middle;\n",
       "    }\n",
       "\n",
       "    .dataframe tbody tr th {\n",
       "        vertical-align: top;\n",
       "    }\n",
       "\n",
       "    .dataframe thead th {\n",
       "        text-align: right;\n",
       "    }\n",
       "</style>\n",
       "<table border=\"1\" class=\"dataframe\">\n",
       "  <thead>\n",
       "    <tr style=\"text-align: right;\">\n",
       "      <th></th>\n",
       "      <th>BAYVIEW</th>\n",
       "      <th>CENTRAL</th>\n",
       "      <th>INGLESIDE</th>\n",
       "      <th>MISSION</th>\n",
       "      <th>NORTHERN</th>\n",
       "      <th>PARK</th>\n",
       "      <th>RICHMOND</th>\n",
       "      <th>SOUTHERN</th>\n",
       "      <th>TARAVAL</th>\n",
       "      <th>TENDERLOIN</th>\n",
       "    </tr>\n",
       "  </thead>\n",
       "  <tbody>\n",
       "    <tr>\n",
       "      <th>0</th>\n",
       "      <td>1</td>\n",
       "      <td>0</td>\n",
       "      <td>0</td>\n",
       "      <td>0</td>\n",
       "      <td>0</td>\n",
       "      <td>0</td>\n",
       "      <td>0</td>\n",
       "      <td>0</td>\n",
       "      <td>0</td>\n",
       "      <td>0</td>\n",
       "    </tr>\n",
       "    <tr>\n",
       "      <th>1</th>\n",
       "      <td>0</td>\n",
       "      <td>0</td>\n",
       "      <td>0</td>\n",
       "      <td>0</td>\n",
       "      <td>1</td>\n",
       "      <td>0</td>\n",
       "      <td>0</td>\n",
       "      <td>0</td>\n",
       "      <td>0</td>\n",
       "      <td>0</td>\n",
       "    </tr>\n",
       "    <tr>\n",
       "      <th>2</th>\n",
       "      <td>0</td>\n",
       "      <td>0</td>\n",
       "      <td>0</td>\n",
       "      <td>0</td>\n",
       "      <td>0</td>\n",
       "      <td>0</td>\n",
       "      <td>0</td>\n",
       "      <td>1</td>\n",
       "      <td>0</td>\n",
       "      <td>0</td>\n",
       "    </tr>\n",
       "    <tr>\n",
       "      <th>3</th>\n",
       "      <td>0</td>\n",
       "      <td>0</td>\n",
       "      <td>0</td>\n",
       "      <td>0</td>\n",
       "      <td>0</td>\n",
       "      <td>0</td>\n",
       "      <td>0</td>\n",
       "      <td>1</td>\n",
       "      <td>0</td>\n",
       "      <td>0</td>\n",
       "    </tr>\n",
       "    <tr>\n",
       "      <th>4</th>\n",
       "      <td>0</td>\n",
       "      <td>0</td>\n",
       "      <td>0</td>\n",
       "      <td>0</td>\n",
       "      <td>0</td>\n",
       "      <td>0</td>\n",
       "      <td>0</td>\n",
       "      <td>0</td>\n",
       "      <td>0</td>\n",
       "      <td>1</td>\n",
       "    </tr>\n",
       "    <tr>\n",
       "      <th>...</th>\n",
       "      <td>...</td>\n",
       "      <td>...</td>\n",
       "      <td>...</td>\n",
       "      <td>...</td>\n",
       "      <td>...</td>\n",
       "      <td>...</td>\n",
       "      <td>...</td>\n",
       "      <td>...</td>\n",
       "      <td>...</td>\n",
       "      <td>...</td>\n",
       "    </tr>\n",
       "    <tr>\n",
       "      <th>249995</th>\n",
       "      <td>0</td>\n",
       "      <td>0</td>\n",
       "      <td>0</td>\n",
       "      <td>0</td>\n",
       "      <td>1</td>\n",
       "      <td>0</td>\n",
       "      <td>0</td>\n",
       "      <td>0</td>\n",
       "      <td>0</td>\n",
       "      <td>0</td>\n",
       "    </tr>\n",
       "    <tr>\n",
       "      <th>249996</th>\n",
       "      <td>0</td>\n",
       "      <td>0</td>\n",
       "      <td>0</td>\n",
       "      <td>0</td>\n",
       "      <td>0</td>\n",
       "      <td>0</td>\n",
       "      <td>1</td>\n",
       "      <td>0</td>\n",
       "      <td>0</td>\n",
       "      <td>0</td>\n",
       "    </tr>\n",
       "    <tr>\n",
       "      <th>249997</th>\n",
       "      <td>0</td>\n",
       "      <td>0</td>\n",
       "      <td>0</td>\n",
       "      <td>0</td>\n",
       "      <td>0</td>\n",
       "      <td>0</td>\n",
       "      <td>0</td>\n",
       "      <td>1</td>\n",
       "      <td>0</td>\n",
       "      <td>0</td>\n",
       "    </tr>\n",
       "    <tr>\n",
       "      <th>249998</th>\n",
       "      <td>0</td>\n",
       "      <td>1</td>\n",
       "      <td>0</td>\n",
       "      <td>0</td>\n",
       "      <td>0</td>\n",
       "      <td>0</td>\n",
       "      <td>0</td>\n",
       "      <td>0</td>\n",
       "      <td>0</td>\n",
       "      <td>0</td>\n",
       "    </tr>\n",
       "    <tr>\n",
       "      <th>249999</th>\n",
       "      <td>0</td>\n",
       "      <td>0</td>\n",
       "      <td>0</td>\n",
       "      <td>0</td>\n",
       "      <td>0</td>\n",
       "      <td>1</td>\n",
       "      <td>0</td>\n",
       "      <td>0</td>\n",
       "      <td>0</td>\n",
       "      <td>0</td>\n",
       "    </tr>\n",
       "  </tbody>\n",
       "</table>\n",
       "<p>250000 rows × 10 columns</p>\n",
       "</div>"
      ],
      "text/plain": [
       "        BAYVIEW  CENTRAL  INGLESIDE  MISSION  NORTHERN  PARK  RICHMOND  \\\n",
       "0             1        0          0        0         0     0         0   \n",
       "1             0        0          0        0         1     0         0   \n",
       "2             0        0          0        0         0     0         0   \n",
       "3             0        0          0        0         0     0         0   \n",
       "4             0        0          0        0         0     0         0   \n",
       "...         ...      ...        ...      ...       ...   ...       ...   \n",
       "249995        0        0          0        0         1     0         0   \n",
       "249996        0        0          0        0         0     0         1   \n",
       "249997        0        0          0        0         0     0         0   \n",
       "249998        0        1          0        0         0     0         0   \n",
       "249999        0        0          0        0         0     1         0   \n",
       "\n",
       "        SOUTHERN  TARAVAL  TENDERLOIN  \n",
       "0              0        0           0  \n",
       "1              0        0           0  \n",
       "2              1        0           0  \n",
       "3              1        0           0  \n",
       "4              0        0           1  \n",
       "...          ...      ...         ...  \n",
       "249995         0        0           0  \n",
       "249996         0        0           0  \n",
       "249997         1        0           0  \n",
       "249998         0        0           0  \n",
       "249999         0        0           0  \n",
       "\n",
       "[250000 rows x 10 columns]"
      ]
     },
     "execution_count": 91,
     "metadata": {},
     "output_type": "execute_result"
    }
   ],
   "source": [
    "dumies1=pd.get_dummies(df.PdDistrict)\n",
    "dumies1"
   ]
  },
  {
   "cell_type": "code",
   "execution_count": 92,
   "id": "2c314c46",
   "metadata": {
    "ExecuteTime": {
     "end_time": "2022-07-28T08:19:58.082947Z",
     "start_time": "2022-07-28T08:19:58.069988Z"
    }
   },
   "outputs": [],
   "source": [
    "# dumies2=pd.get_dummies(df.DayOfWeek)\n",
    "# dumies2"
   ]
  },
  {
   "cell_type": "code",
   "execution_count": 93,
   "id": "8663b56a",
   "metadata": {
    "ExecuteTime": {
     "end_time": "2022-07-28T08:19:58.302693Z",
     "start_time": "2022-07-28T08:19:58.085939Z"
    }
   },
   "outputs": [
    {
     "data": {
      "text/html": [
       "<div>\n",
       "<style scoped>\n",
       "    .dataframe tbody tr th:only-of-type {\n",
       "        vertical-align: middle;\n",
       "    }\n",
       "\n",
       "    .dataframe tbody tr th {\n",
       "        vertical-align: top;\n",
       "    }\n",
       "\n",
       "    .dataframe thead th {\n",
       "        text-align: right;\n",
       "    }\n",
       "</style>\n",
       "<table border=\"1\" class=\"dataframe\">\n",
       "  <thead>\n",
       "    <tr style=\"text-align: right;\">\n",
       "      <th></th>\n",
       "      <th>Dates</th>\n",
       "      <th>Category</th>\n",
       "      <th>Descript</th>\n",
       "      <th>DayOfWeek</th>\n",
       "      <th>PdDistrict</th>\n",
       "      <th>Resolution</th>\n",
       "      <th>Address</th>\n",
       "      <th>X</th>\n",
       "      <th>Y</th>\n",
       "      <th>year</th>\n",
       "      <th>...</th>\n",
       "      <th>TURK ST / TAYLOR ST</th>\n",
       "      <th>BAYVIEW</th>\n",
       "      <th>CENTRAL</th>\n",
       "      <th>INGLESIDE</th>\n",
       "      <th>MISSION</th>\n",
       "      <th>NORTHERN</th>\n",
       "      <th>RICHMOND</th>\n",
       "      <th>SOUTHERN</th>\n",
       "      <th>TARAVAL</th>\n",
       "      <th>TENDERLOIN</th>\n",
       "    </tr>\n",
       "  </thead>\n",
       "  <tbody>\n",
       "    <tr>\n",
       "      <th>0</th>\n",
       "      <td>2015-01-25 09:45:00</td>\n",
       "      <td>LARCENY/THEFT</td>\n",
       "      <td>GRAND THEFT FROM UNLOCKED AUTO</td>\n",
       "      <td>6</td>\n",
       "      <td>BAYVIEW</td>\n",
       "      <td>NONE</td>\n",
       "      <td>other</td>\n",
       "      <td>-122.390348</td>\n",
       "      <td>37.739264</td>\n",
       "      <td>2015</td>\n",
       "      <td>...</td>\n",
       "      <td>0</td>\n",
       "      <td>1</td>\n",
       "      <td>0</td>\n",
       "      <td>0</td>\n",
       "      <td>0</td>\n",
       "      <td>0</td>\n",
       "      <td>0</td>\n",
       "      <td>0</td>\n",
       "      <td>0</td>\n",
       "      <td>0</td>\n",
       "    </tr>\n",
       "    <tr>\n",
       "      <th>1</th>\n",
       "      <td>2013-08-25 02:07:00</td>\n",
       "      <td>OTHER OFFENSES</td>\n",
       "      <td>PAROLE VIOLATION</td>\n",
       "      <td>6</td>\n",
       "      <td>NORTHERN</td>\n",
       "      <td>ARREST, BOOKED</td>\n",
       "      <td>other</td>\n",
       "      <td>-122.431952</td>\n",
       "      <td>37.779565</td>\n",
       "      <td>2013</td>\n",
       "      <td>...</td>\n",
       "      <td>0</td>\n",
       "      <td>0</td>\n",
       "      <td>0</td>\n",
       "      <td>0</td>\n",
       "      <td>0</td>\n",
       "      <td>1</td>\n",
       "      <td>0</td>\n",
       "      <td>0</td>\n",
       "      <td>0</td>\n",
       "      <td>0</td>\n",
       "    </tr>\n",
       "    <tr>\n",
       "      <th>2</th>\n",
       "      <td>2014-09-19 14:00:00</td>\n",
       "      <td>LARCENY/THEFT</td>\n",
       "      <td>GRAND THEFT FROM UNLOCKED AUTO</td>\n",
       "      <td>4</td>\n",
       "      <td>SOUTHERN</td>\n",
       "      <td>NONE</td>\n",
       "      <td>other</td>\n",
       "      <td>-122.412483</td>\n",
       "      <td>37.770631</td>\n",
       "      <td>2014</td>\n",
       "      <td>...</td>\n",
       "      <td>0</td>\n",
       "      <td>0</td>\n",
       "      <td>0</td>\n",
       "      <td>0</td>\n",
       "      <td>0</td>\n",
       "      <td>0</td>\n",
       "      <td>0</td>\n",
       "      <td>1</td>\n",
       "      <td>0</td>\n",
       "      <td>0</td>\n",
       "    </tr>\n",
       "    <tr>\n",
       "      <th>3</th>\n",
       "      <td>2008-11-11 13:40:00</td>\n",
       "      <td>DRUG/NARCOTIC</td>\n",
       "      <td>POSSESSION OF NARCOTICS PARAPHERNALIA</td>\n",
       "      <td>1</td>\n",
       "      <td>SOUTHERN</td>\n",
       "      <td>ARREST, CITED</td>\n",
       "      <td>800 Block of MARKET ST</td>\n",
       "      <td>-122.407634</td>\n",
       "      <td>37.784189</td>\n",
       "      <td>2008</td>\n",
       "      <td>...</td>\n",
       "      <td>0</td>\n",
       "      <td>0</td>\n",
       "      <td>0</td>\n",
       "      <td>0</td>\n",
       "      <td>0</td>\n",
       "      <td>0</td>\n",
       "      <td>0</td>\n",
       "      <td>1</td>\n",
       "      <td>0</td>\n",
       "      <td>0</td>\n",
       "    </tr>\n",
       "    <tr>\n",
       "      <th>4</th>\n",
       "      <td>2007-07-11 19:00:00</td>\n",
       "      <td>DRUG/NARCOTIC</td>\n",
       "      <td>POSSESSION OF HEROIN FOR SALES</td>\n",
       "      <td>2</td>\n",
       "      <td>TENDERLOIN</td>\n",
       "      <td>ARREST, BOOKED</td>\n",
       "      <td>other</td>\n",
       "      <td>-122.412414</td>\n",
       "      <td>37.783004</td>\n",
       "      <td>2007</td>\n",
       "      <td>...</td>\n",
       "      <td>0</td>\n",
       "      <td>0</td>\n",
       "      <td>0</td>\n",
       "      <td>0</td>\n",
       "      <td>0</td>\n",
       "      <td>0</td>\n",
       "      <td>0</td>\n",
       "      <td>0</td>\n",
       "      <td>0</td>\n",
       "      <td>1</td>\n",
       "    </tr>\n",
       "  </tbody>\n",
       "</table>\n",
       "<p>5 rows × 75 columns</p>\n",
       "</div>"
      ],
      "text/plain": [
       "                 Dates        Category                               Descript  \\\n",
       "0  2015-01-25 09:45:00   LARCENY/THEFT         GRAND THEFT FROM UNLOCKED AUTO   \n",
       "1  2013-08-25 02:07:00  OTHER OFFENSES                       PAROLE VIOLATION   \n",
       "2  2014-09-19 14:00:00   LARCENY/THEFT         GRAND THEFT FROM UNLOCKED AUTO   \n",
       "3  2008-11-11 13:40:00   DRUG/NARCOTIC  POSSESSION OF NARCOTICS PARAPHERNALIA   \n",
       "4  2007-07-11 19:00:00   DRUG/NARCOTIC         POSSESSION OF HEROIN FOR SALES   \n",
       "\n",
       "   DayOfWeek  PdDistrict      Resolution                 Address           X  \\\n",
       "0          6     BAYVIEW            NONE                   other -122.390348   \n",
       "1          6    NORTHERN  ARREST, BOOKED                   other -122.431952   \n",
       "2          4    SOUTHERN            NONE                   other -122.412483   \n",
       "3          1    SOUTHERN   ARREST, CITED  800 Block of MARKET ST -122.407634   \n",
       "4          2  TENDERLOIN  ARREST, BOOKED                   other -122.412414   \n",
       "\n",
       "           Y  year  ...  TURK ST / TAYLOR ST  BAYVIEW  CENTRAL  INGLESIDE  \\\n",
       "0  37.739264  2015  ...                    0        1        0          0   \n",
       "1  37.779565  2013  ...                    0        0        0          0   \n",
       "2  37.770631  2014  ...                    0        0        0          0   \n",
       "3  37.784189  2008  ...                    0        0        0          0   \n",
       "4  37.783004  2007  ...                    0        0        0          0   \n",
       "\n",
       "   MISSION  NORTHERN  RICHMOND  SOUTHERN  TARAVAL  TENDERLOIN  \n",
       "0        0         0         0         0        0           0  \n",
       "1        0         1         0         0        0           0  \n",
       "2        0         0         0         1        0           0  \n",
       "3        0         0         0         1        0           0  \n",
       "4        0         0         0         0        0           1  \n",
       "\n",
       "[5 rows x 75 columns]"
      ]
     },
     "execution_count": 93,
     "metadata": {},
     "output_type": "execute_result"
    }
   ],
   "source": [
    "df1=pd.concat([df,dumies.drop('other',axis=1),dumies1.drop('PARK',axis=1)],axis=1)\n",
    "df1.head()"
   ]
  },
  {
   "cell_type": "code",
   "execution_count": 94,
   "id": "a37626d0",
   "metadata": {
    "ExecuteTime": {
     "end_time": "2022-07-28T08:19:58.318162Z",
     "start_time": "2022-07-28T08:19:58.305683Z"
    }
   },
   "outputs": [
    {
     "data": {
      "text/plain": [
       "Index(['Dates', 'Category', 'Descript', 'DayOfWeek', 'PdDistrict',\n",
       "       'Resolution', 'Address', 'X', 'Y', 'year', 'month', 'day', 'hour',\n",
       "       'minute', 'Block', 'Intersect', '0 Block of 6TH ST',\n",
       "       '0 Block of JONES ST', '0 Block of OFARRELL ST', '0 Block of PHELAN AV',\n",
       "       '0 Block of POWELL ST', '0 Block of TURK ST',\n",
       "       '0 Block of UNITEDNATIONS PZ', '100 Block of 6TH ST',\n",
       "       '100 Block of EDDY ST', '100 Block of GOLDEN GATE AV',\n",
       "       '100 Block of LEAVENWORTH ST', '100 Block of OFARRELL ST',\n",
       "       '100 Block of POWELL ST', '100 Block of TAYLOR ST',\n",
       "       '100 Block of TURK ST', '1000 Block of MARKET ST',\n",
       "       '1000 Block of POTRERO AV', '1100 Block of MARKET ST',\n",
       "       '1200 Block of MARKET ST', '1400 Block of PHELPS ST',\n",
       "       '1600 Block of THE EMBARCADERONORTH ST', '16TH ST / MISSION ST',\n",
       "       '200 Block of EDDY ST', '200 Block of INTERSTATE80 HY',\n",
       "       '200 Block of TURK ST', '2000 Block of MARKET ST',\n",
       "       '2000 Block of MISSION ST', '2300 Block of 16TH ST',\n",
       "       '300 Block of EDDY ST', '300 Block of ELLIS ST',\n",
       "       '3000 Block of 16TH ST', '3200 Block of 20TH AV',\n",
       "       '3300 Block of MISSION ST', '400 Block of CASTRO ST',\n",
       "       '400 Block of EDDY ST', '400 Block of ELLIS ST',\n",
       "       '400 Block of JONES ST', '400 Block of OFARRELL ST',\n",
       "       '500 Block of JOHNFKENNEDY DR', '600 Block of VALENCIA ST',\n",
       "       '700 Block of MARKET ST', '700 Block of STANYAN ST',\n",
       "       '800 Block of BRYANT ST', '800 Block of MARKET ST',\n",
       "       '900 Block of MARKET ST', '900 Block of POTRERO AV',\n",
       "       'ELLIS ST / JONES ST', 'MISSION ST / 16TH ST',\n",
       "       'TURK ST / LEAVENWORTH ST', 'TURK ST / TAYLOR ST', 'BAYVIEW', 'CENTRAL',\n",
       "       'INGLESIDE', 'MISSION', 'NORTHERN', 'RICHMOND', 'SOUTHERN', 'TARAVAL',\n",
       "       'TENDERLOIN'],\n",
       "      dtype='object')"
      ]
     },
     "execution_count": 94,
     "metadata": {},
     "output_type": "execute_result"
    }
   ],
   "source": [
    "columns=df1.columns\n",
    "columns"
   ]
  },
  {
   "cell_type": "code",
   "execution_count": 95,
   "id": "d092977c",
   "metadata": {
    "ExecuteTime": {
     "end_time": "2022-07-28T08:19:59.150994Z",
     "start_time": "2022-07-28T08:19:58.342212Z"
    }
   },
   "outputs": [
    {
     "data": {
      "text/html": [
       "<div>\n",
       "<style scoped>\n",
       "    .dataframe tbody tr th:only-of-type {\n",
       "        vertical-align: middle;\n",
       "    }\n",
       "\n",
       "    .dataframe tbody tr th {\n",
       "        vertical-align: top;\n",
       "    }\n",
       "\n",
       "    .dataframe thead th {\n",
       "        text-align: right;\n",
       "    }\n",
       "</style>\n",
       "<table border=\"1\" class=\"dataframe\">\n",
       "  <thead>\n",
       "    <tr style=\"text-align: right;\">\n",
       "      <th></th>\n",
       "      <th>DayOfWeek</th>\n",
       "      <th>X</th>\n",
       "      <th>Y</th>\n",
       "      <th>year</th>\n",
       "      <th>month</th>\n",
       "      <th>day</th>\n",
       "      <th>hour</th>\n",
       "      <th>minute</th>\n",
       "      <th>Block</th>\n",
       "      <th>Intersect</th>\n",
       "      <th>...</th>\n",
       "      <th>TURK ST / TAYLOR ST</th>\n",
       "      <th>BAYVIEW</th>\n",
       "      <th>CENTRAL</th>\n",
       "      <th>INGLESIDE</th>\n",
       "      <th>MISSION</th>\n",
       "      <th>NORTHERN</th>\n",
       "      <th>RICHMOND</th>\n",
       "      <th>SOUTHERN</th>\n",
       "      <th>TARAVAL</th>\n",
       "      <th>TENDERLOIN</th>\n",
       "    </tr>\n",
       "  </thead>\n",
       "  <tbody>\n",
       "    <tr>\n",
       "      <th>0</th>\n",
       "      <td>6</td>\n",
       "      <td>-122.390348</td>\n",
       "      <td>37.739264</td>\n",
       "      <td>2015</td>\n",
       "      <td>1</td>\n",
       "      <td>25</td>\n",
       "      <td>9</td>\n",
       "      <td>45</td>\n",
       "      <td>0</td>\n",
       "      <td>0</td>\n",
       "      <td>...</td>\n",
       "      <td>0</td>\n",
       "      <td>1</td>\n",
       "      <td>0</td>\n",
       "      <td>0</td>\n",
       "      <td>0</td>\n",
       "      <td>0</td>\n",
       "      <td>0</td>\n",
       "      <td>0</td>\n",
       "      <td>0</td>\n",
       "      <td>0</td>\n",
       "    </tr>\n",
       "    <tr>\n",
       "      <th>1</th>\n",
       "      <td>6</td>\n",
       "      <td>-122.431952</td>\n",
       "      <td>37.779565</td>\n",
       "      <td>2013</td>\n",
       "      <td>8</td>\n",
       "      <td>25</td>\n",
       "      <td>2</td>\n",
       "      <td>7</td>\n",
       "      <td>0</td>\n",
       "      <td>0</td>\n",
       "      <td>...</td>\n",
       "      <td>0</td>\n",
       "      <td>0</td>\n",
       "      <td>0</td>\n",
       "      <td>0</td>\n",
       "      <td>0</td>\n",
       "      <td>1</td>\n",
       "      <td>0</td>\n",
       "      <td>0</td>\n",
       "      <td>0</td>\n",
       "      <td>0</td>\n",
       "    </tr>\n",
       "    <tr>\n",
       "      <th>2</th>\n",
       "      <td>4</td>\n",
       "      <td>-122.412483</td>\n",
       "      <td>37.770631</td>\n",
       "      <td>2014</td>\n",
       "      <td>9</td>\n",
       "      <td>19</td>\n",
       "      <td>14</td>\n",
       "      <td>0</td>\n",
       "      <td>0</td>\n",
       "      <td>0</td>\n",
       "      <td>...</td>\n",
       "      <td>0</td>\n",
       "      <td>0</td>\n",
       "      <td>0</td>\n",
       "      <td>0</td>\n",
       "      <td>0</td>\n",
       "      <td>0</td>\n",
       "      <td>0</td>\n",
       "      <td>1</td>\n",
       "      <td>0</td>\n",
       "      <td>0</td>\n",
       "    </tr>\n",
       "    <tr>\n",
       "      <th>3</th>\n",
       "      <td>1</td>\n",
       "      <td>-122.407634</td>\n",
       "      <td>37.784189</td>\n",
       "      <td>2008</td>\n",
       "      <td>11</td>\n",
       "      <td>11</td>\n",
       "      <td>13</td>\n",
       "      <td>40</td>\n",
       "      <td>1</td>\n",
       "      <td>0</td>\n",
       "      <td>...</td>\n",
       "      <td>0</td>\n",
       "      <td>0</td>\n",
       "      <td>0</td>\n",
       "      <td>0</td>\n",
       "      <td>0</td>\n",
       "      <td>0</td>\n",
       "      <td>0</td>\n",
       "      <td>1</td>\n",
       "      <td>0</td>\n",
       "      <td>0</td>\n",
       "    </tr>\n",
       "    <tr>\n",
       "      <th>4</th>\n",
       "      <td>2</td>\n",
       "      <td>-122.412414</td>\n",
       "      <td>37.783004</td>\n",
       "      <td>2007</td>\n",
       "      <td>7</td>\n",
       "      <td>11</td>\n",
       "      <td>19</td>\n",
       "      <td>0</td>\n",
       "      <td>0</td>\n",
       "      <td>0</td>\n",
       "      <td>...</td>\n",
       "      <td>0</td>\n",
       "      <td>0</td>\n",
       "      <td>0</td>\n",
       "      <td>0</td>\n",
       "      <td>0</td>\n",
       "      <td>0</td>\n",
       "      <td>0</td>\n",
       "      <td>0</td>\n",
       "      <td>0</td>\n",
       "      <td>1</td>\n",
       "    </tr>\n",
       "    <tr>\n",
       "      <th>...</th>\n",
       "      <td>...</td>\n",
       "      <td>...</td>\n",
       "      <td>...</td>\n",
       "      <td>...</td>\n",
       "      <td>...</td>\n",
       "      <td>...</td>\n",
       "      <td>...</td>\n",
       "      <td>...</td>\n",
       "      <td>...</td>\n",
       "      <td>...</td>\n",
       "      <td>...</td>\n",
       "      <td>...</td>\n",
       "      <td>...</td>\n",
       "      <td>...</td>\n",
       "      <td>...</td>\n",
       "      <td>...</td>\n",
       "      <td>...</td>\n",
       "      <td>...</td>\n",
       "      <td>...</td>\n",
       "      <td>...</td>\n",
       "      <td>...</td>\n",
       "    </tr>\n",
       "    <tr>\n",
       "      <th>249995</th>\n",
       "      <td>3</td>\n",
       "      <td>-122.422010</td>\n",
       "      <td>37.780113</td>\n",
       "      <td>2003</td>\n",
       "      <td>12</td>\n",
       "      <td>11</td>\n",
       "      <td>21</td>\n",
       "      <td>27</td>\n",
       "      <td>0</td>\n",
       "      <td>0</td>\n",
       "      <td>...</td>\n",
       "      <td>0</td>\n",
       "      <td>0</td>\n",
       "      <td>0</td>\n",
       "      <td>0</td>\n",
       "      <td>0</td>\n",
       "      <td>1</td>\n",
       "      <td>0</td>\n",
       "      <td>0</td>\n",
       "      <td>0</td>\n",
       "      <td>0</td>\n",
       "    </tr>\n",
       "    <tr>\n",
       "      <th>249996</th>\n",
       "      <td>4</td>\n",
       "      <td>-122.491389</td>\n",
       "      <td>37.783905</td>\n",
       "      <td>2014</td>\n",
       "      <td>1</td>\n",
       "      <td>24</td>\n",
       "      <td>8</td>\n",
       "      <td>30</td>\n",
       "      <td>0</td>\n",
       "      <td>0</td>\n",
       "      <td>...</td>\n",
       "      <td>0</td>\n",
       "      <td>0</td>\n",
       "      <td>0</td>\n",
       "      <td>0</td>\n",
       "      <td>0</td>\n",
       "      <td>0</td>\n",
       "      <td>1</td>\n",
       "      <td>0</td>\n",
       "      <td>0</td>\n",
       "      <td>0</td>\n",
       "    </tr>\n",
       "    <tr>\n",
       "      <th>249997</th>\n",
       "      <td>1</td>\n",
       "      <td>-122.403405</td>\n",
       "      <td>37.775421</td>\n",
       "      <td>2010</td>\n",
       "      <td>3</td>\n",
       "      <td>23</td>\n",
       "      <td>12</td>\n",
       "      <td>30</td>\n",
       "      <td>1</td>\n",
       "      <td>0</td>\n",
       "      <td>...</td>\n",
       "      <td>0</td>\n",
       "      <td>0</td>\n",
       "      <td>0</td>\n",
       "      <td>0</td>\n",
       "      <td>0</td>\n",
       "      <td>0</td>\n",
       "      <td>0</td>\n",
       "      <td>1</td>\n",
       "      <td>0</td>\n",
       "      <td>0</td>\n",
       "    </tr>\n",
       "    <tr>\n",
       "      <th>249998</th>\n",
       "      <td>1</td>\n",
       "      <td>-122.405927</td>\n",
       "      <td>37.797278</td>\n",
       "      <td>2012</td>\n",
       "      <td>5</td>\n",
       "      <td>29</td>\n",
       "      <td>18</td>\n",
       "      <td>10</td>\n",
       "      <td>0</td>\n",
       "      <td>0</td>\n",
       "      <td>...</td>\n",
       "      <td>0</td>\n",
       "      <td>0</td>\n",
       "      <td>1</td>\n",
       "      <td>0</td>\n",
       "      <td>0</td>\n",
       "      <td>0</td>\n",
       "      <td>0</td>\n",
       "      <td>0</td>\n",
       "      <td>0</td>\n",
       "      <td>0</td>\n",
       "    </tr>\n",
       "    <tr>\n",
       "      <th>249999</th>\n",
       "      <td>5</td>\n",
       "      <td>-122.450601</td>\n",
       "      <td>37.771459</td>\n",
       "      <td>2012</td>\n",
       "      <td>6</td>\n",
       "      <td>16</td>\n",
       "      <td>8</td>\n",
       "      <td>30</td>\n",
       "      <td>0</td>\n",
       "      <td>0</td>\n",
       "      <td>...</td>\n",
       "      <td>0</td>\n",
       "      <td>0</td>\n",
       "      <td>0</td>\n",
       "      <td>0</td>\n",
       "      <td>0</td>\n",
       "      <td>0</td>\n",
       "      <td>0</td>\n",
       "      <td>0</td>\n",
       "      <td>0</td>\n",
       "      <td>0</td>\n",
       "    </tr>\n",
       "  </tbody>\n",
       "</table>\n",
       "<p>250000 rows × 69 columns</p>\n",
       "</div>"
      ],
      "text/plain": [
       "        DayOfWeek           X          Y  year  month  day  hour  minute  \\\n",
       "0               6 -122.390348  37.739264  2015      1   25     9      45   \n",
       "1               6 -122.431952  37.779565  2013      8   25     2       7   \n",
       "2               4 -122.412483  37.770631  2014      9   19    14       0   \n",
       "3               1 -122.407634  37.784189  2008     11   11    13      40   \n",
       "4               2 -122.412414  37.783004  2007      7   11    19       0   \n",
       "...           ...         ...        ...   ...    ...  ...   ...     ...   \n",
       "249995          3 -122.422010  37.780113  2003     12   11    21      27   \n",
       "249996          4 -122.491389  37.783905  2014      1   24     8      30   \n",
       "249997          1 -122.403405  37.775421  2010      3   23    12      30   \n",
       "249998          1 -122.405927  37.797278  2012      5   29    18      10   \n",
       "249999          5 -122.450601  37.771459  2012      6   16     8      30   \n",
       "\n",
       "        Block  Intersect  ...  TURK ST / TAYLOR ST  BAYVIEW  CENTRAL  \\\n",
       "0           0          0  ...                    0        1        0   \n",
       "1           0          0  ...                    0        0        0   \n",
       "2           0          0  ...                    0        0        0   \n",
       "3           1          0  ...                    0        0        0   \n",
       "4           0          0  ...                    0        0        0   \n",
       "...       ...        ...  ...                  ...      ...      ...   \n",
       "249995      0          0  ...                    0        0        0   \n",
       "249996      0          0  ...                    0        0        0   \n",
       "249997      1          0  ...                    0        0        0   \n",
       "249998      0          0  ...                    0        0        1   \n",
       "249999      0          0  ...                    0        0        0   \n",
       "\n",
       "        INGLESIDE  MISSION  NORTHERN  RICHMOND  SOUTHERN  TARAVAL  TENDERLOIN  \n",
       "0               0        0         0         0         0        0           0  \n",
       "1               0        0         1         0         0        0           0  \n",
       "2               0        0         0         0         1        0           0  \n",
       "3               0        0         0         0         1        0           0  \n",
       "4               0        0         0         0         0        0           1  \n",
       "...           ...      ...       ...       ...       ...      ...         ...  \n",
       "249995          0        0         1         0         0        0           0  \n",
       "249996          0        0         0         1         0        0           0  \n",
       "249997          0        0         0         0         1        0           0  \n",
       "249998          0        0         0         0         0        0           0  \n",
       "249999          0        0         0         0         0        0           0  \n",
       "\n",
       "[250000 rows x 69 columns]"
      ]
     },
     "execution_count": 95,
     "metadata": {},
     "output_type": "execute_result"
    }
   ],
   "source": [
    "x=df1.drop(['Dates', 'Category', 'Descript', 'PdDistrict',\n",
    "       'Resolution', 'Address'],axis=1)\n",
    "x"
   ]
  },
  {
   "cell_type": "code",
   "execution_count": 96,
   "id": "4ad40d8a",
   "metadata": {
    "ExecuteTime": {
     "end_time": "2022-07-28T08:19:59.319142Z",
     "start_time": "2022-07-28T08:19:59.182049Z"
    }
   },
   "outputs": [
    {
     "data": {
      "text/html": [
       "<div>\n",
       "<style scoped>\n",
       "    .dataframe tbody tr th:only-of-type {\n",
       "        vertical-align: middle;\n",
       "    }\n",
       "\n",
       "    .dataframe tbody tr th {\n",
       "        vertical-align: top;\n",
       "    }\n",
       "\n",
       "    .dataframe thead th {\n",
       "        text-align: right;\n",
       "    }\n",
       "</style>\n",
       "<table border=\"1\" class=\"dataframe\">\n",
       "  <thead>\n",
       "    <tr style=\"text-align: right;\">\n",
       "      <th></th>\n",
       "      <th>Category</th>\n",
       "    </tr>\n",
       "  </thead>\n",
       "  <tbody>\n",
       "    <tr>\n",
       "      <th>0</th>\n",
       "      <td>LARCENY/THEFT</td>\n",
       "    </tr>\n",
       "    <tr>\n",
       "      <th>1</th>\n",
       "      <td>OTHER OFFENSES</td>\n",
       "    </tr>\n",
       "    <tr>\n",
       "      <th>2</th>\n",
       "      <td>LARCENY/THEFT</td>\n",
       "    </tr>\n",
       "    <tr>\n",
       "      <th>3</th>\n",
       "      <td>DRUG/NARCOTIC</td>\n",
       "    </tr>\n",
       "    <tr>\n",
       "      <th>4</th>\n",
       "      <td>DRUG/NARCOTIC</td>\n",
       "    </tr>\n",
       "    <tr>\n",
       "      <th>...</th>\n",
       "      <td>...</td>\n",
       "    </tr>\n",
       "    <tr>\n",
       "      <th>249995</th>\n",
       "      <td>DRUG/NARCOTIC</td>\n",
       "    </tr>\n",
       "    <tr>\n",
       "      <th>249996</th>\n",
       "      <td>OTHER OFFENSES</td>\n",
       "    </tr>\n",
       "    <tr>\n",
       "      <th>249997</th>\n",
       "      <td>ASSAULT</td>\n",
       "    </tr>\n",
       "    <tr>\n",
       "      <th>249998</th>\n",
       "      <td>ASSAULT</td>\n",
       "    </tr>\n",
       "    <tr>\n",
       "      <th>249999</th>\n",
       "      <td>NON-CRIMINAL</td>\n",
       "    </tr>\n",
       "  </tbody>\n",
       "</table>\n",
       "<p>250000 rows × 1 columns</p>\n",
       "</div>"
      ],
      "text/plain": [
       "              Category\n",
       "0        LARCENY/THEFT\n",
       "1       OTHER OFFENSES\n",
       "2        LARCENY/THEFT\n",
       "3        DRUG/NARCOTIC\n",
       "4        DRUG/NARCOTIC\n",
       "...                ...\n",
       "249995   DRUG/NARCOTIC\n",
       "249996  OTHER OFFENSES\n",
       "249997         ASSAULT\n",
       "249998         ASSAULT\n",
       "249999    NON-CRIMINAL\n",
       "\n",
       "[250000 rows x 1 columns]"
      ]
     },
     "execution_count": 96,
     "metadata": {},
     "output_type": "execute_result"
    }
   ],
   "source": [
    "y=df1.Category\n",
    "y1=pd.DataFrame(y)\n",
    "y1"
   ]
  },
  {
   "cell_type": "code",
   "execution_count": 97,
   "id": "0bd10ffc",
   "metadata": {
    "ExecuteTime": {
     "end_time": "2022-07-28T08:19:59.728260Z",
     "start_time": "2022-07-28T08:19:59.322114Z"
    }
   },
   "outputs": [
    {
     "data": {
      "text/html": [
       "<div>\n",
       "<style scoped>\n",
       "    .dataframe tbody tr th:only-of-type {\n",
       "        vertical-align: middle;\n",
       "    }\n",
       "\n",
       "    .dataframe tbody tr th {\n",
       "        vertical-align: top;\n",
       "    }\n",
       "\n",
       "    .dataframe thead th {\n",
       "        text-align: right;\n",
       "    }\n",
       "</style>\n",
       "<table border=\"1\" class=\"dataframe\">\n",
       "  <thead>\n",
       "    <tr style=\"text-align: right;\">\n",
       "      <th></th>\n",
       "      <th>Category</th>\n",
       "      <th>Category_Label</th>\n",
       "    </tr>\n",
       "  </thead>\n",
       "  <tbody>\n",
       "    <tr>\n",
       "      <th>0</th>\n",
       "      <td>LARCENY/THEFT</td>\n",
       "      <td>2</td>\n",
       "    </tr>\n",
       "    <tr>\n",
       "      <th>1</th>\n",
       "      <td>OTHER OFFENSES</td>\n",
       "      <td>4</td>\n",
       "    </tr>\n",
       "    <tr>\n",
       "      <th>2</th>\n",
       "      <td>LARCENY/THEFT</td>\n",
       "      <td>2</td>\n",
       "    </tr>\n",
       "    <tr>\n",
       "      <th>3</th>\n",
       "      <td>DRUG/NARCOTIC</td>\n",
       "      <td>1</td>\n",
       "    </tr>\n",
       "    <tr>\n",
       "      <th>4</th>\n",
       "      <td>DRUG/NARCOTIC</td>\n",
       "      <td>1</td>\n",
       "    </tr>\n",
       "    <tr>\n",
       "      <th>...</th>\n",
       "      <td>...</td>\n",
       "      <td>...</td>\n",
       "    </tr>\n",
       "    <tr>\n",
       "      <th>249995</th>\n",
       "      <td>DRUG/NARCOTIC</td>\n",
       "      <td>1</td>\n",
       "    </tr>\n",
       "    <tr>\n",
       "      <th>249996</th>\n",
       "      <td>OTHER OFFENSES</td>\n",
       "      <td>4</td>\n",
       "    </tr>\n",
       "    <tr>\n",
       "      <th>249997</th>\n",
       "      <td>ASSAULT</td>\n",
       "      <td>0</td>\n",
       "    </tr>\n",
       "    <tr>\n",
       "      <th>249998</th>\n",
       "      <td>ASSAULT</td>\n",
       "      <td>0</td>\n",
       "    </tr>\n",
       "    <tr>\n",
       "      <th>249999</th>\n",
       "      <td>NON-CRIMINAL</td>\n",
       "      <td>3</td>\n",
       "    </tr>\n",
       "  </tbody>\n",
       "</table>\n",
       "<p>250000 rows × 2 columns</p>\n",
       "</div>"
      ],
      "text/plain": [
       "              Category  Category_Label\n",
       "0        LARCENY/THEFT               2\n",
       "1       OTHER OFFENSES               4\n",
       "2        LARCENY/THEFT               2\n",
       "3        DRUG/NARCOTIC               1\n",
       "4        DRUG/NARCOTIC               1\n",
       "...                ...             ...\n",
       "249995   DRUG/NARCOTIC               1\n",
       "249996  OTHER OFFENSES               4\n",
       "249997         ASSAULT               0\n",
       "249998         ASSAULT               0\n",
       "249999    NON-CRIMINAL               3\n",
       "\n",
       "[250000 rows x 2 columns]"
      ]
     },
     "execution_count": 97,
     "metadata": {},
     "output_type": "execute_result"
    }
   ],
   "source": [
    "y1['Category_Label'] = prepro.LabelEncoder().fit_transform(y1.Category)\n",
    "z=y1.copy()\n",
    "z"
   ]
  },
  {
   "cell_type": "code",
   "execution_count": 98,
   "id": "0e84bbba",
   "metadata": {
    "ExecuteTime": {
     "end_time": "2022-07-28T08:19:59.867460Z",
     "start_time": "2022-07-28T08:19:59.732250Z"
    }
   },
   "outputs": [
    {
     "data": {
      "text/html": [
       "<div>\n",
       "<style scoped>\n",
       "    .dataframe tbody tr th:only-of-type {\n",
       "        vertical-align: middle;\n",
       "    }\n",
       "\n",
       "    .dataframe tbody tr th {\n",
       "        vertical-align: top;\n",
       "    }\n",
       "\n",
       "    .dataframe thead th {\n",
       "        text-align: right;\n",
       "    }\n",
       "</style>\n",
       "<table border=\"1\" class=\"dataframe\">\n",
       "  <thead>\n",
       "    <tr style=\"text-align: right;\">\n",
       "      <th></th>\n",
       "      <th>Category</th>\n",
       "      <th>Category_Label</th>\n",
       "    </tr>\n",
       "  </thead>\n",
       "  <tbody>\n",
       "    <tr>\n",
       "      <th>0</th>\n",
       "      <td>LARCENY/THEFT</td>\n",
       "      <td>2</td>\n",
       "    </tr>\n",
       "    <tr>\n",
       "      <th>1</th>\n",
       "      <td>OTHER OFFENSES</td>\n",
       "      <td>4</td>\n",
       "    </tr>\n",
       "    <tr>\n",
       "      <th>3</th>\n",
       "      <td>DRUG/NARCOTIC</td>\n",
       "      <td>1</td>\n",
       "    </tr>\n",
       "    <tr>\n",
       "      <th>5</th>\n",
       "      <td>NON-CRIMINAL</td>\n",
       "      <td>3</td>\n",
       "    </tr>\n",
       "    <tr>\n",
       "      <th>11</th>\n",
       "      <td>ASSAULT</td>\n",
       "      <td>0</td>\n",
       "    </tr>\n",
       "  </tbody>\n",
       "</table>\n",
       "</div>"
      ],
      "text/plain": [
       "          Category  Category_Label\n",
       "0    LARCENY/THEFT               2\n",
       "1   OTHER OFFENSES               4\n",
       "3    DRUG/NARCOTIC               1\n",
       "5     NON-CRIMINAL               3\n",
       "11         ASSAULT               0"
      ]
     },
     "execution_count": 98,
     "metadata": {},
     "output_type": "execute_result"
    }
   ],
   "source": [
    "z=z.drop_duplicates(keep='first')\n",
    "z"
   ]
  },
  {
   "cell_type": "code",
   "execution_count": 99,
   "id": "4b537bc3",
   "metadata": {
    "ExecuteTime": {
     "end_time": "2022-07-28T08:19:59.914696Z",
     "start_time": "2022-07-28T08:19:59.906045Z"
    }
   },
   "outputs": [],
   "source": [
    "label_df=z\n",
    "# label_df.to_csv('Result.csv')"
   ]
  },
  {
   "cell_type": "code",
   "execution_count": 100,
   "id": "29c5df98",
   "metadata": {
    "ExecuteTime": {
     "end_time": "2022-07-28T08:19:59.978116Z",
     "start_time": "2022-07-28T08:19:59.918687Z"
    }
   },
   "outputs": [
    {
     "data": {
      "text/html": [
       "<div>\n",
       "<style scoped>\n",
       "    .dataframe tbody tr th:only-of-type {\n",
       "        vertical-align: middle;\n",
       "    }\n",
       "\n",
       "    .dataframe tbody tr th {\n",
       "        vertical-align: top;\n",
       "    }\n",
       "\n",
       "    .dataframe thead th {\n",
       "        text-align: right;\n",
       "    }\n",
       "</style>\n",
       "<table border=\"1\" class=\"dataframe\">\n",
       "  <thead>\n",
       "    <tr style=\"text-align: right;\">\n",
       "      <th></th>\n",
       "      <th>Category</th>\n",
       "      <th>Category_Label</th>\n",
       "    </tr>\n",
       "  </thead>\n",
       "  <tbody>\n",
       "    <tr>\n",
       "      <th>0</th>\n",
       "      <td>LARCENY/THEFT</td>\n",
       "      <td>2</td>\n",
       "    </tr>\n",
       "    <tr>\n",
       "      <th>1</th>\n",
       "      <td>OTHER OFFENSES</td>\n",
       "      <td>4</td>\n",
       "    </tr>\n",
       "    <tr>\n",
       "      <th>2</th>\n",
       "      <td>LARCENY/THEFT</td>\n",
       "      <td>2</td>\n",
       "    </tr>\n",
       "    <tr>\n",
       "      <th>3</th>\n",
       "      <td>DRUG/NARCOTIC</td>\n",
       "      <td>1</td>\n",
       "    </tr>\n",
       "    <tr>\n",
       "      <th>4</th>\n",
       "      <td>DRUG/NARCOTIC</td>\n",
       "      <td>1</td>\n",
       "    </tr>\n",
       "    <tr>\n",
       "      <th>...</th>\n",
       "      <td>...</td>\n",
       "      <td>...</td>\n",
       "    </tr>\n",
       "    <tr>\n",
       "      <th>249995</th>\n",
       "      <td>DRUG/NARCOTIC</td>\n",
       "      <td>1</td>\n",
       "    </tr>\n",
       "    <tr>\n",
       "      <th>249996</th>\n",
       "      <td>OTHER OFFENSES</td>\n",
       "      <td>4</td>\n",
       "    </tr>\n",
       "    <tr>\n",
       "      <th>249997</th>\n",
       "      <td>ASSAULT</td>\n",
       "      <td>0</td>\n",
       "    </tr>\n",
       "    <tr>\n",
       "      <th>249998</th>\n",
       "      <td>ASSAULT</td>\n",
       "      <td>0</td>\n",
       "    </tr>\n",
       "    <tr>\n",
       "      <th>249999</th>\n",
       "      <td>NON-CRIMINAL</td>\n",
       "      <td>3</td>\n",
       "    </tr>\n",
       "  </tbody>\n",
       "</table>\n",
       "<p>250000 rows × 2 columns</p>\n",
       "</div>"
      ],
      "text/plain": [
       "              Category  Category_Label\n",
       "0        LARCENY/THEFT               2\n",
       "1       OTHER OFFENSES               4\n",
       "2        LARCENY/THEFT               2\n",
       "3        DRUG/NARCOTIC               1\n",
       "4        DRUG/NARCOTIC               1\n",
       "...                ...             ...\n",
       "249995   DRUG/NARCOTIC               1\n",
       "249996  OTHER OFFENSES               4\n",
       "249997         ASSAULT               0\n",
       "249998         ASSAULT               0\n",
       "249999    NON-CRIMINAL               3\n",
       "\n",
       "[250000 rows x 2 columns]"
      ]
     },
     "execution_count": 100,
     "metadata": {},
     "output_type": "execute_result"
    }
   ],
   "source": [
    "# y = to_categorical(prepro.LabelEncoder().fit_transform(y1.Category))\n",
    "# y\n",
    "y1"
   ]
  },
  {
   "cell_type": "code",
   "execution_count": 101,
   "id": "e54bdead",
   "metadata": {
    "ExecuteTime": {
     "end_time": "2022-07-28T08:20:00.664046Z",
     "start_time": "2022-07-28T08:19:59.983103Z"
    },
    "scrolled": true
   },
   "outputs": [],
   "source": [
    "x_train, x_val, y_train, y_val = train_test_split(x, y1.Category_Label, random_state=0, test_size=0.3)"
   ]
  },
  {
   "cell_type": "code",
   "execution_count": 102,
   "id": "5c68ea6d",
   "metadata": {
    "ExecuteTime": {
     "end_time": "2022-07-28T08:20:00.680072Z",
     "start_time": "2022-07-28T08:20:00.667042Z"
    }
   },
   "outputs": [
    {
     "data": {
      "text/plain": [
       "(175000, 69)"
      ]
     },
     "execution_count": 102,
     "metadata": {},
     "output_type": "execute_result"
    }
   ],
   "source": [
    "x_train.shape"
   ]
  },
  {
   "cell_type": "code",
   "execution_count": 48,
   "id": "a458e34c",
   "metadata": {
    "ExecuteTime": {
     "end_time": "2022-07-27T09:00:32.018251Z",
     "start_time": "2022-07-27T08:55:31.824311Z"
    }
   },
   "outputs": [
    {
     "data": {
      "text/plain": [
       "0.5583542857142857"
      ]
     },
     "execution_count": 48,
     "metadata": {},
     "output_type": "execute_result"
    }
   ],
   "source": [
    "from sklearn.ensemble import BaggingClassifier\n",
    "from sklearn.tree import DecisionTreeClassifier\n",
    "bag_model=BaggingClassifier(\n",
    "base_estimator=DecisionTreeClassifier(),\n",
    "n_estimators=100,\n",
    "max_samples=0.8,\n",
    "oob_score=True)\n",
    "bag_model.fit(x_train,y_train)\n",
    "bag_model.oob_score_"
   ]
  },
  {
   "cell_type": "code",
   "execution_count": 49,
   "id": "8aec469e",
   "metadata": {
    "ExecuteTime": {
     "end_time": "2022-07-27T09:00:43.722037Z",
     "start_time": "2022-07-27T09:00:32.024235Z"
    }
   },
   "outputs": [
    {
     "data": {
      "text/plain": [
       "0.5624"
      ]
     },
     "execution_count": 49,
     "metadata": {},
     "output_type": "execute_result"
    }
   ],
   "source": [
    "bag_model.score(x_val,y_val)"
   ]
  },
  {
   "cell_type": "code",
   "execution_count": 50,
   "id": "982004bf",
   "metadata": {
    "ExecuteTime": {
     "end_time": "2022-07-27T09:00:45.346487Z",
     "start_time": "2022-07-27T09:00:43.728021Z"
    }
   },
   "outputs": [
    {
     "data": {
      "text/plain": [
       "['bag_model56.pkl']"
      ]
     },
     "execution_count": 50,
     "metadata": {},
     "output_type": "execute_result"
    }
   ],
   "source": [
    "import joblib\n",
    "joblib.dump(bag_model,'bag_model56.pkl')"
   ]
  },
  {
   "cell_type": "code",
   "execution_count": 103,
   "id": "2b18adcf",
   "metadata": {
    "ExecuteTime": {
     "end_time": "2022-07-28T08:20:50.911639Z",
     "start_time": "2022-07-28T08:20:00.683064Z"
    }
   },
   "outputs": [
    {
     "data": {
      "text/plain": [
       "0.8383771428571428"
      ]
     },
     "execution_count": 103,
     "metadata": {},
     "output_type": "execute_result"
    }
   ],
   "source": [
    "import joblib\n",
    "model=joblib.load('bag_model56.pkl')\n",
    "model.score(x_train,y_train)"
   ]
  },
  {
   "cell_type": "code",
   "execution_count": null,
   "id": "2d2b8f3c",
   "metadata": {
    "ExecuteTime": {
     "start_time": "2022-07-28T08:19:38.823Z"
    }
   },
   "outputs": [],
   "source": [
    "import sklearn as sk\n",
    "cnf=sk.metrics.confusion_matrix(y_val,model.predict(x_val))\n",
    "cnf"
   ]
  },
  {
   "cell_type": "code",
   "execution_count": null,
   "id": "1f6c4a3f",
   "metadata": {
    "ExecuteTime": {
     "start_time": "2022-07-28T08:19:46.187Z"
    }
   },
   "outputs": [],
   "source": [
    "import seaborn as sn\n",
    "# labels = ['True Neg','False Pos','False Neg','True Pos']\n",
    "\n",
    "# labels = np.asarray(labels).reshape(2,2)\n",
    "\n",
    "ax = sns.heatmap(cnf,fmt='', cmap='Blues')\n",
    "\n",
    "ax.set_title('Seaborn Confusion Matrix with labels\\n\\n');\n",
    "ax.set_xlabel('\\nPredicted Values')\n",
    "ax.set_ylabel('Actual Values ');\n",
    "\n",
    "# Ticket labels - List must be in alphabetical order\n",
    "ax.xaxis.set_ticklabels(['ASSAULT','DRUG/NARCOTIC','LARCENY/THEFT','NON-CRIMINAL','OTHER OFFENSES'])\n",
    "ax.yaxis.set_ticklabels(['ASSAULT','DRUG/NARCOTIC','LARCENY/THEFT','NON-CRIMINAL','OTHER OFFENSES'])\n",
    "\n",
    "## Display the visualization of the Confusion Matrix.\n",
    "# plt.show()\n",
    "plt.savefig(\"Predict56_without_anote.svg\")"
   ]
  },
  {
   "cell_type": "code",
   "execution_count": null,
   "id": "be87208d",
   "metadata": {},
   "outputs": [],
   "source": [
    "plt.savefig(\"test.svg\")"
   ]
  },
  {
   "cell_type": "code",
   "execution_count": 52,
   "id": "4908bcd6",
   "metadata": {
    "ExecuteTime": {
     "end_time": "2022-07-27T09:00:59.340299Z",
     "start_time": "2022-07-27T09:00:59.329327Z"
    }
   },
   "outputs": [],
   "source": [
    "column={'data_columns':[i for i in x_train.columns]}"
   ]
  },
  {
   "cell_type": "code",
   "execution_count": 53,
   "id": "26dd3707",
   "metadata": {
    "ExecuteTime": {
     "end_time": "2022-07-27T09:00:59.356253Z",
     "start_time": "2022-07-27T09:00:59.345284Z"
    }
   },
   "outputs": [],
   "source": [
    "import json\n",
    "with open('column.json', 'w') as f:\n",
    "    json.dump(column, f)"
   ]
  },
  {
   "cell_type": "markdown",
   "id": "ba20582b",
   "metadata": {
    "ExecuteTime": {
     "end_time": "2022-07-27T07:03:59.984951Z",
     "start_time": "2022-07-27T07:03:59.970979Z"
    }
   },
   "source": [
    "# End "
   ]
  },
  {
   "cell_type": "code",
   "execution_count": 54,
   "id": "3083b16f",
   "metadata": {
    "ExecuteTime": {
     "end_time": "2022-07-27T05:39:24.534124Z",
     "start_time": "2022-07-27T05:39:24.016885Z"
    }
   },
   "outputs": [],
   "source": [
    "    from sklearn.naive_bayes import GaussianNB\n",
    "    from sklearn.tree import DecisionTreeClassifier\n",
    "    from sklearn.linear_model import LogisticRegression\n",
    "    from sklearn.linear_model import LinearRegression\n",
    "    from sklearn.metrics import accuracy_score\n",
    "    from sklearn.metrics import classification_report"
   ]
  },
  {
   "cell_type": "code",
   "execution_count": 55,
   "id": "83f271a9",
   "metadata": {
    "ExecuteTime": {
     "end_time": "2022-07-27T05:39:25.542697Z",
     "start_time": "2022-07-27T05:39:25.528854Z"
    }
   },
   "outputs": [],
   "source": [
    "clasifier=[['naive_bayes :',GaussianNB()],['DecisionTree :',DecisionTreeClassifier()],['LogisticRegression :',LogisticRegression(max_iter=1000)]]"
   ]
  },
  {
   "cell_type": "code",
   "execution_count": 148,
   "id": "18019c57",
   "metadata": {
    "ExecuteTime": {
     "end_time": "2022-07-15T11:54:29.394154Z",
     "start_time": "2022-07-15T09:15:44.450931Z"
    }
   },
   "outputs": [
    {
     "name": "stderr",
     "output_type": "stream",
     "text": [
      "[Parallel(n_jobs=1)]: Using backend SequentialBackend with 1 concurrent workers.\n",
      "[Parallel(n_jobs=1)]: Done   1 out of   1 | elapsed: 158.7min remaining:    0.0s\n",
      "[Parallel(n_jobs=1)]: Done   1 out of   1 | elapsed: 158.7min finished\n"
     ]
    },
    {
     "data": {
      "text/plain": [
       "VotingClassifier(estimators=[('Gaussian', GaussianNB()),\n",
       "                             ('DecisionTree', DecisionTreeClassifier()),\n",
       "                             ('LogisticReg',\n",
       "                              LogisticRegression(max_iter=100000, verbose=2))])"
      ]
     },
     "execution_count": 148,
     "metadata": {},
     "output_type": "execute_result"
    }
   ],
   "source": [
    "from sklearn.ensemble import VotingClassifier\n",
    "clf1=GaussianNB()\n",
    "clf2=DecisionTreeClassifier()\n",
    "clf3=LogisticRegression(max_iter=100000,verbose=2)\n",
    "eclf1=VotingClassifier(estimators=[('Gaussian',clf1),('DecisionTree',clf2),('LogisticReg',clf3)])\n",
    "eclf1.fit(x_train,y_train)"
   ]
  },
  {
   "cell_type": "code",
   "execution_count": 149,
   "id": "46ef8adf",
   "metadata": {
    "ExecuteTime": {
     "end_time": "2022-07-15T11:54:29.834975Z",
     "start_time": "2022-07-15T11:54:29.402132Z"
    }
   },
   "outputs": [
    {
     "data": {
      "text/plain": [
       "array([ 7, 13, 15, ..., 12, 17, 17])"
      ]
     },
     "execution_count": 149,
     "metadata": {},
     "output_type": "execute_result"
    }
   ],
   "source": [
    "eclf1.predict(x_val)"
   ]
  },
  {
   "cell_type": "code",
   "execution_count": 150,
   "id": "bef9c03f",
   "metadata": {
    "ExecuteTime": {
     "end_time": "2022-07-15T11:54:29.880929Z",
     "start_time": "2022-07-15T11:54:29.840880Z"
    }
   },
   "outputs": [
    {
     "data": {
      "text/plain": [
       "['eclf1_model.pkl']"
      ]
     },
     "execution_count": 150,
     "metadata": {},
     "output_type": "execute_result"
    }
   ],
   "source": [
    "import joblib\n",
    "joblib.dump(eclf1,'eclf1_model.pkl')"
   ]
  },
  {
   "cell_type": "code",
   "execution_count": 151,
   "id": "5ef09244",
   "metadata": {
    "ExecuteTime": {
     "end_time": "2022-07-15T11:54:29.927466Z",
     "start_time": "2022-07-15T11:54:29.884677Z"
    }
   },
   "outputs": [],
   "source": [
    "import joblib\n",
    "cl=joblib.load('eclf1_model.pkl')"
   ]
  },
  {
   "cell_type": "code",
   "execution_count": 152,
   "id": "fbbb3f7d",
   "metadata": {
    "ExecuteTime": {
     "end_time": "2022-07-15T11:54:30.368257Z",
     "start_time": "2022-07-15T11:54:29.929466Z"
    }
   },
   "outputs": [],
   "source": [
    "pre=cl.predict(x_val)"
   ]
  },
  {
   "cell_type": "code",
   "execution_count": 153,
   "id": "1216f793",
   "metadata": {
    "ExecuteTime": {
     "end_time": "2022-07-15T11:54:30.398081Z",
     "start_time": "2022-07-15T11:54:30.370382Z"
    }
   },
   "outputs": [
    {
     "data": {
      "text/plain": [
       "8225     13\n",
       "10794    13\n",
       "9163     27\n",
       "26591    12\n",
       "6631     24\n",
       "         ..\n",
       "21914    22\n",
       "17453    10\n",
       "20344    18\n",
       "1878     17\n",
       "6465      5\n",
       "Name: Category_Label, Length: 9000, dtype: int32"
      ]
     },
     "execution_count": 153,
     "metadata": {},
     "output_type": "execute_result"
    }
   ],
   "source": [
    "y_val"
   ]
  },
  {
   "cell_type": "code",
   "execution_count": 154,
   "id": "0c40ec21",
   "metadata": {
    "ExecuteTime": {
     "end_time": "2022-07-15T11:54:30.506804Z",
     "start_time": "2022-07-15T11:54:30.401082Z"
    }
   },
   "outputs": [
    {
     "data": {
      "text/plain": [
       "array([[ 82,   1,   8,  10,  17,   7,   7,  32,   4,   2,   6,   3,  13,\n",
       "         20,   1,   1,   0,  33,   3,   0,  24,   0,   0,   1,   0,   0,\n",
       "          0,   4,   0,   0],\n",
       "       [  4,  78,  16,   3,   1,  23,   5,   0,   2,   9,   3,  26,   0,\n",
       "          0,  13,   7,  10,  36,   0,   2,   0,   1,   1,   0,   5,   3,\n",
       "          4,  38,   1,   1],\n",
       "       [  1,  18,  73,   1,   3,  12,   2,   0,   4,  23,   1,  19,   1,\n",
       "          0,  12,   1,  10,  29,   1,   3,   0,   1,   0,   2,  11,   1,\n",
       "          2,  69,   3,   0],\n",
       "       [ 21,   2,  14,  91,  15,   4,  25,  11,   4,   9,   8,   0,  11,\n",
       "          9,   4,   1,   1,  77,   2,   0,  10,   1,   0,   0,   3,   0,\n",
       "          0,   0,   0,   0],\n",
       "       [ 53,   6,   9,  16,  75,   1,  21,   8,   8,   2,  11,   1,  14,\n",
       "          0,   0,   1,   3,  70,  10,   0,  17,   0,   1,   0,   1,   0,\n",
       "          1,   1,   1,   3],\n",
       "       [  2,  15,  27,  12,   3, 135,  11,   0,   4,   9,   6,   5,   3,\n",
       "          0,   2,   3,   4,  30,   6,   3,   3,   2,   0,   2,   9,   3,\n",
       "          2,   8,   4,   1],\n",
       "       [ 10,   3,   7,  29,  20,  19,  69,   6,  17,   7,   9,   1,   6,\n",
       "          3,   3,   1,   4,  50,   4,   2,  18,   0,   0,   1,   3,   2,\n",
       "          0,   2,   0,   0],\n",
       "       [ 24,   2,   0,   5,   1,   1,   8, 183,   8,   6,   5,   0,   8,\n",
       "         17,   0,   0,   0,  14,   0,   0,  18,   1,   0,   1,   0,   0,\n",
       "          0,   1,   0,   1],\n",
       "       [ 12,   3,  17,   7,   5,   9,  25,  19,  55,  19,  12,   3,   5,\n",
       "          0,   1,   1,   0,  59,   4,   1,  19,   2,   1,   3,   1,   0,\n",
       "          0,   4,   0,   0],\n",
       "       [  1,   5,  32,   3,   4,  15,   8,   3,  19,  70,   3,  10,   1,\n",
       "          0,  10,   2,   3,  31,   0,   5,   5,   5,   1,   3,   2,   1,\n",
       "          3,  27,   1,   0],\n",
       "       [ 29,   6,   5,  21,  29,   5,  14,  17,   5,   7,  28,   0,   9,\n",
       "          1,   0,   0,   1,  56,   9,   2,  21,   2,   2,   2,   0,   0,\n",
       "          0,   4,   0,   1],\n",
       "       [  1,  30,  10,   0,   2,  18,  10,   0,   4,  35,   1, 111,   0,\n",
       "          0,  14,   9,   8,  30,   0,   1,   0,   1,   0,   0,   0,   0,\n",
       "          0,  38,   0,   0],\n",
       "       [ 46,   3,   6,  18,  19,   5,  16,  19,   5,   2,   8,   1,  78,\n",
       "         12,   0,   0,   0,  29,   4,   0,  22,   0,   0,   0,   0,   0,\n",
       "          0,   1,   1,   1],\n",
       "       [ 31,   1,   1,  25,   3,   1,   0,  52,   1,   0,   1,   0,  29,\n",
       "        152,   0,   0,   0,  15,   0,   0,   4,   0,   0,   0,   0,   0,\n",
       "          1,   0,   1,   0],\n",
       "       [  0,   9,  44,   0,   3,  18,   6,   0,   3,  21,   4,  13,   0,\n",
       "          0,  79,   2,   2,  19,   0,   0,   7,   0,   0,   0,  10,   1,\n",
       "          2,  49,   2,   0],\n",
       "       [  3,  30,  16,   1,   5,  39,   6,   1,   7,  26,   0,  42,   0,\n",
       "          0,  12,  17,  17,  36,   0,   1,   1,   1,   1,   0,   1,   0,\n",
       "          0,  34,   0,   0],\n",
       "       [  0,  46,  11,   2,   3,  36,  11,   1,   3,  10,   0,  31,   0,\n",
       "          0,  16,  16,  25,  39,   1,   2,   0,   5,   0,   1,   2,   0,\n",
       "          0,  50,   0,   0],\n",
       "       [  2,   0,   4,  11,   0,   2,   2,   0,   2,   7,   3,   1,   1,\n",
       "          0,   0,   0,   0, 260,   1,   0,   1,   1,   0,   0,   1,   0,\n",
       "          0,   6,   0,   0],\n",
       "       [ 57,   0,   3,  24,  30,   0,  21,   7,  14,   3,  24,   0,  14,\n",
       "          1,   2,   0,   0,  47,  42,   0,  28,   0,   1,   2,   0,   0,\n",
       "          0,   0,   0,   0],\n",
       "       [  4,  22,  34,   5,   2,  31,  14,   1,   7,  36,   4,  15,   0,\n",
       "          0,  14,   2,   4,  35,   3,  10,   3,   3,   0,   2,   6,   0,\n",
       "          1,  23,   7,   0],\n",
       "       [ 31,   1,   3,   5,  10,   2,   4,  28,   5,   2,   3,   1,  14,\n",
       "          5,   6,   0,   1,  17,   4,   0, 165,   0,   1,   0,   0,   1,\n",
       "          0,   2,   0,   0],\n",
       "       [  3,  11,  25,   4,  14,  17,  10,   0,  11,  38,  13,   6,   1,\n",
       "          2,   4,   0,   2,  47,   6,   4,  18,   3,   3,   0,   2,   0,\n",
       "          2,  21,   6,   5],\n",
       "       [ 13,   3,  38,  10,  17,  14,  25,  10,  17,  22,  24,   6,   2,\n",
       "          2,   6,   0,   3,  62,   3,   0,  29,   2,   9,   1,   0,   0,\n",
       "          1,   7,   0,   2],\n",
       "       [  9,   4,  15,  13,  15,  12,  24,   6,  15,  22,  11,   3,   3,\n",
       "          2,   5,   0,   1,  69,  13,   3,  13,   1,   0,  10,   2,   1,\n",
       "          0,   7,   0,   3],\n",
       "       [  6,  14,  36,   6,   2,  12,   8,   0,   4,  12,   2,  11,   2,\n",
       "          1,  14,   4,   7,  36,   2,   7,   4,   8,   0,   0,  13,   1,\n",
       "          4,  37,   5,   0],\n",
       "       [  6,   5,  35,  24,  12,  14,  30,  11,  21,  28,  10,   4,   2,\n",
       "          1,   2,   0,   2,  57,   9,   4,  16,   3,   1,   1,   5,   8,\n",
       "          2,   5,   1,   3],\n",
       "       [  0,  27,  54,   0,   5,  16,   7,   0,   1,  20,   1,  18,   0,\n",
       "          0,  14,   4,   7,  21,   0,   7,   0,   3,   0,   1,  11,   1,\n",
       "          7,  78,   7,   0],\n",
       "       [  0,  16,  27,   0,   0,   8,   2,   0,   0,   9,   0,  29,   0,\n",
       "          0,  14,   8,  10,  24,   0,   2,   0,   1,   0,   0,  10,   0,\n",
       "          4, 136,   0,   0],\n",
       "       [  1,  16,  31,   2,   5,  58,   5,   1,   4,  15,   2,  14,   1,\n",
       "          0,  12,   3,   9,  35,   1,   5,   2,   0,   1,   1,   9,   4,\n",
       "          5,  27,  12,   0],\n",
       "       [ 10,  12,  16,   7,   7,  32,  18,   2,  12,  12,  12,   8,   1,\n",
       "          0,   6,   2,   6,  53,   9,   2,  27,   9,   2,   1,   6,   1,\n",
       "          1,   9,   3,  11]], dtype=int64)"
      ]
     },
     "execution_count": 154,
     "metadata": {},
     "output_type": "execute_result"
    }
   ],
   "source": [
    "import sklearn as sk\n",
    "cnf=sk.metrics.confusion_matrix(y_val, pre)\n",
    "cnf"
   ]
  },
  {
   "cell_type": "code",
   "execution_count": 155,
   "id": "5c2f5ee7",
   "metadata": {
    "ExecuteTime": {
     "end_time": "2022-07-15T11:54:30.536259Z",
     "start_time": "2022-07-15T11:54:30.514317Z"
    }
   },
   "outputs": [],
   "source": [
    "import matplotlib\n",
    "matplotlib.rcParams['figure.figsize'] = [20, 20]"
   ]
  },
  {
   "cell_type": "code",
   "execution_count": 156,
   "id": "ee8e2c50",
   "metadata": {
    "ExecuteTime": {
     "end_time": "2022-07-15T11:54:39.146629Z",
     "start_time": "2022-07-15T11:54:30.541371Z"
    }
   },
   "outputs": [
    {
     "data": {
      "image/png": "[encoded data removed]",
      "text/plain": [
       "<Figure size 1440x1440 with 2 Axes>"
      ]
     },
     "metadata": {
      "needs_background": "light"
     },
     "output_type": "display_data"
    }
   ],
   "source": [
    "import seaborn as sn\n",
    "# labels = ['True Neg','False Pos','False Neg','True Pos']\n",
    "\n",
    "# labels = np.asarray(labels).reshape(2,2)\n",
    "\n",
    "ax = sns.heatmap(cnf,annot=True, fmt='', cmap='Blues')\n",
    "\n",
    "ax.set_title('Seaborn Confusion Matrix with labels\\n\\n');\n",
    "ax.set_xlabel('\\nPredicted Values')\n",
    "ax.set_ylabel('Actual Values ');\n",
    "\n",
    "## Ticket labels - List must be in alphabetical order\n",
    "# ax.xaxis.set_ticklabels(['False','True'])\n",
    "# ax.yaxis.set_ticklabels(['False','True'])\n",
    "\n",
    "## Display the visualization of the Confusion Matrix.\n",
    "plt.show()"
   ]
  },
  {
   "cell_type": "code",
   "execution_count": 157,
   "id": "2f1e705b",
   "metadata": {
    "ExecuteTime": {
     "end_time": "2022-07-15T11:54:39.520694Z",
     "start_time": "2022-07-15T11:54:39.148566Z"
    }
   },
   "outputs": [
    {
     "data": {
      "text/plain": [
       "0.2318888888888889"
      ]
     },
     "execution_count": 157,
     "metadata": {},
     "output_type": "execute_result"
    }
   ],
   "source": [
    "eclf1.score(x_val,y_val)"
   ]
  },
  {
   "cell_type": "code",
   "execution_count": 158,
   "id": "13126112",
   "metadata": {
    "ExecuteTime": {
     "end_time": "2022-07-15T11:54:39.568375Z",
     "start_time": "2022-07-15T11:54:39.522689Z"
    }
   },
   "outputs": [
    {
     "data": {
      "text/html": [
       "<div>\n",
       "<style scoped>\n",
       "    .dataframe tbody tr th:only-of-type {\n",
       "        vertical-align: middle;\n",
       "    }\n",
       "\n",
       "    .dataframe tbody tr th {\n",
       "        vertical-align: top;\n",
       "    }\n",
       "\n",
       "    .dataframe thead th {\n",
       "        text-align: right;\n",
       "    }\n",
       "</style>\n",
       "<table border=\"1\" class=\"dataframe\">\n",
       "  <thead>\n",
       "    <tr style=\"text-align: right;\">\n",
       "      <th></th>\n",
       "      <th>X</th>\n",
       "      <th>Y</th>\n",
       "      <th>year</th>\n",
       "      <th>month</th>\n",
       "      <th>day</th>\n",
       "      <th>hour</th>\n",
       "      <th>minute</th>\n",
       "      <th>0 Block of 6TH ST</th>\n",
       "      <th>0 Block of JONES ST</th>\n",
       "      <th>0 Block of OFARRELL ST</th>\n",
       "      <th>...</th>\n",
       "      <th>RICHMOND</th>\n",
       "      <th>SOUTHERN</th>\n",
       "      <th>TARAVAL</th>\n",
       "      <th>TENDERLOIN</th>\n",
       "      <th>Friday</th>\n",
       "      <th>Monday</th>\n",
       "      <th>Saturday</th>\n",
       "      <th>Thursday</th>\n",
       "      <th>Tuesday</th>\n",
       "      <th>Wednesday</th>\n",
       "    </tr>\n",
       "  </thead>\n",
       "  <tbody>\n",
       "    <tr>\n",
       "      <th>15925</th>\n",
       "      <td>-122.413354</td>\n",
       "      <td>37.769075</td>\n",
       "      <td>2014</td>\n",
       "      <td>11</td>\n",
       "      <td>16</td>\n",
       "      <td>7</td>\n",
       "      <td>30</td>\n",
       "      <td>0</td>\n",
       "      <td>0</td>\n",
       "      <td>0</td>\n",
       "      <td>...</td>\n",
       "      <td>0</td>\n",
       "      <td>0</td>\n",
       "      <td>0</td>\n",
       "      <td>0</td>\n",
       "      <td>0</td>\n",
       "      <td>0</td>\n",
       "      <td>0</td>\n",
       "      <td>0</td>\n",
       "      <td>0</td>\n",
       "      <td>0</td>\n",
       "    </tr>\n",
       "  </tbody>\n",
       "</table>\n",
       "<p>1 rows × 72 columns</p>\n",
       "</div>"
      ],
      "text/plain": [
       "                X          Y  year  month  day  hour  minute  \\\n",
       "15925 -122.413354  37.769075  2014     11   16     7      30   \n",
       "\n",
       "       0 Block of 6TH ST  0 Block of JONES ST  0 Block of OFARRELL ST  ...  \\\n",
       "15925                  0                    0                       0  ...   \n",
       "\n",
       "       RICHMOND  SOUTHERN  TARAVAL  TENDERLOIN  Friday  Monday  Saturday  \\\n",
       "15925         0         0        0           0       0       0         0   \n",
       "\n",
       "       Thursday  Tuesday  Wednesday  \n",
       "15925         0        0          0  \n",
       "\n",
       "[1 rows x 72 columns]"
      ]
     },
     "execution_count": 158,
     "metadata": {},
     "output_type": "execute_result"
    }
   ],
   "source": [
    "x_train.head(1)"
   ]
  },
  {
   "cell_type": "code",
   "execution_count": 159,
   "id": "d8aab8cc",
   "metadata": {
    "ExecuteTime": {
     "end_time": "2022-07-15T11:54:39.584133Z",
     "start_time": "2022-07-15T11:54:39.571352Z"
    }
   },
   "outputs": [
    {
     "data": {
      "text/plain": [
       "59"
      ]
     },
     "execution_count": 159,
     "metadata": {},
     "output_type": "execute_result"
    }
   ],
   "source": [
    "len(x_val.columns[7:-6])"
   ]
  },
  {
   "cell_type": "code",
   "execution_count": 160,
   "id": "bb9c2528",
   "metadata": {
    "ExecuteTime": {
     "end_time": "2022-07-15T11:54:39.600089Z",
     "start_time": "2022-07-15T11:54:39.586127Z"
    }
   },
   "outputs": [],
   "source": [
    "import json"
   ]
  },
  {
   "cell_type": "code",
   "execution_count": 162,
   "id": "778edf5d",
   "metadata": {
    "ExecuteTime": {
     "end_time": "2022-07-15T12:15:43.070778Z",
     "start_time": "2022-07-15T12:15:43.055060Z"
    }
   },
   "outputs": [],
   "source": [
    "column={'data_columns':[i for i in x_train.columns]}"
   ]
  },
  {
   "cell_type": "code",
   "execution_count": 163,
   "id": "c046eb1c",
   "metadata": {
    "ExecuteTime": {
     "end_time": "2022-07-15T12:15:44.566951Z",
     "start_time": "2022-07-15T12:15:44.547830Z"
    }
   },
   "outputs": [],
   "source": [
    "with open('column.json', 'w') as f:\n",
    "    json.dump(column, f)"
   ]
  },
  {
   "cell_type": "code",
   "execution_count": 164,
   "id": "02245491",
   "metadata": {
    "ExecuteTime": {
     "end_time": "2022-07-15T12:16:10.993391Z",
     "start_time": "2022-07-15T12:16:10.960479Z"
    }
   },
   "outputs": [
    {
     "ename": "ValueError",
     "evalue": "I/O operation on closed file.",
     "output_type": "error",
     "traceback": [
      "\u001b[1;31m---------------------------------------------------------------------------\u001b[0m",
      "\u001b[1;31mValueError\u001b[0m                                Traceback (most recent call last)",
      "\u001b[1;32m<ipython-input-164-5635b66839f8>\u001b[0m in \u001b[0;36m<module>\u001b[1;34m\u001b[0m\n\u001b[1;32m----> 1\u001b[1;33m \u001b[0mdata_columns\u001b[0m\u001b[1;33m=\u001b[0m\u001b[0mjson\u001b[0m\u001b[1;33m.\u001b[0m\u001b[0mload\u001b[0m\u001b[1;33m(\u001b[0m\u001b[0mf\u001b[0m\u001b[1;33m)\u001b[0m\u001b[1;33m[\u001b[0m\u001b[1;34m'data_columns'\u001b[0m\u001b[1;33m]\u001b[0m\u001b[1;33m\u001b[0m\u001b[1;33m\u001b[0m\u001b[0m\n\u001b[0m\u001b[0;32m      2\u001b[0m \u001b[0mdata_columns\u001b[0m\u001b[1;33m\u001b[0m\u001b[1;33m\u001b[0m\u001b[0m\n",
      "\u001b[1;32m~\\anaconda3\\lib\\json\\__init__.py\u001b[0m in \u001b[0;36mload\u001b[1;34m(fp, cls, object_hook, parse_float, parse_int, parse_constant, object_pairs_hook, **kw)\u001b[0m\n\u001b[0;32m    291\u001b[0m     \u001b[0mkwarg\u001b[0m\u001b[1;33m;\u001b[0m \u001b[0motherwise\u001b[0m\u001b[0;31m \u001b[0m\u001b[0;31m`\u001b[0m\u001b[0;31m`\u001b[0m\u001b[0mJSONDecoder\u001b[0m\u001b[0;31m`\u001b[0m\u001b[0;31m`\u001b[0m \u001b[1;32mis\u001b[0m \u001b[0mused\u001b[0m\u001b[1;33m.\u001b[0m\u001b[1;33m\u001b[0m\u001b[1;33m\u001b[0m\u001b[0m\n\u001b[0;32m    292\u001b[0m     \"\"\"\n\u001b[1;32m--> 293\u001b[1;33m     return loads(fp.read(),\n\u001b[0m\u001b[0;32m    294\u001b[0m         \u001b[0mcls\u001b[0m\u001b[1;33m=\u001b[0m\u001b[0mcls\u001b[0m\u001b[1;33m,\u001b[0m \u001b[0mobject_hook\u001b[0m\u001b[1;33m=\u001b[0m\u001b[0mobject_hook\u001b[0m\u001b[1;33m,\u001b[0m\u001b[1;33m\u001b[0m\u001b[1;33m\u001b[0m\u001b[0m\n\u001b[0;32m    295\u001b[0m         \u001b[0mparse_float\u001b[0m\u001b[1;33m=\u001b[0m\u001b[0mparse_float\u001b[0m\u001b[1;33m,\u001b[0m \u001b[0mparse_int\u001b[0m\u001b[1;33m=\u001b[0m\u001b[0mparse_int\u001b[0m\u001b[1;33m,\u001b[0m\u001b[1;33m\u001b[0m\u001b[1;33m\u001b[0m\u001b[0m\n",
      "\u001b[1;31mValueError\u001b[0m: I/O operation on closed file."
     ]
    }
   ],
   "source": [
    "data_columns=json.load(f)['data_columns']\n",
    "data_columns"
   ]
  },
  {
   "cell_type": "code",
   "execution_count": null,
   "id": "32983de5",
   "metadata": {},
   "outputs": [],
   "source": []
  }
 ],
 "metadata": {
  "kernelspec": {
   "display_name": "Python 3 (ipykernel)",
   "language": "python",
   "name": "python3"
  },
  "language_info": {
   "codemirror_mode": {
    "name": "ipython",
    "version": 3
   },
   "file_extension": ".py",
   "mimetype": "text/x-python",
   "name": "python",
   "nbconvert_exporter": "python",
   "pygments_lexer": "ipython3",
   "version": "3.10.5"
  },
  "nbTranslate": {
   "displayLangs": [
    "*"
   ],
   "hotkey": "alt-t",
   "langInMainMenu": true,
   "sourceLang": "en",
   "targetLang": "fr",
   "useGoogleTranslate": true
  },
  "toc": {
   "base_numbering": 1,
   "nav_menu": {},
   "number_sections": true,
   "sideBar": true,
   "skip_h1_title": false,
   "title_cell": "Table of Contents",
   "title_sidebar": "Contents",
   "toc_cell": false,
   "toc_position": {},
   "toc_section_display": true,
   "toc_window_display": false
  }
 },
 "nbformat": 4,
 "nbformat_minor": 5
}
