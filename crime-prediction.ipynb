{
 "cells": [
  {
   "cell_type": "markdown",
   "metadata": {},
   "source": [
    "# San Francisco Crime Prediction\n",
    "### Welcome to the San Francisco crime prediction notebook, where we will be predicting the type of crime commited in San Francisco given the dates, day of the week, PD district, address and location."
   ]
  },
  {
   "cell_type": "code",
   "execution_count": 1,
   "metadata": {
    "ExecuteTime": {
     "end_time": "2022-07-28T08:29:33.328961Z",
     "start_time": "2022-07-28T08:29:22.017744Z"
    },
    "_cell_guid": "b1076dfc-b9ad-4769-8c92-a6c4dae69d19",
    "_uuid": "8f2839f25d086af736a60e9eeb907d3b93b6e0e5"
   },
   "outputs": [],
   "source": [
    "# This Python 3 environment comes with many helpful analytics libraries installed\n",
    "# It is defined by the kaggle/python Docker image: https://github.com/kaggle/docker-python\n",
    "# For example, here's several helpful packages to load\n",
    "\n",
    "import numpy as np # linear algebra\n",
    "import pandas as pd # data processing, CSV file I/O (e.g. pd.read_csv)\n",
    "import seaborn as sns\n",
    "import geopandas as gpd\n",
    "import matplotlib.pyplot as plt\n",
    "from sklearn.model_selection import train_test_split\n",
    "from sklearn import preprocessing as prepro\n",
    "from keras.layers import Dense, Dropout, BatchNormalization\n",
    "from tensorflow.keras.utils import to_categorical\n",
    "from keras.models import Sequential\n",
    "from tensorflow.keras.optimizers import Adam\n",
    "from collections import Counter\n",
    "\n",
    "# Input data files are available in the read-only \"../input/\" directory\n",
    "# For example, running this (by clicking run or pressing Shift+Enter) will list all files under the input directory\n",
    "\n",
    "import os\n",
    "# for dirname, _, filenames in os.walk('/kaggle/input'):\n",
    "#     for filename in filenames:\n",
    "#         print(os.path.join(dirname, filename))\n",
    "\n",
    "# You can write up to 5GB to the current directory (/kaggle/working/) that gets preserved as output when you create a version using \"Save & Run All\" \n",
    "# You can also write temporary files to /kaggle/temp/, but they won't be saved outside of the current session"
   ]
  },
  {
   "cell_type": "markdown",
   "metadata": {},
   "source": [
    "### Firstly, we will collect the train and test data."
   ]
  },
  {
   "cell_type": "code",
   "execution_count": 2,
   "metadata": {
    "ExecuteTime": {
     "end_time": "2022-07-28T08:29:36.206541Z",
     "start_time": "2022-07-28T08:29:33.332161Z"
    },
    "_cell_guid": "79c7e3d0-c299-4dcb-8224-4455121ee9b0",
    "_uuid": "d629ff2d2480ee46fbb7e2d37f6b5fab8052498a"
   },
   "outputs": [],
   "source": [
    "train = pd.read_csv('train.csv')\n",
    "test = pd.read_csv('test.csv')\n"
   ]
  },
  {
   "cell_type": "code",
   "execution_count": 3,
   "metadata": {
    "ExecuteTime": {
     "end_time": "2022-07-28T08:29:36.268175Z",
     "start_time": "2022-07-28T08:29:36.209498Z"
    }
   },
   "outputs": [],
   "source": [
    "X=train.copy()"
   ]
  },
  {
   "cell_type": "code",
   "execution_count": 4,
   "metadata": {
    "ExecuteTime": {
     "end_time": "2022-07-28T08:29:36.313938Z",
     "start_time": "2022-07-28T08:29:36.273679Z"
    },
    "scrolled": true
   },
   "outputs": [
    {
     "data": {
      "text/html": [
       "<div>\n",
       "<style scoped>\n",
       "    .dataframe tbody tr th:only-of-type {\n",
       "        vertical-align: middle;\n",
       "    }\n",
       "\n",
       "    .dataframe tbody tr th {\n",
       "        vertical-align: top;\n",
       "    }\n",
       "\n",
       "    .dataframe thead th {\n",
       "        text-align: right;\n",
       "    }\n",
       "</style>\n",
       "<table border=\"1\" class=\"dataframe\">\n",
       "  <thead>\n",
       "    <tr style=\"text-align: right;\">\n",
       "      <th></th>\n",
       "      <th>Dates</th>\n",
       "      <th>Category</th>\n",
       "      <th>Descript</th>\n",
       "      <th>DayOfWeek</th>\n",
       "      <th>PdDistrict</th>\n",
       "      <th>Resolution</th>\n",
       "      <th>Address</th>\n",
       "      <th>X</th>\n",
       "      <th>Y</th>\n",
       "    </tr>\n",
       "  </thead>\n",
       "  <tbody>\n",
       "    <tr>\n",
       "      <th>0</th>\n",
       "      <td>2015-05-13 23:53:00</td>\n",
       "      <td>WARRANTS</td>\n",
       "      <td>WARRANT ARREST</td>\n",
       "      <td>Wednesday</td>\n",
       "      <td>NORTHERN</td>\n",
       "      <td>ARREST, BOOKED</td>\n",
       "      <td>OAK ST / LAGUNA ST</td>\n",
       "      <td>-122.425892</td>\n",
       "      <td>37.774599</td>\n",
       "    </tr>\n",
       "    <tr>\n",
       "      <th>1</th>\n",
       "      <td>2015-05-13 23:53:00</td>\n",
       "      <td>OTHER OFFENSES</td>\n",
       "      <td>TRAFFIC VIOLATION ARREST</td>\n",
       "      <td>Wednesday</td>\n",
       "      <td>NORTHERN</td>\n",
       "      <td>ARREST, BOOKED</td>\n",
       "      <td>OAK ST / LAGUNA ST</td>\n",
       "      <td>-122.425892</td>\n",
       "      <td>37.774599</td>\n",
       "    </tr>\n",
       "    <tr>\n",
       "      <th>2</th>\n",
       "      <td>2015-05-13 23:33:00</td>\n",
       "      <td>OTHER OFFENSES</td>\n",
       "      <td>TRAFFIC VIOLATION ARREST</td>\n",
       "      <td>Wednesday</td>\n",
       "      <td>NORTHERN</td>\n",
       "      <td>ARREST, BOOKED</td>\n",
       "      <td>VANNESS AV / GREENWICH ST</td>\n",
       "      <td>-122.424363</td>\n",
       "      <td>37.800414</td>\n",
       "    </tr>\n",
       "    <tr>\n",
       "      <th>3</th>\n",
       "      <td>2015-05-13 23:30:00</td>\n",
       "      <td>LARCENY/THEFT</td>\n",
       "      <td>GRAND THEFT FROM LOCKED AUTO</td>\n",
       "      <td>Wednesday</td>\n",
       "      <td>NORTHERN</td>\n",
       "      <td>NONE</td>\n",
       "      <td>1500 Block of LOMBARD ST</td>\n",
       "      <td>-122.426995</td>\n",
       "      <td>37.800873</td>\n",
       "    </tr>\n",
       "    <tr>\n",
       "      <th>4</th>\n",
       "      <td>2015-05-13 23:30:00</td>\n",
       "      <td>LARCENY/THEFT</td>\n",
       "      <td>GRAND THEFT FROM LOCKED AUTO</td>\n",
       "      <td>Wednesday</td>\n",
       "      <td>PARK</td>\n",
       "      <td>NONE</td>\n",
       "      <td>100 Block of BRODERICK ST</td>\n",
       "      <td>-122.438738</td>\n",
       "      <td>37.771541</td>\n",
       "    </tr>\n",
       "  </tbody>\n",
       "</table>\n",
       "</div>"
      ],
      "text/plain": [
       "                 Dates        Category                      Descript  \\\n",
       "0  2015-05-13 23:53:00        WARRANTS                WARRANT ARREST   \n",
       "1  2015-05-13 23:53:00  OTHER OFFENSES      TRAFFIC VIOLATION ARREST   \n",
       "2  2015-05-13 23:33:00  OTHER OFFENSES      TRAFFIC VIOLATION ARREST   \n",
       "3  2015-05-13 23:30:00   LARCENY/THEFT  GRAND THEFT FROM LOCKED AUTO   \n",
       "4  2015-05-13 23:30:00   LARCENY/THEFT  GRAND THEFT FROM LOCKED AUTO   \n",
       "\n",
       "   DayOfWeek PdDistrict      Resolution                    Address  \\\n",
       "0  Wednesday   NORTHERN  ARREST, BOOKED         OAK ST / LAGUNA ST   \n",
       "1  Wednesday   NORTHERN  ARREST, BOOKED         OAK ST / LAGUNA ST   \n",
       "2  Wednesday   NORTHERN  ARREST, BOOKED  VANNESS AV / GREENWICH ST   \n",
       "3  Wednesday   NORTHERN            NONE   1500 Block of LOMBARD ST   \n",
       "4  Wednesday       PARK            NONE  100 Block of BRODERICK ST   \n",
       "\n",
       "            X          Y  \n",
       "0 -122.425892  37.774599  \n",
       "1 -122.425892  37.774599  \n",
       "2 -122.424363  37.800414  \n",
       "3 -122.426995  37.800873  \n",
       "4 -122.438738  37.771541  "
      ]
     },
     "execution_count": 4,
     "metadata": {},
     "output_type": "execute_result"
    }
   ],
   "source": [
    "X.head()"
   ]
  },
  {
   "cell_type": "code",
   "execution_count": 5,
   "metadata": {
    "ExecuteTime": {
     "end_time": "2022-07-28T08:29:36.329816Z",
     "start_time": "2022-07-28T08:29:36.317834Z"
    }
   },
   "outputs": [],
   "source": [
    "# import urllib\n",
    "# # gdf=train.copy()\n",
    "# # gdf['Coordinates'] = list(zip(train.X, train.Y))\n",
    "# # gdf\n",
    "# # def create_gdf(df):\n",
    "# #     gdf = df.copy()\n",
    "# #     gdf['Coordinates'] = list(zip(gdf.X, gdf.Y))\n",
    "# # #     gdf.Coordinates = gdf.Coordinates.apply(Point)\n",
    "# #     gdf = gpd.GeoDataFrame(\n",
    "# #         gdf, geometry='Coordinates', crs={'init': 'epsg:4326'})\n",
    "# #     return gdf\n",
    "\n",
    "# # train_gdf = create_gdf(train)\n",
    "\n",
    "# # world = gpd.read_file(gpd.datasets.get_path('naturalearth_lowres'))\n",
    "# # ax = world.plot(color='white', edgecolor='black')\n",
    "# # train_gdf.plot(ax=ax, color='red')\n",
    "# # plt.show()\n",
    "# # Downloading the shapefile of the area \n",
    "# url = 'https://data.sfgov.org/api/geospatial/wkhw-cjsf?method=export&format=Shapefile'\n",
    "# with urllib.request.urlopen(url) as response, open('pd_data.zip', 'wb') as out_file:\n",
    "#     shutil.copyfileobj(response, out_file)\n",
    "# # Unzipping it\n",
    "# with zipfile.ZipFile('pd_data.zip', 'r') as zip_ref:\n",
    "#     zip_ref.extractall('pd_data')\n",
    "# # Loading to a geopandas dataframe\n",
    "# for filename in os.listdir('./pd_data/'):\n",
    "#     if re.match(\".+\\.shp\", filename):\n",
    "#         pd_districts = gpd.read_file('./pd_data/'+filename)\n",
    "#         break\n",
    "# # Defining the coordinate system to longitude/latitude\n",
    "# pd_districts.crs={'init': 'epsg:4326'}\n",
    "\n",
    "# # Merging our train dataset with the geo-dataframe\n",
    "# pd_districts = pd_districts.merge(\n",
    "#     train.groupby('PdDistrict').count().iloc[:, [0]].rename(\n",
    "#         columns={'Dates': 'Incidents'}),\n",
    "#     how='inner',\n",
    "#     left_on='district',\n",
    "#     right_index=True,\n",
    "#     suffixes=('_x', '_y'))\n",
    "\n",
    "# # Transforming the coordinate system to Spherical Mercator for\n",
    "# # compatibility with the tiling background\n",
    "# pd_districts = pd_districts.to_crs({'init': 'epsg:3857'})\n",
    "\n",
    "# # Calculating the incidents per day for every district\n",
    "# train_days = train.groupby('Date').count().shape[0]\n",
    "# pd_districts['inc_per_day'] = pd_districts.Incidents/train_days\n",
    "\n",
    "# # Ploting the data\n",
    "# fig, ax = plt.subplots(figsize=(10, 10))\n",
    "# pd_districts.plot(\n",
    "#     column='inc_per_day',\n",
    "#     cmap='Reds',\n",
    "#     alpha=0.6,\n",
    "#     edgecolor='r',\n",
    "#     linestyle='-',\n",
    "#     linewidth=1,\n",
    "#     legend=True,\n",
    "#     ax=ax)\n",
    "\n",
    "# def add_basemap(ax, zoom, url='http://tile.stamen.com/terrain/tileZ/tileX/tileY.png'):\n",
    "#     \"\"\"Function that add the tile background to the map\"\"\"\n",
    "#     xmin, xmax, ymin, ymax = ax.axis()\n",
    "#     basemap, extent = ctx.bounds2img(xmin, ymin, xmax, ymax, zoom=zoom, url=url)\n",
    "#     ax.imshow(basemap, extent=extent, interpolation='bilinear')\n",
    "#     # restore original x/y limits\n",
    "#     ax.axis((xmin, xmax, ymin, ymax))\n",
    "\n",
    "# # Adding the background\n",
    "# add_basemap(ax, zoom=11, url=ctx.sources.ST_TONER_LITE)\n",
    "\n",
    "# # Adding the name of the districts\n",
    "# for index in pd_districts.index:\n",
    "#     plt.annotate(\n",
    "#         pd_districts.loc[index].district,\n",
    "#         (pd_districts.loc[index].geometry.centroid.x,\n",
    "#          pd_districts.loc[index].geometry.centroid.y),\n",
    "#         color='#353535',\n",
    "#         fontsize='large',\n",
    "#         fontweight='heavy',\n",
    "#         horizontalalignment='center'\n",
    "#     )\n",
    "\n",
    "# ax.set_axis_off()\n",
    "# plt.show()"
   ]
  },
  {
   "cell_type": "code",
   "execution_count": 6,
   "metadata": {
    "ExecuteTime": {
     "end_time": "2022-07-28T08:29:36.500583Z",
     "start_time": "2022-07-28T08:29:36.335748Z"
    }
   },
   "outputs": [
    {
     "data": {
      "text/html": [
       "<div>\n",
       "<style scoped>\n",
       "    .dataframe tbody tr th:only-of-type {\n",
       "        vertical-align: middle;\n",
       "    }\n",
       "\n",
       "    .dataframe tbody tr th {\n",
       "        vertical-align: top;\n",
       "    }\n",
       "\n",
       "    .dataframe thead th {\n",
       "        text-align: right;\n",
       "    }\n",
       "</style>\n",
       "<table border=\"1\" class=\"dataframe\">\n",
       "  <thead>\n",
       "    <tr style=\"text-align: right;\">\n",
       "      <th></th>\n",
       "      <th>X</th>\n",
       "      <th>Y</th>\n",
       "    </tr>\n",
       "  </thead>\n",
       "  <tbody>\n",
       "    <tr>\n",
       "      <th>count</th>\n",
       "      <td>878049.000000</td>\n",
       "      <td>878049.000000</td>\n",
       "    </tr>\n",
       "    <tr>\n",
       "      <th>mean</th>\n",
       "      <td>-122.422616</td>\n",
       "      <td>37.771020</td>\n",
       "    </tr>\n",
       "    <tr>\n",
       "      <th>std</th>\n",
       "      <td>0.030354</td>\n",
       "      <td>0.456893</td>\n",
       "    </tr>\n",
       "    <tr>\n",
       "      <th>min</th>\n",
       "      <td>-122.513642</td>\n",
       "      <td>37.707879</td>\n",
       "    </tr>\n",
       "    <tr>\n",
       "      <th>25%</th>\n",
       "      <td>-122.432952</td>\n",
       "      <td>37.752427</td>\n",
       "    </tr>\n",
       "    <tr>\n",
       "      <th>50%</th>\n",
       "      <td>-122.416420</td>\n",
       "      <td>37.775421</td>\n",
       "    </tr>\n",
       "    <tr>\n",
       "      <th>75%</th>\n",
       "      <td>-122.406959</td>\n",
       "      <td>37.784369</td>\n",
       "    </tr>\n",
       "    <tr>\n",
       "      <th>max</th>\n",
       "      <td>-120.500000</td>\n",
       "      <td>90.000000</td>\n",
       "    </tr>\n",
       "  </tbody>\n",
       "</table>\n",
       "</div>"
      ],
      "text/plain": [
       "                   X              Y\n",
       "count  878049.000000  878049.000000\n",
       "mean     -122.422616      37.771020\n",
       "std         0.030354       0.456893\n",
       "min      -122.513642      37.707879\n",
       "25%      -122.432952      37.752427\n",
       "50%      -122.416420      37.775421\n",
       "75%      -122.406959      37.784369\n",
       "max      -120.500000      90.000000"
      ]
     },
     "execution_count": 6,
     "metadata": {},
     "output_type": "execute_result"
    }
   ],
   "source": [
    "X.describe()"
   ]
  },
  {
   "cell_type": "code",
   "execution_count": 7,
   "metadata": {
    "ExecuteTime": {
     "end_time": "2022-07-28T08:29:37.202643Z",
     "start_time": "2022-07-28T08:29:36.503875Z"
    }
   },
   "outputs": [
    {
     "name": "stdout",
     "output_type": "stream",
     "text": [
      "<class 'pandas.core.frame.DataFrame'>\n",
      "RangeIndex: 878049 entries, 0 to 878048\n",
      "Data columns (total 9 columns):\n",
      " #   Column      Non-Null Count   Dtype  \n",
      "---  ------      --------------   -----  \n",
      " 0   Dates       878049 non-null  object \n",
      " 1   Category    878049 non-null  object \n",
      " 2   Descript    878049 non-null  object \n",
      " 3   DayOfWeek   878049 non-null  object \n",
      " 4   PdDistrict  878049 non-null  object \n",
      " 5   Resolution  878049 non-null  object \n",
      " 6   Address     878049 non-null  object \n",
      " 7   X           878049 non-null  float64\n",
      " 8   Y           878049 non-null  float64\n",
      "dtypes: float64(2), object(7)\n",
      "memory usage: 60.3+ MB\n"
     ]
    }
   ],
   "source": [
    "X.info()"
   ]
  },
  {
   "cell_type": "code",
   "execution_count": 8,
   "metadata": {
    "ExecuteTime": {
     "end_time": "2022-07-28T08:29:37.890441Z",
     "start_time": "2022-07-28T08:29:37.204602Z"
    }
   },
   "outputs": [
    {
     "data": {
      "text/plain": [
       "Dates         0\n",
       "Category      0\n",
       "Descript      0\n",
       "DayOfWeek     0\n",
       "PdDistrict    0\n",
       "Resolution    0\n",
       "Address       0\n",
       "X             0\n",
       "Y             0\n",
       "dtype: int64"
      ]
     },
     "execution_count": 8,
     "metadata": {},
     "output_type": "execute_result"
    }
   ],
   "source": [
    "X.isnull().sum()"
   ]
  },
  {
   "cell_type": "code",
   "execution_count": 9,
   "metadata": {
    "ExecuteTime": {
     "end_time": "2022-07-28T08:29:37.967700Z",
     "start_time": "2022-07-28T08:29:37.892437Z"
    }
   },
   "outputs": [
    {
     "data": {
      "text/plain": [
       "39"
      ]
     },
     "execution_count": 9,
     "metadata": {},
     "output_type": "execute_result"
    }
   ],
   "source": [
    "len(X.Category.unique())"
   ]
  },
  {
   "cell_type": "code",
   "execution_count": 10,
   "metadata": {
    "ExecuteTime": {
     "end_time": "2022-07-28T08:29:38.091414Z",
     "start_time": "2022-07-28T08:29:37.974173Z"
    }
   },
   "outputs": [
    {
     "data": {
      "text/plain": [
       "879"
      ]
     },
     "execution_count": 10,
     "metadata": {},
     "output_type": "execute_result"
    }
   ],
   "source": [
    "len(X.Descript.unique())"
   ]
  },
  {
   "cell_type": "markdown",
   "metadata": {},
   "source": [
    "# Feature engineering"
   ]
  },
  {
   "cell_type": "markdown",
   "metadata": {},
   "source": [
    "### The feature engineering begins by encoding the categorical features (Day of the week, PD district, address and category) using a LabelEncoder."
   ]
  },
  {
   "cell_type": "code",
   "execution_count": 11,
   "metadata": {
    "ExecuteTime": {
     "end_time": "2022-07-28T08:29:40.034244Z",
     "start_time": "2022-07-28T08:29:38.094407Z"
    }
   },
   "outputs": [],
   "source": [
    "for i in ['DayOfWeek', 'PdDistrict', 'Address', 'Category']:\n",
    "    X[i] = prepro.LabelEncoder().fit_transform(X[i])\n",
    "    if i not in ['Category']:\n",
    "        test[i] = prepro.LabelEncoder().fit_transform(test[i])"
   ]
  },
  {
   "cell_type": "code",
   "execution_count": 12,
   "metadata": {
    "ExecuteTime": {
     "end_time": "2022-07-28T08:29:40.065397Z",
     "start_time": "2022-07-28T08:29:40.037269Z"
    }
   },
   "outputs": [
    {
     "data": {
      "text/html": [
       "<div>\n",
       "<style scoped>\n",
       "    .dataframe tbody tr th:only-of-type {\n",
       "        vertical-align: middle;\n",
       "    }\n",
       "\n",
       "    .dataframe tbody tr th {\n",
       "        vertical-align: top;\n",
       "    }\n",
       "\n",
       "    .dataframe thead th {\n",
       "        text-align: right;\n",
       "    }\n",
       "</style>\n",
       "<table border=\"1\" class=\"dataframe\">\n",
       "  <thead>\n",
       "    <tr style=\"text-align: right;\">\n",
       "      <th></th>\n",
       "      <th>Dates</th>\n",
       "      <th>Category</th>\n",
       "      <th>Descript</th>\n",
       "      <th>DayOfWeek</th>\n",
       "      <th>PdDistrict</th>\n",
       "      <th>Resolution</th>\n",
       "      <th>Address</th>\n",
       "      <th>X</th>\n",
       "      <th>Y</th>\n",
       "    </tr>\n",
       "  </thead>\n",
       "  <tbody>\n",
       "    <tr>\n",
       "      <th>0</th>\n",
       "      <td>2015-05-13 23:53:00</td>\n",
       "      <td>37</td>\n",
       "      <td>WARRANT ARREST</td>\n",
       "      <td>6</td>\n",
       "      <td>4</td>\n",
       "      <td>ARREST, BOOKED</td>\n",
       "      <td>19790</td>\n",
       "      <td>-122.425892</td>\n",
       "      <td>37.774599</td>\n",
       "    </tr>\n",
       "    <tr>\n",
       "      <th>1</th>\n",
       "      <td>2015-05-13 23:53:00</td>\n",
       "      <td>21</td>\n",
       "      <td>TRAFFIC VIOLATION ARREST</td>\n",
       "      <td>6</td>\n",
       "      <td>4</td>\n",
       "      <td>ARREST, BOOKED</td>\n",
       "      <td>19790</td>\n",
       "      <td>-122.425892</td>\n",
       "      <td>37.774599</td>\n",
       "    </tr>\n",
       "    <tr>\n",
       "      <th>2</th>\n",
       "      <td>2015-05-13 23:33:00</td>\n",
       "      <td>21</td>\n",
       "      <td>TRAFFIC VIOLATION ARREST</td>\n",
       "      <td>6</td>\n",
       "      <td>4</td>\n",
       "      <td>ARREST, BOOKED</td>\n",
       "      <td>22697</td>\n",
       "      <td>-122.424363</td>\n",
       "      <td>37.800414</td>\n",
       "    </tr>\n",
       "    <tr>\n",
       "      <th>3</th>\n",
       "      <td>2015-05-13 23:30:00</td>\n",
       "      <td>16</td>\n",
       "      <td>GRAND THEFT FROM LOCKED AUTO</td>\n",
       "      <td>6</td>\n",
       "      <td>4</td>\n",
       "      <td>NONE</td>\n",
       "      <td>4266</td>\n",
       "      <td>-122.426995</td>\n",
       "      <td>37.800873</td>\n",
       "    </tr>\n",
       "    <tr>\n",
       "      <th>4</th>\n",
       "      <td>2015-05-13 23:30:00</td>\n",
       "      <td>16</td>\n",
       "      <td>GRAND THEFT FROM LOCKED AUTO</td>\n",
       "      <td>6</td>\n",
       "      <td>5</td>\n",
       "      <td>NONE</td>\n",
       "      <td>1843</td>\n",
       "      <td>-122.438738</td>\n",
       "      <td>37.771541</td>\n",
       "    </tr>\n",
       "  </tbody>\n",
       "</table>\n",
       "</div>"
      ],
      "text/plain": [
       "                 Dates  Category                      Descript  DayOfWeek  \\\n",
       "0  2015-05-13 23:53:00        37                WARRANT ARREST          6   \n",
       "1  2015-05-13 23:53:00        21      TRAFFIC VIOLATION ARREST          6   \n",
       "2  2015-05-13 23:33:00        21      TRAFFIC VIOLATION ARREST          6   \n",
       "3  2015-05-13 23:30:00        16  GRAND THEFT FROM LOCKED AUTO          6   \n",
       "4  2015-05-13 23:30:00        16  GRAND THEFT FROM LOCKED AUTO          6   \n",
       "\n",
       "   PdDistrict      Resolution  Address           X          Y  \n",
       "0           4  ARREST, BOOKED    19790 -122.425892  37.774599  \n",
       "1           4  ARREST, BOOKED    19790 -122.425892  37.774599  \n",
       "2           4  ARREST, BOOKED    22697 -122.424363  37.800414  \n",
       "3           4            NONE     4266 -122.426995  37.800873  \n",
       "4           5            NONE     1843 -122.438738  37.771541  "
      ]
     },
     "execution_count": 12,
     "metadata": {},
     "output_type": "execute_result"
    }
   ],
   "source": [
    "X.head()"
   ]
  },
  {
   "cell_type": "markdown",
   "metadata": {},
   "source": [
    "### Now the year, month, day, hour and minute variables are extracted out of the 'date' feature and added to the dataset."
   ]
  },
  {
   "cell_type": "code",
   "execution_count": 13,
   "metadata": {
    "ExecuteTime": {
     "end_time": "2022-07-28T08:29:46.705821Z",
     "start_time": "2022-07-28T08:29:40.070905Z"
    }
   },
   "outputs": [],
   "source": [
    "X['year'] = pd.to_datetime(X['Dates']).dt.year\n",
    "X['month'] = pd.to_datetime(X['Dates']).dt.month\n",
    "X['day'] = pd.to_datetime(X['Dates']).dt.day\n",
    "X['hour'] = pd.to_datetime(X['Dates']).dt.hour\n",
    "X['minute'] = pd.to_datetime(X['Dates']).dt.minute\n",
    "\n",
    "test['year'] = pd.to_datetime(test['Dates']).dt.year\n",
    "test['month'] = pd.to_datetime(test['Dates']).dt.month\n",
    "test['day'] = pd.to_datetime(test['Dates']).dt.day\n",
    "test['hour'] = pd.to_datetime(test['Dates']).dt.hour\n",
    "test['minute'] = pd.to_datetime(test['Dates']).dt.minute"
   ]
  },
  {
   "cell_type": "markdown",
   "metadata": {},
   "source": [
    "### The final piece of feature engineering which is done is binning the month, hour and day features."
   ]
  },
  {
   "cell_type": "code",
   "execution_count": 14,
   "metadata": {
    "ExecuteTime": {
     "end_time": "2022-07-28T08:29:46.893554Z",
     "start_time": "2022-07-28T08:29:46.708462Z"
    }
   },
   "outputs": [],
   "source": [
    "for i in [[6, 'month'], [8, 'hour'], [10, 'day']]:\n",
    "    feature = i[1]\n",
    "    bins = i[0]\n",
    "    X[feature+' bin'] = np.floor_divide(X[feature], len(np.unique(X[feature]))/bins)"
   ]
  },
  {
   "cell_type": "code",
   "execution_count": 15,
   "metadata": {
    "ExecuteTime": {
     "end_time": "2022-07-28T08:29:47.141438Z",
     "start_time": "2022-07-28T08:29:46.895553Z"
    }
   },
   "outputs": [],
   "source": [
    "y = X['Category']\n",
    "X = X.drop(['Descript', 'Resolution', 'Dates', 'Category'], axis=1)\n",
    "test = test.drop(['Dates', 'Id'], axis=1)"
   ]
  },
  {
   "cell_type": "markdown",
   "metadata": {},
   "source": [
    "# Data visualisation"
   ]
  },
  {
   "cell_type": "markdown",
   "metadata": {},
   "source": [
    "### We start visualising the data with a correlation heatmap for all the features in our X dataset."
   ]
  },
  {
   "cell_type": "code",
   "execution_count": 16,
   "metadata": {
    "ExecuteTime": {
     "end_time": "2022-07-28T08:29:47.188776Z",
     "start_time": "2022-07-28T08:29:47.150528Z"
    }
   },
   "outputs": [
    {
     "data": {
      "text/html": [
       "<div>\n",
       "<style scoped>\n",
       "    .dataframe tbody tr th:only-of-type {\n",
       "        vertical-align: middle;\n",
       "    }\n",
       "\n",
       "    .dataframe tbody tr th {\n",
       "        vertical-align: top;\n",
       "    }\n",
       "\n",
       "    .dataframe thead th {\n",
       "        text-align: right;\n",
       "    }\n",
       "</style>\n",
       "<table border=\"1\" class=\"dataframe\">\n",
       "  <thead>\n",
       "    <tr style=\"text-align: right;\">\n",
       "      <th></th>\n",
       "      <th>DayOfWeek</th>\n",
       "      <th>PdDistrict</th>\n",
       "      <th>Address</th>\n",
       "      <th>X</th>\n",
       "      <th>Y</th>\n",
       "      <th>year</th>\n",
       "      <th>month</th>\n",
       "      <th>day</th>\n",
       "      <th>hour</th>\n",
       "      <th>minute</th>\n",
       "      <th>month bin</th>\n",
       "      <th>hour bin</th>\n",
       "      <th>day bin</th>\n",
       "    </tr>\n",
       "  </thead>\n",
       "  <tbody>\n",
       "    <tr>\n",
       "      <th>0</th>\n",
       "      <td>6</td>\n",
       "      <td>4</td>\n",
       "      <td>19790</td>\n",
       "      <td>-122.425892</td>\n",
       "      <td>37.774599</td>\n",
       "      <td>2015</td>\n",
       "      <td>5</td>\n",
       "      <td>13</td>\n",
       "      <td>23</td>\n",
       "      <td>53</td>\n",
       "      <td>2.0</td>\n",
       "      <td>7.0</td>\n",
       "      <td>4.0</td>\n",
       "    </tr>\n",
       "    <tr>\n",
       "      <th>1</th>\n",
       "      <td>6</td>\n",
       "      <td>4</td>\n",
       "      <td>19790</td>\n",
       "      <td>-122.425892</td>\n",
       "      <td>37.774599</td>\n",
       "      <td>2015</td>\n",
       "      <td>5</td>\n",
       "      <td>13</td>\n",
       "      <td>23</td>\n",
       "      <td>53</td>\n",
       "      <td>2.0</td>\n",
       "      <td>7.0</td>\n",
       "      <td>4.0</td>\n",
       "    </tr>\n",
       "    <tr>\n",
       "      <th>2</th>\n",
       "      <td>6</td>\n",
       "      <td>4</td>\n",
       "      <td>22697</td>\n",
       "      <td>-122.424363</td>\n",
       "      <td>37.800414</td>\n",
       "      <td>2015</td>\n",
       "      <td>5</td>\n",
       "      <td>13</td>\n",
       "      <td>23</td>\n",
       "      <td>33</td>\n",
       "      <td>2.0</td>\n",
       "      <td>7.0</td>\n",
       "      <td>4.0</td>\n",
       "    </tr>\n",
       "    <tr>\n",
       "      <th>3</th>\n",
       "      <td>6</td>\n",
       "      <td>4</td>\n",
       "      <td>4266</td>\n",
       "      <td>-122.426995</td>\n",
       "      <td>37.800873</td>\n",
       "      <td>2015</td>\n",
       "      <td>5</td>\n",
       "      <td>13</td>\n",
       "      <td>23</td>\n",
       "      <td>30</td>\n",
       "      <td>2.0</td>\n",
       "      <td>7.0</td>\n",
       "      <td>4.0</td>\n",
       "    </tr>\n",
       "    <tr>\n",
       "      <th>4</th>\n",
       "      <td>6</td>\n",
       "      <td>5</td>\n",
       "      <td>1843</td>\n",
       "      <td>-122.438738</td>\n",
       "      <td>37.771541</td>\n",
       "      <td>2015</td>\n",
       "      <td>5</td>\n",
       "      <td>13</td>\n",
       "      <td>23</td>\n",
       "      <td>30</td>\n",
       "      <td>2.0</td>\n",
       "      <td>7.0</td>\n",
       "      <td>4.0</td>\n",
       "    </tr>\n",
       "  </tbody>\n",
       "</table>\n",
       "</div>"
      ],
      "text/plain": [
       "   DayOfWeek  PdDistrict  Address           X          Y  year  month  day  \\\n",
       "0          6           4    19790 -122.425892  37.774599  2015      5   13   \n",
       "1          6           4    19790 -122.425892  37.774599  2015      5   13   \n",
       "2          6           4    22697 -122.424363  37.800414  2015      5   13   \n",
       "3          6           4     4266 -122.426995  37.800873  2015      5   13   \n",
       "4          6           5     1843 -122.438738  37.771541  2015      5   13   \n",
       "\n",
       "   hour  minute  month bin  hour bin  day bin  \n",
       "0    23      53        2.0       7.0      4.0  \n",
       "1    23      53        2.0       7.0      4.0  \n",
       "2    23      33        2.0       7.0      4.0  \n",
       "3    23      30        2.0       7.0      4.0  \n",
       "4    23      30        2.0       7.0      4.0  "
      ]
     },
     "execution_count": 16,
     "metadata": {},
     "output_type": "execute_result"
    }
   ],
   "source": [
    "X.head()"
   ]
  },
  {
   "cell_type": "code",
   "execution_count": 17,
   "metadata": {
    "ExecuteTime": {
     "end_time": "2022-07-28T08:29:47.234561Z",
     "start_time": "2022-07-28T08:29:47.195517Z"
    }
   },
   "outputs": [
    {
     "data": {
      "text/html": [
       "<div>\n",
       "<style scoped>\n",
       "    .dataframe tbody tr th:only-of-type {\n",
       "        vertical-align: middle;\n",
       "    }\n",
       "\n",
       "    .dataframe tbody tr th {\n",
       "        vertical-align: top;\n",
       "    }\n",
       "\n",
       "    .dataframe thead th {\n",
       "        text-align: right;\n",
       "    }\n",
       "</style>\n",
       "<table border=\"1\" class=\"dataframe\">\n",
       "  <thead>\n",
       "    <tr style=\"text-align: right;\">\n",
       "      <th></th>\n",
       "      <th>DayOfWeek</th>\n",
       "      <th>PdDistrict</th>\n",
       "      <th>Address</th>\n",
       "      <th>X</th>\n",
       "      <th>Y</th>\n",
       "      <th>year</th>\n",
       "      <th>month</th>\n",
       "      <th>day</th>\n",
       "      <th>hour</th>\n",
       "      <th>minute</th>\n",
       "    </tr>\n",
       "  </thead>\n",
       "  <tbody>\n",
       "    <tr>\n",
       "      <th>0</th>\n",
       "      <td>3</td>\n",
       "      <td>0</td>\n",
       "      <td>6407</td>\n",
       "      <td>-122.399588</td>\n",
       "      <td>37.735051</td>\n",
       "      <td>2015</td>\n",
       "      <td>5</td>\n",
       "      <td>10</td>\n",
       "      <td>23</td>\n",
       "      <td>59</td>\n",
       "    </tr>\n",
       "    <tr>\n",
       "      <th>1</th>\n",
       "      <td>3</td>\n",
       "      <td>0</td>\n",
       "      <td>9744</td>\n",
       "      <td>-122.391523</td>\n",
       "      <td>37.732432</td>\n",
       "      <td>2015</td>\n",
       "      <td>5</td>\n",
       "      <td>10</td>\n",
       "      <td>23</td>\n",
       "      <td>51</td>\n",
       "    </tr>\n",
       "    <tr>\n",
       "      <th>2</th>\n",
       "      <td>3</td>\n",
       "      <td>4</td>\n",
       "      <td>6336</td>\n",
       "      <td>-122.426002</td>\n",
       "      <td>37.792212</td>\n",
       "      <td>2015</td>\n",
       "      <td>5</td>\n",
       "      <td>10</td>\n",
       "      <td>23</td>\n",
       "      <td>50</td>\n",
       "    </tr>\n",
       "    <tr>\n",
       "      <th>3</th>\n",
       "      <td>3</td>\n",
       "      <td>2</td>\n",
       "      <td>10633</td>\n",
       "      <td>-122.437394</td>\n",
       "      <td>37.721412</td>\n",
       "      <td>2015</td>\n",
       "      <td>5</td>\n",
       "      <td>10</td>\n",
       "      <td>23</td>\n",
       "      <td>45</td>\n",
       "    </tr>\n",
       "    <tr>\n",
       "      <th>4</th>\n",
       "      <td>3</td>\n",
       "      <td>2</td>\n",
       "      <td>10633</td>\n",
       "      <td>-122.437394</td>\n",
       "      <td>37.721412</td>\n",
       "      <td>2015</td>\n",
       "      <td>5</td>\n",
       "      <td>10</td>\n",
       "      <td>23</td>\n",
       "      <td>45</td>\n",
       "    </tr>\n",
       "  </tbody>\n",
       "</table>\n",
       "</div>"
      ],
      "text/plain": [
       "   DayOfWeek  PdDistrict  Address           X          Y  year  month  day  \\\n",
       "0          3           0     6407 -122.399588  37.735051  2015      5   10   \n",
       "1          3           0     9744 -122.391523  37.732432  2015      5   10   \n",
       "2          3           4     6336 -122.426002  37.792212  2015      5   10   \n",
       "3          3           2    10633 -122.437394  37.721412  2015      5   10   \n",
       "4          3           2    10633 -122.437394  37.721412  2015      5   10   \n",
       "\n",
       "   hour  minute  \n",
       "0    23      59  \n",
       "1    23      51  \n",
       "2    23      50  \n",
       "3    23      45  \n",
       "4    23      45  "
      ]
     },
     "execution_count": 17,
     "metadata": {},
     "output_type": "execute_result"
    }
   ],
   "source": [
    "test.head()"
   ]
  },
  {
   "cell_type": "code",
   "execution_count": 18,
   "metadata": {
    "ExecuteTime": {
     "end_time": "2022-07-28T08:30:37.897863Z",
     "start_time": "2022-07-28T08:30:36.246693Z"
    }
   },
   "outputs": [
    {
     "data": {
      "image/png": "[encoded data removed]",
      "text/plain": [
       "<Figure size 792x432 with 2 Axes>"
      ]
     },
     "metadata": {
      "needs_background": "light"
     },
     "output_type": "display_data"
    }
   ],
   "source": [
    "fig = plt.figure(figsize=(11, 6))\n",
    "sns.heatmap(X.corr(), annot=True, linewidths=.1)\n",
    "plt.title('Heatmap for X', fontsize=15)\n",
    "# plt.show()\n",
    "plt.savefig('heatmap_corr.svg')"
   ]
  },
  {
   "cell_type": "markdown",
   "metadata": {},
   "source": [
    "### Then, the amount of crime per years, day of the week, months, hours and minute are plotted using a bar chart."
   ]
  },
  {
   "cell_type": "code",
   "execution_count": 19,
   "metadata": {
    "ExecuteTime": {
     "end_time": "2022-07-28T08:30:42.323714Z",
     "start_time": "2022-07-28T08:30:40.327492Z"
    }
   },
   "outputs": [
    {
     "data": {
      "image/png": "[encoded data removed]",
      "text/plain": [
       "<Figure size 720x864 with 5 Axes>"
      ]
     },
     "metadata": {
      "needs_background": "light"
     },
     "output_type": "display_data"
    }
   ],
   "source": [
    "fig, (ax1, ax2, ax3, ax4, ax5) = plt.subplots(5, 1, figsize=(10, 12))\n",
    "fig.tight_layout(pad=5.0)\n",
    "\n",
    "count = Counter(X['year'])\n",
    "ax1.bar(count.keys(), count.values(), color='yellow')\n",
    "ax1.set_title('Amount of crime over the years')\n",
    "ax1.set_ylabel('Amount of crime')\n",
    "ax1.set_xlabel('Years')\n",
    "\n",
    "count = Counter(X['DayOfWeek'])\n",
    "ax2.bar(np.unique(train['DayOfWeek']), count.values(), color='blue')\n",
    "ax2.set_title('Amount of crime per day of the week')\n",
    "ax2.set_ylabel('Amount of crime')\n",
    "ax2.set_xlabel('Day of the week')\n",
    "\n",
    "count = Counter(X['month'])\n",
    "ax3.bar(['Jan.', 'Feb.', 'March', 'April', 'May', 'June', 'July', 'August','Sept.','Oct.','Nov.','Dec.'],count.values(),color='green')\n",
    "ax3.set_title('Amount of crime over the months')\n",
    "ax3.set_ylabel('Amount of crime')\n",
    "ax3.set_xlabel('Month')\n",
    "\n",
    "count = Counter(X['hour'])\n",
    "ax4.bar(count.keys(), count.values(), color='purple')\n",
    "ax4.set_title('Amount of crime in an hour')\n",
    "ax4.set_ylabel('Amount of crime')\n",
    "ax4.set_xlabel('Hour')\n",
    "\n",
    "count = Counter(X['minute'])\n",
    "ax5.bar(count.keys(), count.values(), color='red')\n",
    "ax5.set_title('Amount of crime in a minute')\n",
    "ax5.set_ylabel('Amount of minute')\n",
    "ax5.set_xlabel('minute')\n",
    "\n",
    "# plt.show()\n",
    "plt.savefig(\"dataplot.svg\")"
   ]
  },
  {
   "cell_type": "markdown",
   "metadata": {},
   "source": [
    "### The following graphs take a look at the types of crime commited and the neighbourhoods in which they occurred."
   ]
  },
  {
   "cell_type": "code",
   "execution_count": 20,
   "metadata": {
    "ExecuteTime": {
     "end_time": "2022-07-28T08:30:44.727604Z",
     "start_time": "2022-07-28T08:30:43.094301Z"
    }
   },
   "outputs": [
    {
     "name": "stderr",
     "output_type": "stream",
     "text": [
      "C:\\Users\\Unknown\\AppData\\Local\\Temp\\ipykernel_2604\\872746815.py:15: UserWarning: FixedFormatter should only be used together with FixedLocator\n",
      "  ax1.set_xticklabels(data[0], rotation=90)\n"
     ]
    },
    {
     "data": {
      "image/png": "[encoded data removed]",
      "text/plain": [
       "<Figure size 1080x1296 with 2 Axes>"
      ]
     },
     "metadata": {
      "needs_background": "light"
     },
     "output_type": "display_data"
    }
   ],
   "source": [
    "fig, (ax1, ax2) = plt.subplots(2, 1, figsize=(15, 18))\n",
    "fig.tight_layout(pad=17.0)\n",
    "\n",
    "count = Counter(train['PdDistrict'])\n",
    "data = (np.array(sorted(count.items(), key=lambda x:x[1], reverse=True)).T).tolist()\n",
    "plt.bar(data[0], data[1])\n",
    "plt.title('Crime per neighbourhood')\n",
    "plt.ylabel('Amount of crime')\n",
    "plt.xlabel('Neighbourhood')\n",
    "\n",
    "count = Counter(train['Category'])\n",
    "data = (np.array(sorted(count.items(), key=lambda x:x[1])).T).tolist()\n",
    "ax1.tick_params()\n",
    "ax1.bar(data[0], data[1])\n",
    "ax1.set_xticklabels(data[0], rotation=90)\n",
    "ax1.set_title('Types of crime')\n",
    "ax1.set_ylabel('Amount of crime')\n",
    "# plt.show()\n",
    "plt.savefig(\"data1.svg\")"
   ]
  },
  {
   "cell_type": "markdown",
   "metadata": {},
   "source": [
    "### Finally, we create three bar charts which show the amount of crime in all of the bins which we created earlier."
   ]
  },
  {
   "cell_type": "code",
   "execution_count": 33,
   "metadata": {
    "ExecuteTime": {
     "end_time": "2022-07-28T08:32:52.914635Z",
     "start_time": "2022-07-28T08:32:52.104116Z"
    }
   },
   "outputs": [
    {
     "data": {
      "image/png": "[encoded data removed]",
      "text/plain": [
       "<Figure size 432x288 with 1 Axes>"
      ]
     },
     "metadata": {
      "needs_background": "light"
     },
     "output_type": "display_data"
    },
    {
     "data": {
      "image/png": "[encoded data removed]",
      "text/plain": [
       "<Figure size 432x288 with 1 Axes>"
      ]
     },
     "metadata": {
      "needs_background": "light"
     },
     "output_type": "display_data"
    },
    {
     "data": {
      "image/png": "[encoded data removed]",
      "text/plain": [
       "<Figure size 432x288 with 1 Axes>"
      ]
     },
     "metadata": {
      "needs_background": "light"
     },
     "output_type": "display_data"
    }
   ],
   "source": [
    "for i in [['month bin', 'blue'], ['hour bin', 'red'], ['day bin', 'green']]:\n",
    "    count = Counter(X[i[0]])\n",
    "    color = i[1]\n",
    "    plt.bar(count.keys(), count.values(), color=color)\n",
    "    plt.title(i[0])\n",
    "    plt.ylabel('Amount of crime')\n",
    "    plt.xlabel(i[0].split()[0])\n",
    "    plt.show()\n",
    "#     plt.savefig(f\"{i[1]}.svg\")"
   ]
  },
  {
   "cell_type": "markdown",
   "metadata": {},
   "source": [
    "# Predicting crime with a neural network"
   ]
  },
  {
   "cell_type": "markdown",
   "metadata": {},
   "source": [
    "### In order to feed the data to our model, we must first make y categorical and standardise X train and test."
   ]
  },
  {
   "cell_type": "code",
   "execution_count": null,
   "metadata": {
    "ExecuteTime": {
     "end_time": "2022-07-28T08:30:45.530443Z",
     "start_time": "2022-07-28T08:30:45.530443Z"
    }
   },
   "outputs": [],
   "source": [
    "X.columns"
   ]
  },
  {
   "cell_type": "code",
   "execution_count": 22,
   "metadata": {
    "ExecuteTime": {
     "end_time": "2022-07-28T08:30:45.961664Z",
     "start_time": "2022-07-28T08:30:45.946986Z"
    }
   },
   "outputs": [],
   "source": [
    "# X.drop([ 'month bin', 'hour bin', 'day bin'],axis=1,inplace=True)"
   ]
  },
  {
   "cell_type": "code",
   "execution_count": 23,
   "metadata": {
    "ExecuteTime": {
     "end_time": "2022-07-28T08:30:46.489063Z",
     "start_time": "2022-07-28T08:30:46.456403Z"
    }
   },
   "outputs": [
    {
     "data": {
      "text/html": [
       "<div>\n",
       "<style scoped>\n",
       "    .dataframe tbody tr th:only-of-type {\n",
       "        vertical-align: middle;\n",
       "    }\n",
       "\n",
       "    .dataframe tbody tr th {\n",
       "        vertical-align: top;\n",
       "    }\n",
       "\n",
       "    .dataframe thead th {\n",
       "        text-align: right;\n",
       "    }\n",
       "</style>\n",
       "<table border=\"1\" class=\"dataframe\">\n",
       "  <thead>\n",
       "    <tr style=\"text-align: right;\">\n",
       "      <th></th>\n",
       "      <th>DayOfWeek</th>\n",
       "      <th>PdDistrict</th>\n",
       "      <th>Address</th>\n",
       "      <th>X</th>\n",
       "      <th>Y</th>\n",
       "      <th>year</th>\n",
       "      <th>month</th>\n",
       "      <th>day</th>\n",
       "      <th>hour</th>\n",
       "      <th>minute</th>\n",
       "      <th>month bin</th>\n",
       "      <th>hour bin</th>\n",
       "      <th>day bin</th>\n",
       "    </tr>\n",
       "  </thead>\n",
       "  <tbody>\n",
       "    <tr>\n",
       "      <th>0</th>\n",
       "      <td>6</td>\n",
       "      <td>4</td>\n",
       "      <td>19790</td>\n",
       "      <td>-122.425892</td>\n",
       "      <td>37.774599</td>\n",
       "      <td>2015</td>\n",
       "      <td>5</td>\n",
       "      <td>13</td>\n",
       "      <td>23</td>\n",
       "      <td>53</td>\n",
       "      <td>2.0</td>\n",
       "      <td>7.0</td>\n",
       "      <td>4.0</td>\n",
       "    </tr>\n",
       "    <tr>\n",
       "      <th>1</th>\n",
       "      <td>6</td>\n",
       "      <td>4</td>\n",
       "      <td>19790</td>\n",
       "      <td>-122.425892</td>\n",
       "      <td>37.774599</td>\n",
       "      <td>2015</td>\n",
       "      <td>5</td>\n",
       "      <td>13</td>\n",
       "      <td>23</td>\n",
       "      <td>53</td>\n",
       "      <td>2.0</td>\n",
       "      <td>7.0</td>\n",
       "      <td>4.0</td>\n",
       "    </tr>\n",
       "    <tr>\n",
       "      <th>2</th>\n",
       "      <td>6</td>\n",
       "      <td>4</td>\n",
       "      <td>22697</td>\n",
       "      <td>-122.424363</td>\n",
       "      <td>37.800414</td>\n",
       "      <td>2015</td>\n",
       "      <td>5</td>\n",
       "      <td>13</td>\n",
       "      <td>23</td>\n",
       "      <td>33</td>\n",
       "      <td>2.0</td>\n",
       "      <td>7.0</td>\n",
       "      <td>4.0</td>\n",
       "    </tr>\n",
       "    <tr>\n",
       "      <th>3</th>\n",
       "      <td>6</td>\n",
       "      <td>4</td>\n",
       "      <td>4266</td>\n",
       "      <td>-122.426995</td>\n",
       "      <td>37.800873</td>\n",
       "      <td>2015</td>\n",
       "      <td>5</td>\n",
       "      <td>13</td>\n",
       "      <td>23</td>\n",
       "      <td>30</td>\n",
       "      <td>2.0</td>\n",
       "      <td>7.0</td>\n",
       "      <td>4.0</td>\n",
       "    </tr>\n",
       "    <tr>\n",
       "      <th>4</th>\n",
       "      <td>6</td>\n",
       "      <td>5</td>\n",
       "      <td>1843</td>\n",
       "      <td>-122.438738</td>\n",
       "      <td>37.771541</td>\n",
       "      <td>2015</td>\n",
       "      <td>5</td>\n",
       "      <td>13</td>\n",
       "      <td>23</td>\n",
       "      <td>30</td>\n",
       "      <td>2.0</td>\n",
       "      <td>7.0</td>\n",
       "      <td>4.0</td>\n",
       "    </tr>\n",
       "  </tbody>\n",
       "</table>\n",
       "</div>"
      ],
      "text/plain": [
       "   DayOfWeek  PdDistrict  Address           X          Y  year  month  day  \\\n",
       "0          6           4    19790 -122.425892  37.774599  2015      5   13   \n",
       "1          6           4    19790 -122.425892  37.774599  2015      5   13   \n",
       "2          6           4    22697 -122.424363  37.800414  2015      5   13   \n",
       "3          6           4     4266 -122.426995  37.800873  2015      5   13   \n",
       "4          6           5     1843 -122.438738  37.771541  2015      5   13   \n",
       "\n",
       "   hour  minute  month bin  hour bin  day bin  \n",
       "0    23      53        2.0       7.0      4.0  \n",
       "1    23      53        2.0       7.0      4.0  \n",
       "2    23      33        2.0       7.0      4.0  \n",
       "3    23      30        2.0       7.0      4.0  \n",
       "4    23      30        2.0       7.0      4.0  "
      ]
     },
     "execution_count": 23,
     "metadata": {},
     "output_type": "execute_result"
    }
   ],
   "source": [
    "X.head()"
   ]
  },
  {
   "cell_type": "code",
   "execution_count": 24,
   "metadata": {
    "ExecuteTime": {
     "end_time": "2022-07-28T08:30:47.036709Z",
     "start_time": "2022-07-28T08:30:47.021068Z"
    }
   },
   "outputs": [
    {
     "data": {
      "text/plain": [
       "0         37\n",
       "1         21\n",
       "2         21\n",
       "3         16\n",
       "4         16\n",
       "          ..\n",
       "878044    25\n",
       "878045    16\n",
       "878046    16\n",
       "878047    35\n",
       "878048    12\n",
       "Name: Category, Length: 878049, dtype: int32"
      ]
     },
     "execution_count": 24,
     "metadata": {},
     "output_type": "execute_result"
    }
   ],
   "source": [
    "y"
   ]
  },
  {
   "cell_type": "code",
   "execution_count": 25,
   "metadata": {
    "ExecuteTime": {
     "end_time": "2022-07-28T08:30:47.755007Z",
     "start_time": "2022-07-28T08:30:47.746450Z"
    }
   },
   "outputs": [
    {
     "data": {
      "text/plain": [
       "array([37, 21, 21, ..., 16, 35, 12])"
      ]
     },
     "execution_count": 25,
     "metadata": {},
     "output_type": "execute_result"
    }
   ],
   "source": [
    "np.array(y)"
   ]
  },
  {
   "cell_type": "code",
   "execution_count": 26,
   "metadata": {
    "ExecuteTime": {
     "end_time": "2022-07-28T08:30:48.828554Z",
     "start_time": "2022-07-28T08:30:48.823613Z"
    }
   },
   "outputs": [],
   "source": [
    "# from sklearn.linear_model import LogisticRegression\n",
    "# reg=LogisticRegression()\n",
    "# reg.fit(X_train,y_train)"
   ]
  },
  {
   "cell_type": "code",
   "execution_count": 27,
   "metadata": {
    "ExecuteTime": {
     "end_time": "2022-07-28T08:30:51.498936Z",
     "start_time": "2022-07-28T08:30:50.817496Z"
    }
   },
   "outputs": [],
   "source": [
    "y = to_categorical(y)\n",
    "X_train, X_val, y_train, y_val = train_test_split(X[['DayOfWeek', 'PdDistrict', 'Address', 'X', 'Y', 'year', 'month', 'day',\n",
    "       'hour', 'minute']], y, random_state=1, test_size=0.2)\n",
    "X_train = prepro.StandardScaler().fit_transform(X_train)\n",
    "X_val = prepro.StandardScaler().fit_transform(X_val)"
   ]
  },
  {
   "cell_type": "code",
   "execution_count": 28,
   "metadata": {
    "ExecuteTime": {
     "end_time": "2022-07-28T08:30:51.529389Z",
     "start_time": "2022-07-28T08:30:51.503924Z"
    }
   },
   "outputs": [
    {
     "data": {
      "text/plain": [
       "array([[0., 0., 0., ..., 0., 1., 0.],\n",
       "       [0., 0., 0., ..., 0., 0., 0.],\n",
       "       [0., 0., 0., ..., 0., 0., 0.],\n",
       "       ...,\n",
       "       [0., 0., 0., ..., 0., 0., 0.],\n",
       "       [0., 0., 0., ..., 0., 0., 0.],\n",
       "       [0., 0., 0., ..., 0., 0., 0.]], dtype=float32)"
      ]
     },
     "execution_count": 28,
     "metadata": {},
     "output_type": "execute_result"
    }
   ],
   "source": [
    "y"
   ]
  },
  {
   "cell_type": "code",
   "execution_count": 29,
   "metadata": {
    "ExecuteTime": {
     "end_time": "2022-07-28T08:30:52.637433Z",
     "start_time": "2022-07-28T08:30:52.623424Z"
    }
   },
   "outputs": [
    {
     "data": {
      "text/plain": [
       "(702439, 10)"
      ]
     },
     "execution_count": 29,
     "metadata": {},
     "output_type": "execute_result"
    }
   ],
   "source": [
    "X_train.shape"
   ]
  },
  {
   "cell_type": "code",
   "execution_count": 30,
   "metadata": {
    "ExecuteTime": {
     "end_time": "2022-07-28T08:30:53.261749Z",
     "start_time": "2022-07-28T08:30:53.244516Z"
    }
   },
   "outputs": [
    {
     "data": {
      "text/plain": [
       "(10,)"
      ]
     },
     "execution_count": 30,
     "metadata": {},
     "output_type": "execute_result"
    }
   ],
   "source": [
    "X_train[0].shape"
   ]
  },
  {
   "cell_type": "code",
   "execution_count": 31,
   "metadata": {
    "ExecuteTime": {
     "end_time": "2022-07-28T08:30:53.695508Z",
     "start_time": "2022-07-28T08:30:53.674821Z"
    }
   },
   "outputs": [
    {
     "data": {
      "text/plain": [
       "array([0., 0., 0., 0., 0., 0., 0., 0., 0., 0., 0., 0., 0., 0., 0., 0., 0.,\n",
       "       0., 0., 0., 0., 0., 0., 0., 0., 0., 0., 0., 0., 0., 0., 0., 0., 0.,\n",
       "       0., 0., 1., 0., 0.], dtype=float32)"
      ]
     },
     "execution_count": 31,
     "metadata": {},
     "output_type": "execute_result"
    }
   ],
   "source": [
    "y_train[0]"
   ]
  },
  {
   "cell_type": "markdown",
   "metadata": {},
   "source": [
    "### The last part of this notebook is to create and tune a neural network."
   ]
  },
  {
   "cell_type": "code",
   "execution_count": 282,
   "metadata": {
    "ExecuteTime": {
     "end_time": "2022-07-09T12:26:02.222590Z",
     "start_time": "2022-07-09T12:04:50.649143Z"
    }
   },
   "outputs": [
    {
     "name": "stdout",
     "output_type": "stream",
     "text": [
      "Epoch 1/100\n",
      "2195/2195 [==============================] - 14s 6ms/step - loss: 2.6221 - accuracy: 0.2157 - val_loss: 2.5616 - val_accuracy: 0.2321\n",
      "Epoch 2/100\n",
      "2195/2195 [==============================] - 12s 6ms/step - loss: 2.5554 - accuracy: 0.2320 - val_loss: 2.5180 - val_accuracy: 0.2414\n",
      "Epoch 3/100\n",
      "2195/2195 [==============================] - 13s 6ms/step - loss: 2.5196 - accuracy: 0.2429 - val_loss: 2.4945 - val_accuracy: 0.2484\n",
      "Epoch 4/100\n",
      "2195/2195 [==============================] - 13s 6ms/step - loss: 2.5032 - accuracy: 0.2468 - val_loss: 2.4808 - val_accuracy: 0.2518\n",
      "Epoch 5/100\n",
      "2195/2195 [==============================] - 13s 6ms/step - loss: 2.4934 - accuracy: 0.2514 - val_loss: 2.4708 - val_accuracy: 0.2557\n",
      "Epoch 6/100\n",
      "2195/2195 [==============================] - 13s 6ms/step - loss: 2.4895 - accuracy: 0.2510 - val_loss: 2.4676 - val_accuracy: 0.2545\n",
      "Epoch 7/100\n",
      "2195/2195 [==============================] - 12s 5ms/step - loss: 2.4763 - accuracy: 0.2537 - val_loss: 2.4611 - val_accuracy: 0.2574\n",
      "Epoch 8/100\n",
      "2195/2195 [==============================] - 13s 6ms/step - loss: 2.4736 - accuracy: 0.2546 - val_loss: 2.4555 - val_accuracy: 0.2575\n",
      "Epoch 9/100\n",
      "2195/2195 [==============================] - 13s 6ms/step - loss: 2.4660 - accuracy: 0.2577 - val_loss: 2.4481 - val_accuracy: 0.2605\n",
      "Epoch 10/100\n",
      "2195/2195 [==============================] - 13s 6ms/step - loss: 2.4583 - accuracy: 0.2582 - val_loss: 2.4429 - val_accuracy: 0.2619\n",
      "Epoch 11/100\n",
      "2195/2195 [==============================] - 13s 6ms/step - loss: 2.4559 - accuracy: 0.2598 - val_loss: 2.4378 - val_accuracy: 0.2650\n",
      "Epoch 12/100\n",
      "2195/2195 [==============================] - 13s 6ms/step - loss: 2.4522 - accuracy: 0.2596 - val_loss: 2.4351 - val_accuracy: 0.2646\n",
      "Epoch 13/100\n",
      "2195/2195 [==============================] - 13s 6ms/step - loss: 2.4447 - accuracy: 0.2620 - val_loss: 2.4318 - val_accuracy: 0.2657\n",
      "Epoch 14/100\n",
      "2195/2195 [==============================] - 13s 6ms/step - loss: 2.4465 - accuracy: 0.2618 - val_loss: 2.4260 - val_accuracy: 0.2660\n",
      "Epoch 15/100\n",
      "2195/2195 [==============================] - 13s 6ms/step - loss: 2.4473 - accuracy: 0.2614 - val_loss: 2.4288 - val_accuracy: 0.2655\n",
      "Epoch 16/100\n",
      "2195/2195 [==============================] - 13s 6ms/step - loss: 2.4382 - accuracy: 0.2637 - val_loss: 2.4240 - val_accuracy: 0.2662\n",
      "Epoch 17/100\n",
      "2195/2195 [==============================] - 13s 6ms/step - loss: 2.4385 - accuracy: 0.2627 - val_loss: 2.4205 - val_accuracy: 0.2679\n",
      "Epoch 18/100\n",
      "2195/2195 [==============================] - 13s 6ms/step - loss: 2.4354 - accuracy: 0.2626 - val_loss: 2.4214 - val_accuracy: 0.2675\n",
      "Epoch 19/100\n",
      "2195/2195 [==============================] - 13s 6ms/step - loss: 2.4418 - accuracy: 0.2634 - val_loss: 2.4163 - val_accuracy: 0.2686\n",
      "Epoch 20/100\n",
      "2195/2195 [==============================] - 13s 6ms/step - loss: 2.4293 - accuracy: 0.2657 - val_loss: 2.4184 - val_accuracy: 0.2684\n",
      "Epoch 21/100\n",
      "2195/2195 [==============================] - 13s 6ms/step - loss: 2.4343 - accuracy: 0.2645 - val_loss: 2.4115 - val_accuracy: 0.2701\n",
      "Epoch 22/100\n",
      "2195/2195 [==============================] - 13s 6ms/step - loss: 2.4309 - accuracy: 0.2645 - val_loss: 2.4133 - val_accuracy: 0.2683\n",
      "Epoch 23/100\n",
      "2195/2195 [==============================] - 13s 6ms/step - loss: 2.4290 - accuracy: 0.2679 - val_loss: 2.4088 - val_accuracy: 0.2698\n",
      "Epoch 24/100\n",
      "2195/2195 [==============================] - 13s 6ms/step - loss: 2.4278 - accuracy: 0.2657 - val_loss: 2.4100 - val_accuracy: 0.2704\n",
      "Epoch 25/100\n",
      "2195/2195 [==============================] - 13s 6ms/step - loss: 2.4268 - accuracy: 0.2654 - val_loss: 2.4101 - val_accuracy: 0.2710\n",
      "Epoch 26/100\n",
      "2195/2195 [==============================] - 13s 6ms/step - loss: 2.4278 - accuracy: 0.2641 - val_loss: 2.4105 - val_accuracy: 0.2694\n",
      "Epoch 27/100\n",
      "2195/2195 [==============================] - 13s 6ms/step - loss: 2.4257 - accuracy: 0.2667 - val_loss: 2.4096 - val_accuracy: 0.2698\n",
      "Epoch 28/100\n",
      "2195/2195 [==============================] - 13s 6ms/step - loss: 2.4223 - accuracy: 0.2683 - val_loss: 2.4066 - val_accuracy: 0.2702\n",
      "Epoch 29/100\n",
      "2195/2195 [==============================] - 13s 6ms/step - loss: 2.4243 - accuracy: 0.2683 - val_loss: 2.4065 - val_accuracy: 0.2711\n",
      "Epoch 30/100\n",
      "2195/2195 [==============================] - 13s 6ms/step - loss: 2.4240 - accuracy: 0.2664 - val_loss: 2.4053 - val_accuracy: 0.2706\n",
      "Epoch 31/100\n",
      "2195/2195 [==============================] - 13s 6ms/step - loss: 2.4201 - accuracy: 0.2690 - val_loss: 2.4058 - val_accuracy: 0.2707\n",
      "Epoch 32/100\n",
      "2195/2195 [==============================] - 13s 6ms/step - loss: 2.4249 - accuracy: 0.2677 - val_loss: 2.4049 - val_accuracy: 0.2704\n",
      "Epoch 33/100\n",
      "2195/2195 [==============================] - 13s 6ms/step - loss: 2.4170 - accuracy: 0.2689 - val_loss: 2.3991 - val_accuracy: 0.2719\n",
      "Epoch 34/100\n",
      "2195/2195 [==============================] - 13s 6ms/step - loss: 2.4209 - accuracy: 0.2670 - val_loss: 2.4009 - val_accuracy: 0.2728\n",
      "Epoch 35/100\n",
      "2195/2195 [==============================] - 13s 6ms/step - loss: 2.4167 - accuracy: 0.2689 - val_loss: 2.3997 - val_accuracy: 0.2736\n",
      "Epoch 36/100\n",
      "2195/2195 [==============================] - 13s 6ms/step - loss: 2.4181 - accuracy: 0.2682 - val_loss: 2.4005 - val_accuracy: 0.2733\n",
      "Epoch 37/100\n",
      "2195/2195 [==============================] - 13s 6ms/step - loss: 2.4173 - accuracy: 0.2697 - val_loss: 2.3976 - val_accuracy: 0.2730\n",
      "Epoch 38/100\n",
      "2195/2195 [==============================] - 13s 6ms/step - loss: 2.4156 - accuracy: 0.2694 - val_loss: 2.4023 - val_accuracy: 0.2729\n",
      "Epoch 39/100\n",
      "2195/2195 [==============================] - 13s 6ms/step - loss: 2.4191 - accuracy: 0.2706 - val_loss: 2.4029 - val_accuracy: 0.2717\n",
      "Epoch 40/100\n",
      "2195/2195 [==============================] - 14s 7ms/step - loss: 2.4124 - accuracy: 0.2711 - val_loss: 2.4000 - val_accuracy: 0.2733\n",
      "Epoch 41/100\n",
      "2195/2195 [==============================] - 18s 8ms/step - loss: 2.4127 - accuracy: 0.2713 - val_loss: 2.3927 - val_accuracy: 0.2754\n",
      "Epoch 42/100\n",
      "2195/2195 [==============================] - 13s 6ms/step - loss: 2.4122 - accuracy: 0.2703 - val_loss: 2.3994 - val_accuracy: 0.2733\n",
      "Epoch 43/100\n",
      "2195/2195 [==============================] - 13s 6ms/step - loss: 2.4148 - accuracy: 0.2710 - val_loss: 2.3945 - val_accuracy: 0.2740\n",
      "Epoch 44/100\n",
      "2195/2195 [==============================] - 13s 6ms/step - loss: 2.4110 - accuracy: 0.2687 - val_loss: 2.3990 - val_accuracy: 0.2725\n",
      "Epoch 45/100\n",
      "2195/2195 [==============================] - 13s 6ms/step - loss: 2.4152 - accuracy: 0.2706 - val_loss: 2.3960 - val_accuracy: 0.2745\n",
      "Epoch 46/100\n",
      "2195/2195 [==============================] - 13s 6ms/step - loss: 2.4146 - accuracy: 0.2701 - val_loss: 2.4020 - val_accuracy: 0.2731\n",
      "Epoch 47/100\n",
      "2195/2195 [==============================] - 12s 6ms/step - loss: 2.4095 - accuracy: 0.2711 - val_loss: 2.3912 - val_accuracy: 0.2764\n",
      "Epoch 48/100\n",
      "2195/2195 [==============================] - 12s 6ms/step - loss: 2.4142 - accuracy: 0.2706 - val_loss: 2.3941 - val_accuracy: 0.2737\n",
      "Epoch 49/100\n",
      "2195/2195 [==============================] - 13s 6ms/step - loss: 2.4084 - accuracy: 0.2718 - val_loss: 2.3976 - val_accuracy: 0.2731\n",
      "Epoch 50/100\n",
      "2195/2195 [==============================] - 13s 6ms/step - loss: 2.4071 - accuracy: 0.2730 - val_loss: 2.3937 - val_accuracy: 0.2744\n",
      "Epoch 51/100\n",
      "2195/2195 [==============================] - 13s 6ms/step - loss: 2.4066 - accuracy: 0.2725 - val_loss: 2.3944 - val_accuracy: 0.2732\n",
      "Epoch 52/100\n",
      "2195/2195 [==============================] - 13s 6ms/step - loss: 2.4119 - accuracy: 0.2714 - val_loss: 2.3972 - val_accuracy: 0.2727\n",
      "Epoch 53/100\n",
      "2195/2195 [==============================] - 13s 6ms/step - loss: 2.4070 - accuracy: 0.2729 - val_loss: 2.3901 - val_accuracy: 0.2769\n",
      "Epoch 54/100\n",
      "2195/2195 [==============================] - 13s 6ms/step - loss: 2.4094 - accuracy: 0.2715 - val_loss: 2.3879 - val_accuracy: 0.2762\n",
      "Epoch 55/100\n",
      "2195/2195 [==============================] - 13s 6ms/step - loss: 2.4126 - accuracy: 0.2709 - val_loss: 2.3925 - val_accuracy: 0.2770\n",
      "Epoch 56/100\n",
      "2195/2195 [==============================] - 13s 6ms/step - loss: 2.4107 - accuracy: 0.2721 - val_loss: 2.3896 - val_accuracy: 0.2762\n"
     ]
    },
    {
     "name": "stdout",
     "output_type": "stream",
     "text": [
      "Epoch 57/100\n",
      "2195/2195 [==============================] - 13s 6ms/step - loss: 2.4075 - accuracy: 0.2732 - val_loss: 2.3882 - val_accuracy: 0.2763\n",
      "Epoch 58/100\n",
      "2195/2195 [==============================] - 13s 6ms/step - loss: 2.4059 - accuracy: 0.2717 - val_loss: 2.3913 - val_accuracy: 0.2738\n",
      "Epoch 59/100\n",
      "2195/2195 [==============================] - 13s 6ms/step - loss: 2.4050 - accuracy: 0.2717 - val_loss: 2.3905 - val_accuracy: 0.2756\n",
      "Epoch 60/100\n",
      "2195/2195 [==============================] - 13s 6ms/step - loss: 2.4069 - accuracy: 0.2729 - val_loss: 2.3893 - val_accuracy: 0.2747\n",
      "Epoch 61/100\n",
      "2195/2195 [==============================] - 13s 6ms/step - loss: 2.4057 - accuracy: 0.2718 - val_loss: 2.3892 - val_accuracy: 0.2761\n",
      "Epoch 62/100\n",
      "2195/2195 [==============================] - 13s 6ms/step - loss: 2.4083 - accuracy: 0.2732 - val_loss: 2.3874 - val_accuracy: 0.2770\n",
      "Epoch 63/100\n",
      "2195/2195 [==============================] - 13s 6ms/step - loss: 2.4054 - accuracy: 0.2732 - val_loss: 2.3884 - val_accuracy: 0.2765\n",
      "Epoch 64/100\n",
      "2195/2195 [==============================] - 13s 6ms/step - loss: 2.4073 - accuracy: 0.2731 - val_loss: 2.3869 - val_accuracy: 0.2770\n",
      "Epoch 65/100\n",
      "2195/2195 [==============================] - 13s 6ms/step - loss: 2.4059 - accuracy: 0.2693 - val_loss: 2.3900 - val_accuracy: 0.2769\n",
      "Epoch 66/100\n",
      "2195/2195 [==============================] - 13s 6ms/step - loss: 2.4004 - accuracy: 0.2763 - val_loss: 2.3882 - val_accuracy: 0.2768\n",
      "Epoch 67/100\n",
      "2195/2195 [==============================] - 13s 6ms/step - loss: 2.4074 - accuracy: 0.2726 - val_loss: 2.3851 - val_accuracy: 0.2767\n",
      "Epoch 68/100\n",
      "2195/2195 [==============================] - 13s 6ms/step - loss: 2.4016 - accuracy: 0.2728 - val_loss: 2.3845 - val_accuracy: 0.2775\n",
      "Epoch 69/100\n",
      "2195/2195 [==============================] - 13s 6ms/step - loss: 2.4028 - accuracy: 0.2740 - val_loss: 2.3909 - val_accuracy: 0.2764\n",
      "Epoch 70/100\n",
      "2195/2195 [==============================] - 13s 6ms/step - loss: 2.4109 - accuracy: 0.2721 - val_loss: 2.3858 - val_accuracy: 0.2775\n",
      "Epoch 71/100\n",
      "2195/2195 [==============================] - 13s 6ms/step - loss: 2.4052 - accuracy: 0.2725 - val_loss: 2.3858 - val_accuracy: 0.2783\n",
      "Epoch 72/100\n",
      "2195/2195 [==============================] - 13s 6ms/step - loss: 2.4048 - accuracy: 0.2738 - val_loss: 2.3867 - val_accuracy: 0.2752\n",
      "Epoch 73/100\n",
      "2195/2195 [==============================] - 13s 6ms/step - loss: 2.4050 - accuracy: 0.2725 - val_loss: 2.3883 - val_accuracy: 0.2760\n",
      "Epoch 74/100\n",
      "2195/2195 [==============================] - 13s 6ms/step - loss: 2.4005 - accuracy: 0.2747 - val_loss: 2.3852 - val_accuracy: 0.2781\n",
      "Epoch 75/100\n",
      "2195/2195 [==============================] - 13s 6ms/step - loss: 2.4026 - accuracy: 0.2734 - val_loss: 2.3859 - val_accuracy: 0.2775\n",
      "Epoch 76/100\n",
      "2195/2195 [==============================] - 13s 6ms/step - loss: 2.4045 - accuracy: 0.2735 - val_loss: 2.3850 - val_accuracy: 0.2771\n",
      "Epoch 77/100\n",
      "2195/2195 [==============================] - 13s 6ms/step - loss: 2.3960 - accuracy: 0.2754 - val_loss: 2.3814 - val_accuracy: 0.2789\n",
      "Epoch 78/100\n",
      "2195/2195 [==============================] - 13s 6ms/step - loss: 2.3975 - accuracy: 0.2756 - val_loss: 2.3890 - val_accuracy: 0.2759\n",
      "Epoch 79/100\n",
      "2195/2195 [==============================] - 13s 6ms/step - loss: 2.4081 - accuracy: 0.2722 - val_loss: 2.3844 - val_accuracy: 0.2776\n",
      "Epoch 80/100\n",
      "2195/2195 [==============================] - 13s 6ms/step - loss: 2.4030 - accuracy: 0.2720 - val_loss: 2.3839 - val_accuracy: 0.2775\n",
      "Epoch 81/100\n",
      "2195/2195 [==============================] - 13s 6ms/step - loss: 2.3984 - accuracy: 0.2743 - val_loss: 2.3836 - val_accuracy: 0.2767\n",
      "Epoch 82/100\n",
      "2195/2195 [==============================] - 13s 6ms/step - loss: 2.3996 - accuracy: 0.2739 - val_loss: 2.3827 - val_accuracy: 0.2781\n",
      "Epoch 83/100\n",
      "2195/2195 [==============================] - 13s 6ms/step - loss: 2.4048 - accuracy: 0.2746 - val_loss: 2.3841 - val_accuracy: 0.2789\n",
      "Epoch 84/100\n",
      "2195/2195 [==============================] - 13s 6ms/step - loss: 2.3963 - accuracy: 0.2741 - val_loss: 2.3854 - val_accuracy: 0.2757\n",
      "Epoch 85/100\n",
      "2195/2195 [==============================] - 13s 6ms/step - loss: 2.4052 - accuracy: 0.2741 - val_loss: 2.3834 - val_accuracy: 0.2780\n",
      "Epoch 86/100\n",
      "2195/2195 [==============================] - 13s 6ms/step - loss: 2.3950 - accuracy: 0.2756 - val_loss: 2.3812 - val_accuracy: 0.2801\n",
      "Epoch 87/100\n",
      "2195/2195 [==============================] - 13s 6ms/step - loss: 2.3970 - accuracy: 0.2759 - val_loss: 2.3823 - val_accuracy: 0.2773\n",
      "Epoch 88/100\n",
      "2195/2195 [==============================] - 13s 6ms/step - loss: 2.4032 - accuracy: 0.2745 - val_loss: 2.3847 - val_accuracy: 0.2768\n",
      "Epoch 89/100\n",
      "2195/2195 [==============================] - 13s 6ms/step - loss: 2.4058 - accuracy: 0.2717 - val_loss: 2.3824 - val_accuracy: 0.2780\n",
      "Epoch 90/100\n",
      "2195/2195 [==============================] - 12s 5ms/step - loss: 2.3973 - accuracy: 0.2739 - val_loss: 2.3841 - val_accuracy: 0.2766\n",
      "Epoch 91/100\n",
      "2195/2195 [==============================] - 12s 6ms/step - loss: 2.3992 - accuracy: 0.2765 - val_loss: 2.3796 - val_accuracy: 0.2798\n",
      "Epoch 92/100\n",
      "2195/2195 [==============================] - 12s 6ms/step - loss: 2.3924 - accuracy: 0.2750 - val_loss: 2.3843 - val_accuracy: 0.2768\n",
      "Epoch 93/100\n",
      "2195/2195 [==============================] - 12s 6ms/step - loss: 2.4020 - accuracy: 0.2742 - val_loss: 2.3811 - val_accuracy: 0.2786\n",
      "Epoch 94/100\n",
      "2195/2195 [==============================] - 12s 6ms/step - loss: 2.3969 - accuracy: 0.2751 - val_loss: 2.3796 - val_accuracy: 0.2782\n",
      "Epoch 95/100\n",
      "2195/2195 [==============================] - 12s 6ms/step - loss: 2.4024 - accuracy: 0.2749 - val_loss: 2.3823 - val_accuracy: 0.2778\n",
      "Epoch 96/100\n",
      "2195/2195 [==============================] - 12s 6ms/step - loss: 2.3978 - accuracy: 0.2759 - val_loss: 2.3813 - val_accuracy: 0.2792\n",
      "Epoch 97/100\n",
      "2195/2195 [==============================] - 12s 6ms/step - loss: 2.3986 - accuracy: 0.2752 - val_loss: 2.3790 - val_accuracy: 0.2789\n",
      "Epoch 98/100\n",
      "2195/2195 [==============================] - 12s 6ms/step - loss: 2.3923 - accuracy: 0.2753 - val_loss: 2.3805 - val_accuracy: 0.2796\n",
      "Epoch 99/100\n",
      "2195/2195 [==============================] - 12s 6ms/step - loss: 2.3985 - accuracy: 0.2751 - val_loss: 2.3831 - val_accuracy: 0.2786\n",
      "Epoch 100/100\n",
      "2195/2195 [==============================] - 12s 5ms/step - loss: 2.4007 - accuracy: 0.2742 - val_loss: 2.3828 - val_accuracy: 0.2775\n"
     ]
    },
    {
     "data": {
      "image/png": "[encoded data removed]",
      "text/plain": [
       "<Figure size 432x288 with 1 Axes>"
      ]
     },
     "metadata": {
      "needs_background": "light"
     },
     "output_type": "display_data"
    },
    {
     "data": {
      "image/png": "[encoded data removed]",
      "text/plain": [
       "<Figure size 432x288 with 1 Axes>"
      ]
     },
     "metadata": {
      "needs_background": "light"
     },
     "output_type": "display_data"
    },
    {
     "data": {
      "image/png": "[encoded data removed]",
      "text/plain": [
       "<Figure size 432x288 with 1 Axes>"
      ]
     },
     "metadata": {
      "needs_background": "light"
     },
     "output_type": "display_data"
    },
    {
     "data": {
      "image/png": "[encoded data removed]",
      "text/plain": [
       "<Figure size 432x288 with 1 Axes>"
      ]
     },
     "metadata": {
      "needs_background": "light"
     },
     "output_type": "display_data"
    }
   ],
   "source": [
    "model = Sequential()\n",
    "\n",
    "model.add(Dense(128, activation='relu', input_shape=(X_train.shape[1],)))\n",
    "# model.add(BatchNormalization())\n",
    "model.add(Dropout(0.1))\n",
    "\n",
    "model.add(Dense(64, activation='relu'))\n",
    "# model.add(BatchNormalization())\n",
    "model.add(Dropout(0.1))\n",
    "\n",
    "model.add(Dense(39, activation='softmax'))\n",
    "# model.summary()    \n",
    "model.compile(metrics=['accuracy'], loss='categorical_crossentropy', optimizer='adam')   \n",
    "# model.fit(X_train, y_train, validation_data=(X_val, y_val), batch_size=64, epochs=100, steps_per_epoch=2195)\n",
    "\n",
    "history = model.fit(X_train, y_train, validation_data=(X_val, y_val), batch_size=64, epochs=100, steps_per_epoch=2195)        \n",
    "for j in list(history.history.keys()):\n",
    "    plt.plot(history.history[j])\n",
    "    plt.title(j + ' over epochs')\n",
    "    plt.ylabel(j)\n",
    "    plt.xlabel('Epochs')\n",
    "    plt.show()"
   ]
  },
  {
   "cell_type": "code",
   "execution_count": 283,
   "metadata": {
    "ExecuteTime": {
     "end_time": "2022-07-09T12:26:42.858688Z",
     "start_time": "2022-07-09T12:26:02.229634Z"
    }
   },
   "outputs": [
    {
     "data": {
      "text/plain": [
       "array([0., 0., 0., 0., 0., 0., 0., 0., 0., 0., 0., 0., 0., 0., 0., 0., 1.,\n",
       "       0., 0., 0., 0., 0., 0., 0., 0., 0., 0., 0., 0., 0., 0., 0., 0., 0.,\n",
       "       0., 0., 0., 0., 0.], dtype=float32)"
      ]
     },
     "execution_count": 283,
     "metadata": {},
     "output_type": "execute_result"
    }
   ],
   "source": [
    "pre=model.predict(test)\n",
    "pre[0]"
   ]
  },
  {
   "cell_type": "markdown",
   "metadata": {},
   "source": [
    "### Thank you for reading my notebook."
   ]
  },
  {
   "cell_type": "markdown",
   "metadata": {},
   "source": [
    "### If you enjoyed this notebook and found it helpful, please upvote it so that I can do more of these."
   ]
  },
  {
   "cell_type": "code",
   "execution_count": 55,
   "metadata": {
    "ExecuteTime": {
     "end_time": "2022-07-10T17:05:25.577478Z",
     "start_time": "2022-07-10T12:51:11.337212Z"
    }
   },
   "outputs": [
    {
     "name": "stderr",
     "output_type": "stream",
     "text": [
      "C:\\Users\\Unknown\\anaconda3\\lib\\site-packages\\sklearn\\linear_model\\_logistic.py:763: ConvergenceWarning: lbfgs failed to converge (status=1):\n",
      "STOP: TOTAL NO. of ITERATIONS REACHED LIMIT.\n",
      "\n",
      "Increase the number of iterations (max_iter) or scale the data as shown in:\n",
      "    https://scikit-learn.org/stable/modules/preprocessing.html\n",
      "Please also refer to the documentation for alternative solver options:\n",
      "    https://scikit-learn.org/stable/modules/linear_model.html#logistic-regression\n",
      "  n_iter_i = _check_optimize_result(\n"
     ]
    },
    {
     "data": {
      "text/plain": [
       "LogisticRegression(max_iter=10000, multi_class='multinomial')"
      ]
     },
     "execution_count": 55,
     "metadata": {},
     "output_type": "execute_result"
    }
   ],
   "source": [
    "# from sklearn.datasets import make_classification\n",
    "# from sklearn.linear_model import LogisticRegression\n",
    "\n",
    "# from sklearn.pipeline import make_pipeline\n",
    "# from sklearn.preprocessing import StandardScaler\n",
    "\n",
    "# # X, y = make_classification(random_state=42)\n",
    "\n",
    "# pipe = make_pipeline(StandardScaler(), LogisticRegression())\n",
    "# pipe.fit(X_train, y_train)  # apply scaling on training data\n",
    "# # Pipeline(steps=[('standardscaler', StandardScaler()),\n",
    "# #                 ('logisticregression', LogisticRegression())])\n",
    "\n",
    "# pipe.score(X_test, y_test)  # apply scaling on testing data, without leaking training data.\n",
    "\n",
    "from sklearn.linear_model import LogisticRegression\n",
    "from sklearn.model_selection import train_test_split\n",
    "X_train, X_test, y_train, y_test = train_test_split(X[['DayOfWeek', 'PdDistrict', 'Address', 'X', 'Y', 'year', 'month', 'day',\n",
    "       'hour', 'minute']],y, random_state=42)\n",
    "reg=LogisticRegression(multi_class='multinomial',max_iter=10000)\n",
    "# reg=LogisticRegression(multi_class='multinomial',max_iter=10000,verbose=1)\n",
    "reg.fit(X_train,y_train)"
   ]
  },
  {
   "cell_type": "code",
   "execution_count": 56,
   "metadata": {
    "ExecuteTime": {
     "end_time": "2022-07-10T17:05:25.809992Z",
     "start_time": "2022-07-10T17:05:25.594572Z"
    }
   },
   "outputs": [],
   "source": [
    "y_pred=reg.predict(X_test)"
   ]
  },
  {
   "cell_type": "code",
   "execution_count": 57,
   "metadata": {
    "ExecuteTime": {
     "end_time": "2022-07-10T17:05:26.220443Z",
     "start_time": "2022-07-10T17:05:25.811954Z"
    }
   },
   "outputs": [
    {
     "name": "stderr",
     "output_type": "stream",
     "text": [
      "C:\\Users\\Unknown\\anaconda3\\lib\\site-packages\\sklearn\\metrics\\_classification.py:1245: UndefinedMetricWarning: Precision and F-score are ill-defined and being set to 0.0 in labels with no predicted samples. Use `zero_division` parameter to control this behavior.\n",
      "  _warn_prf(average, modifier, msg_start, len(result))\n",
      "C:\\Users\\Unknown\\anaconda3\\lib\\site-packages\\sklearn\\metrics\\_classification.py:1245: UndefinedMetricWarning: Precision and F-score are ill-defined and being set to 0.0 in labels with no predicted samples. Use `zero_division` parameter to control this behavior.\n",
      "  _warn_prf(average, modifier, msg_start, len(result))\n"
     ]
    },
    {
     "name": "stdout",
     "output_type": "stream",
     "text": [
      "              precision    recall  f1-score   support\n",
      "\n",
      "           0       0.00      0.00      0.00       382\n",
      "           1       0.15      0.04      0.06     19231\n",
      "           2       0.00      0.00      0.00        89\n",
      "           3       0.00      0.00      0.00        72\n",
      "           4       0.00      0.00      0.00      9247\n",
      "           5       0.00      0.00      0.00      1018\n",
      "           6       0.00      0.00      0.00       585\n",
      "           7       0.21      0.06      0.09     13457\n",
      "           8       0.00      0.00      0.00      1076\n",
      "           9       0.00      0.00      0.00       274\n",
      "          10       0.00      0.00      0.00        58\n",
      "          11       0.00      0.00      0.00       106\n",
      "          12       0.00      0.00      0.00      2604\n",
      "          13       0.00      0.00      0.00      4036\n",
      "          14       0.00      0.00      0.00        43\n",
      "          15       0.00      0.00      0.00       549\n",
      "          16       0.22      0.78      0.35     43883\n",
      "          17       0.00      0.00      0.00       476\n",
      "          18       0.00      0.00      0.00       315\n",
      "          19       0.00      0.00      0.00      6429\n",
      "          20       0.09      0.00      0.00     23076\n",
      "          21       0.21      0.37      0.27     31393\n",
      "          22       0.00      0.00      0.00         4\n",
      "          23       0.00      0.00      0.00      1902\n",
      "          24       0.00      0.00      0.00       760\n",
      "          25       0.00      0.00      0.00      5730\n",
      "          26       0.00      0.00      0.00       496\n",
      "          27       0.00      0.00      0.00      2555\n",
      "          28       0.00      0.00      0.00      1107\n",
      "          29       0.00      0.00      0.00        35\n",
      "          30       0.00      0.00      0.00      1148\n",
      "          31       0.00      0.00      0.00       125\n",
      "          32       0.00      0.00      0.00      7870\n",
      "          33       0.00      0.00      0.00         2\n",
      "          34       0.00      0.00      0.00      1888\n",
      "          35       0.00      0.00      0.00     11412\n",
      "          36       0.00      0.00      0.00     13371\n",
      "          37       0.00      0.00      0.00     10548\n",
      "          38       0.00      0.00      0.00      2161\n",
      "\n",
      "    accuracy                           0.22    219513\n",
      "   macro avg       0.02      0.03      0.02    219513\n",
      "weighted avg       0.11      0.22      0.12    219513\n",
      "\n"
     ]
    },
    {
     "name": "stderr",
     "output_type": "stream",
     "text": [
      "C:\\Users\\Unknown\\anaconda3\\lib\\site-packages\\sklearn\\metrics\\_classification.py:1245: UndefinedMetricWarning: Precision and F-score are ill-defined and being set to 0.0 in labels with no predicted samples. Use `zero_division` parameter to control this behavior.\n",
      "  _warn_prf(average, modifier, msg_start, len(result))\n"
     ]
    }
   ],
   "source": [
    "from sklearn.metrics import classification_report\n",
    "print(classification_report(y_test,y_pred))"
   ]
  },
  {
   "cell_type": "code",
   "execution_count": 58,
   "metadata": {
    "ExecuteTime": {
     "end_time": "2022-07-10T17:25:01.518519Z",
     "start_time": "2022-07-10T17:25:01.335794Z"
    }
   },
   "outputs": [
    {
     "data": {
      "text/plain": [
       "['deep_final.pkl']"
      ]
     },
     "execution_count": 58,
     "metadata": {},
     "output_type": "execute_result"
    }
   ],
   "source": [
    "import joblib\n",
    "joblib.dump(reg,'deep_final.pkl')"
   ]
  },
  {
   "cell_type": "code",
   "execution_count": 60,
   "metadata": {
    "ExecuteTime": {
     "end_time": "2022-07-10T17:26:02.372347Z",
     "start_time": "2022-07-10T17:26:02.339473Z"
    }
   },
   "outputs": [
    {
     "ename": "AttributeError",
     "evalue": "'LogisticRegression' object has no attribute 'evaluate'",
     "output_type": "error",
     "traceback": [
      "\u001b[1;31m---------------------------------------------------------------------------\u001b[0m",
      "\u001b[1;31mAttributeError\u001b[0m                            Traceback (most recent call last)",
      "\u001b[1;32m<ipython-input-60-aaa15da7c375>\u001b[0m in \u001b[0;36m<module>\u001b[1;34m\u001b[0m\n\u001b[1;32m----> 1\u001b[1;33m \u001b[0mreg\u001b[0m\u001b[1;33m.\u001b[0m\u001b[0mevaluate\u001b[0m\u001b[1;33m(\u001b[0m\u001b[0mX_test\u001b[0m\u001b[1;33m,\u001b[0m\u001b[0my_test\u001b[0m\u001b[1;33m)\u001b[0m\u001b[1;33m\u001b[0m\u001b[1;33m\u001b[0m\u001b[0m\n\u001b[0m",
      "\u001b[1;31mAttributeError\u001b[0m: 'LogisticRegression' object has no attribute 'evaluate'"
     ]
    }
   ],
   "source": [
    "reg.evaluate(X_test,y_test)"
   ]
  },
  {
   "cell_type": "code",
   "execution_count": 336,
   "metadata": {
    "ExecuteTime": {
     "end_time": "2022-07-09T12:52:18.324829Z",
     "start_time": "2022-07-09T12:52:16.995411Z"
    }
   },
   "outputs": [
    {
     "ename": "FileNotFoundError",
     "evalue": "Unsuccessful TensorSliceReader constructor: Failed to find any matching files for ram://7abf9c7f-630b-488c-9b4b-284474c1b001/variables/variables\n You may be trying to load on a different device from the computational device. Consider setting the `experimental_io_device` option in `tf.saved_model.LoadOptions` to the io_device such as '/job:localhost'.",
     "output_type": "error",
     "traceback": [
      "\u001b[1;31m---------------------------------------------------------------------------\u001b[0m",
      "\u001b[1;31mFileNotFoundError\u001b[0m                         Traceback (most recent call last)",
      "\u001b[1;32m<ipython-input-336-83899a0515b5>\u001b[0m in \u001b[0;36m<module>\u001b[1;34m\u001b[0m\n\u001b[0;32m      1\u001b[0m \u001b[1;32mimport\u001b[0m \u001b[0mjoblib\u001b[0m\u001b[1;33m\u001b[0m\u001b[1;33m\u001b[0m\u001b[0m\n\u001b[1;32m----> 2\u001b[1;33m \u001b[0mregg\u001b[0m\u001b[1;33m=\u001b[0m\u001b[0mjoblib\u001b[0m\u001b[1;33m.\u001b[0m\u001b[0mload\u001b[0m\u001b[1;33m(\u001b[0m\u001b[1;34m'deep'\u001b[0m\u001b[1;33m)\u001b[0m\u001b[1;33m\u001b[0m\u001b[1;33m\u001b[0m\u001b[0m\n\u001b[0m",
      "\u001b[1;32m~\\anaconda3\\lib\\site-packages\\joblib\\numpy_pickle.py\u001b[0m in \u001b[0;36mload\u001b[1;34m(filename, mmap_mode)\u001b[0m\n\u001b[0;32m    583\u001b[0m                     \u001b[1;32mreturn\u001b[0m \u001b[0mload_compatibility\u001b[0m\u001b[1;33m(\u001b[0m\u001b[0mfobj\u001b[0m\u001b[1;33m)\u001b[0m\u001b[1;33m\u001b[0m\u001b[1;33m\u001b[0m\u001b[0m\n\u001b[0;32m    584\u001b[0m \u001b[1;33m\u001b[0m\u001b[0m\n\u001b[1;32m--> 585\u001b[1;33m                 \u001b[0mobj\u001b[0m \u001b[1;33m=\u001b[0m \u001b[0m_unpickle\u001b[0m\u001b[1;33m(\u001b[0m\u001b[0mfobj\u001b[0m\u001b[1;33m,\u001b[0m \u001b[0mfilename\u001b[0m\u001b[1;33m,\u001b[0m \u001b[0mmmap_mode\u001b[0m\u001b[1;33m)\u001b[0m\u001b[1;33m\u001b[0m\u001b[1;33m\u001b[0m\u001b[0m\n\u001b[0m\u001b[0;32m    586\u001b[0m     \u001b[1;32mreturn\u001b[0m \u001b[0mobj\u001b[0m\u001b[1;33m\u001b[0m\u001b[1;33m\u001b[0m\u001b[0m\n",
      "\u001b[1;32m~\\anaconda3\\lib\\site-packages\\joblib\\numpy_pickle.py\u001b[0m in \u001b[0;36m_unpickle\u001b[1;34m(fobj, filename, mmap_mode)\u001b[0m\n\u001b[0;32m    502\u001b[0m     \u001b[0mobj\u001b[0m \u001b[1;33m=\u001b[0m \u001b[1;32mNone\u001b[0m\u001b[1;33m\u001b[0m\u001b[1;33m\u001b[0m\u001b[0m\n\u001b[0;32m    503\u001b[0m     \u001b[1;32mtry\u001b[0m\u001b[1;33m:\u001b[0m\u001b[1;33m\u001b[0m\u001b[1;33m\u001b[0m\u001b[0m\n\u001b[1;32m--> 504\u001b[1;33m         \u001b[0mobj\u001b[0m \u001b[1;33m=\u001b[0m \u001b[0munpickler\u001b[0m\u001b[1;33m.\u001b[0m\u001b[0mload\u001b[0m\u001b[1;33m(\u001b[0m\u001b[1;33m)\u001b[0m\u001b[1;33m\u001b[0m\u001b[1;33m\u001b[0m\u001b[0m\n\u001b[0m\u001b[0;32m    505\u001b[0m         \u001b[1;32mif\u001b[0m \u001b[0munpickler\u001b[0m\u001b[1;33m.\u001b[0m\u001b[0mcompat_mode\u001b[0m\u001b[1;33m:\u001b[0m\u001b[1;33m\u001b[0m\u001b[1;33m\u001b[0m\u001b[0m\n\u001b[0;32m    506\u001b[0m             warnings.warn(\"The file '%s' has been generated with a \"\n",
      "\u001b[1;32m~\\anaconda3\\lib\\pickle.py\u001b[0m in \u001b[0;36mload\u001b[1;34m(self)\u001b[0m\n\u001b[0;32m   1208\u001b[0m                     \u001b[1;32mraise\u001b[0m \u001b[0mEOFError\u001b[0m\u001b[1;33m\u001b[0m\u001b[1;33m\u001b[0m\u001b[0m\n\u001b[0;32m   1209\u001b[0m                 \u001b[1;32massert\u001b[0m \u001b[0misinstance\u001b[0m\u001b[1;33m(\u001b[0m\u001b[0mkey\u001b[0m\u001b[1;33m,\u001b[0m \u001b[0mbytes_types\u001b[0m\u001b[1;33m)\u001b[0m\u001b[1;33m\u001b[0m\u001b[1;33m\u001b[0m\u001b[0m\n\u001b[1;32m-> 1210\u001b[1;33m                 \u001b[0mdispatch\u001b[0m\u001b[1;33m[\u001b[0m\u001b[0mkey\u001b[0m\u001b[1;33m[\u001b[0m\u001b[1;36m0\u001b[0m\u001b[1;33m]\u001b[0m\u001b[1;33m]\u001b[0m\u001b[1;33m(\u001b[0m\u001b[0mself\u001b[0m\u001b[1;33m)\u001b[0m\u001b[1;33m\u001b[0m\u001b[1;33m\u001b[0m\u001b[0m\n\u001b[0m\u001b[0;32m   1211\u001b[0m         \u001b[1;32mexcept\u001b[0m \u001b[0m_Stop\u001b[0m \u001b[1;32mas\u001b[0m \u001b[0mstopinst\u001b[0m\u001b[1;33m:\u001b[0m\u001b[1;33m\u001b[0m\u001b[1;33m\u001b[0m\u001b[0m\n\u001b[0;32m   1212\u001b[0m             \u001b[1;32mreturn\u001b[0m \u001b[0mstopinst\u001b[0m\u001b[1;33m.\u001b[0m\u001b[0mvalue\u001b[0m\u001b[1;33m\u001b[0m\u001b[1;33m\u001b[0m\u001b[0m\n",
      "\u001b[1;32m~\\anaconda3\\lib\\pickle.py\u001b[0m in \u001b[0;36mload_reduce\u001b[1;34m(self)\u001b[0m\n\u001b[0;32m   1585\u001b[0m         \u001b[0margs\u001b[0m \u001b[1;33m=\u001b[0m \u001b[0mstack\u001b[0m\u001b[1;33m.\u001b[0m\u001b[0mpop\u001b[0m\u001b[1;33m(\u001b[0m\u001b[1;33m)\u001b[0m\u001b[1;33m\u001b[0m\u001b[1;33m\u001b[0m\u001b[0m\n\u001b[0;32m   1586\u001b[0m         \u001b[0mfunc\u001b[0m \u001b[1;33m=\u001b[0m \u001b[0mstack\u001b[0m\u001b[1;33m[\u001b[0m\u001b[1;33m-\u001b[0m\u001b[1;36m1\u001b[0m\u001b[1;33m]\u001b[0m\u001b[1;33m\u001b[0m\u001b[1;33m\u001b[0m\u001b[0m\n\u001b[1;32m-> 1587\u001b[1;33m         \u001b[0mstack\u001b[0m\u001b[1;33m[\u001b[0m\u001b[1;33m-\u001b[0m\u001b[1;36m1\u001b[0m\u001b[1;33m]\u001b[0m \u001b[1;33m=\u001b[0m \u001b[0mfunc\u001b[0m\u001b[1;33m(\u001b[0m\u001b[1;33m*\u001b[0m\u001b[0margs\u001b[0m\u001b[1;33m)\u001b[0m\u001b[1;33m\u001b[0m\u001b[1;33m\u001b[0m\u001b[0m\n\u001b[0m\u001b[0;32m   1588\u001b[0m     \u001b[0mdispatch\u001b[0m\u001b[1;33m[\u001b[0m\u001b[0mREDUCE\u001b[0m\u001b[1;33m[\u001b[0m\u001b[1;36m0\u001b[0m\u001b[1;33m]\u001b[0m\u001b[1;33m]\u001b[0m \u001b[1;33m=\u001b[0m \u001b[0mload_reduce\u001b[0m\u001b[1;33m\u001b[0m\u001b[1;33m\u001b[0m\u001b[0m\n\u001b[0;32m   1589\u001b[0m \u001b[1;33m\u001b[0m\u001b[0m\n",
      "\u001b[1;32m~\\anaconda3\\lib\\site-packages\\keras\\saving\\pickle_utils.py\u001b[0m in \u001b[0;36mdeserialize_model_from_bytecode\u001b[1;34m(serialized_model)\u001b[0m\n\u001b[0;32m     46\u001b[0m         \u001b[1;32mwith\u001b[0m \u001b[0mtf\u001b[0m\u001b[1;33m.\u001b[0m\u001b[0mio\u001b[0m\u001b[1;33m.\u001b[0m\u001b[0mgfile\u001b[0m\u001b[1;33m.\u001b[0m\u001b[0mGFile\u001b[0m\u001b[1;33m(\u001b[0m\u001b[0mdest_path\u001b[0m\u001b[1;33m,\u001b[0m \u001b[1;34m\"wb\"\u001b[0m\u001b[1;33m)\u001b[0m \u001b[1;32mas\u001b[0m \u001b[0mf\u001b[0m\u001b[1;33m:\u001b[0m\u001b[1;33m\u001b[0m\u001b[1;33m\u001b[0m\u001b[0m\n\u001b[0;32m     47\u001b[0m           \u001b[0mf\u001b[0m\u001b[1;33m.\u001b[0m\u001b[0mwrite\u001b[0m\u001b[1;33m(\u001b[0m\u001b[0marchive\u001b[0m\u001b[1;33m.\u001b[0m\u001b[0mextractfile\u001b[0m\u001b[1;33m(\u001b[0m\u001b[0mname\u001b[0m\u001b[1;33m)\u001b[0m\u001b[1;33m.\u001b[0m\u001b[0mread\u001b[0m\u001b[1;33m(\u001b[0m\u001b[1;33m)\u001b[0m\u001b[1;33m)\u001b[0m\u001b[1;33m\u001b[0m\u001b[1;33m\u001b[0m\u001b[0m\n\u001b[1;32m---> 48\u001b[1;33m   \u001b[0mmodel\u001b[0m \u001b[1;33m=\u001b[0m \u001b[0msave_module\u001b[0m\u001b[1;33m.\u001b[0m\u001b[0mload_model\u001b[0m\u001b[1;33m(\u001b[0m\u001b[0mtemp_dir\u001b[0m\u001b[1;33m)\u001b[0m\u001b[1;33m\u001b[0m\u001b[1;33m\u001b[0m\u001b[0m\n\u001b[0m\u001b[0;32m     49\u001b[0m   \u001b[0mtf\u001b[0m\u001b[1;33m.\u001b[0m\u001b[0mio\u001b[0m\u001b[1;33m.\u001b[0m\u001b[0mgfile\u001b[0m\u001b[1;33m.\u001b[0m\u001b[0mrmtree\u001b[0m\u001b[1;33m(\u001b[0m\u001b[0mtemp_dir\u001b[0m\u001b[1;33m)\u001b[0m\u001b[1;33m\u001b[0m\u001b[1;33m\u001b[0m\u001b[0m\n\u001b[0;32m     50\u001b[0m   \u001b[1;32mreturn\u001b[0m \u001b[0mmodel\u001b[0m\u001b[1;33m\u001b[0m\u001b[1;33m\u001b[0m\u001b[0m\n",
      "\u001b[1;32m~\\anaconda3\\lib\\site-packages\\keras\\utils\\traceback_utils.py\u001b[0m in \u001b[0;36merror_handler\u001b[1;34m(*args, **kwargs)\u001b[0m\n\u001b[0;32m     65\u001b[0m     \u001b[1;32mexcept\u001b[0m \u001b[0mException\u001b[0m \u001b[1;32mas\u001b[0m \u001b[0me\u001b[0m\u001b[1;33m:\u001b[0m  \u001b[1;31m# pylint: disable=broad-except\u001b[0m\u001b[1;33m\u001b[0m\u001b[1;33m\u001b[0m\u001b[0m\n\u001b[0;32m     66\u001b[0m       \u001b[0mfiltered_tb\u001b[0m \u001b[1;33m=\u001b[0m \u001b[0m_process_traceback_frames\u001b[0m\u001b[1;33m(\u001b[0m\u001b[0me\u001b[0m\u001b[1;33m.\u001b[0m\u001b[0m__traceback__\u001b[0m\u001b[1;33m)\u001b[0m\u001b[1;33m\u001b[0m\u001b[1;33m\u001b[0m\u001b[0m\n\u001b[1;32m---> 67\u001b[1;33m       \u001b[1;32mraise\u001b[0m \u001b[0me\u001b[0m\u001b[1;33m.\u001b[0m\u001b[0mwith_traceback\u001b[0m\u001b[1;33m(\u001b[0m\u001b[0mfiltered_tb\u001b[0m\u001b[1;33m)\u001b[0m \u001b[1;32mfrom\u001b[0m \u001b[1;32mNone\u001b[0m\u001b[1;33m\u001b[0m\u001b[1;33m\u001b[0m\u001b[0m\n\u001b[0m\u001b[0;32m     68\u001b[0m     \u001b[1;32mfinally\u001b[0m\u001b[1;33m:\u001b[0m\u001b[1;33m\u001b[0m\u001b[1;33m\u001b[0m\u001b[0m\n\u001b[0;32m     69\u001b[0m       \u001b[1;32mdel\u001b[0m \u001b[0mfiltered_tb\u001b[0m\u001b[1;33m\u001b[0m\u001b[1;33m\u001b[0m\u001b[0m\n",
      "\u001b[1;32m~\\anaconda3\\lib\\site-packages\\tensorflow\\python\\saved_model\\load.py\u001b[0m in \u001b[0;36mload_internal\u001b[1;34m(export_dir, tags, options, loader_cls, filters)\u001b[0m\n\u001b[0;32m    975\u001b[0m                             ckpt_options, options, filters)\n\u001b[0;32m    976\u001b[0m       \u001b[1;32mexcept\u001b[0m \u001b[0merrors\u001b[0m\u001b[1;33m.\u001b[0m\u001b[0mNotFoundError\u001b[0m \u001b[1;32mas\u001b[0m \u001b[0merr\u001b[0m\u001b[1;33m:\u001b[0m\u001b[1;33m\u001b[0m\u001b[1;33m\u001b[0m\u001b[0m\n\u001b[1;32m--> 977\u001b[1;33m         raise FileNotFoundError(\n\u001b[0m\u001b[0;32m    978\u001b[0m             \u001b[0mstr\u001b[0m\u001b[1;33m(\u001b[0m\u001b[0merr\u001b[0m\u001b[1;33m)\u001b[0m \u001b[1;33m+\u001b[0m \u001b[1;34m\"\\n You may be trying to load on a different device \"\u001b[0m\u001b[1;33m\u001b[0m\u001b[1;33m\u001b[0m\u001b[0m\n\u001b[0;32m    979\u001b[0m             \u001b[1;34m\"from the computational device. Consider setting the \"\u001b[0m\u001b[1;33m\u001b[0m\u001b[1;33m\u001b[0m\u001b[0m\n",
      "\u001b[1;31mFileNotFoundError\u001b[0m: Unsuccessful TensorSliceReader constructor: Failed to find any matching files for ram://7abf9c7f-630b-488c-9b4b-284474c1b001/variables/variables\n You may be trying to load on a different device from the computational device. Consider setting the `experimental_io_device` option in `tf.saved_model.LoadOptions` to the io_device such as '/job:localhost'."
     ]
    }
   ],
   "source": [
    "import joblib\n",
    "regg=joblib.load('deep')"
   ]
  },
  {
   "cell_type": "code",
   "execution_count": null,
   "metadata": {
    "ExecuteTime": {
     "end_time": "2022-07-09T11:45:27.687907Z",
     "start_time": "2022-07-09T11:45:06.777Z"
    }
   },
   "outputs": [],
   "source": [
    "# filename = 'finalized_model.sav'\n",
    "# joblib.dump(model, filename)\n",
    " \n",
    "# # some time later...\n",
    " \n",
    "# # load the model from disk\n",
    "# loaded_model = joblib.load(filename)"
   ]
  },
  {
   "cell_type": "code",
   "execution_count": 250,
   "metadata": {
    "ExecuteTime": {
     "end_time": "2022-07-09T11:47:26.503851Z",
     "start_time": "2022-07-09T11:46:36.183719Z"
    }
   },
   "outputs": [
    {
     "ename": "UnpicklingError",
     "evalue": "invalid load key, '/'.",
     "output_type": "error",
     "traceback": [
      "\u001b[1;31m---------------------------------------------------------------------------\u001b[0m",
      "\u001b[1;31mUnpicklingError\u001b[0m                           Traceback (most recent call last)",
      "\u001b[1;32m<ipython-input-250-ef2fb14475c0>\u001b[0m in \u001b[0;36m<module>\u001b[1;34m\u001b[0m\n\u001b[0;32m      1\u001b[0m \u001b[1;32mimport\u001b[0m \u001b[0mpickle\u001b[0m\u001b[1;33m\u001b[0m\u001b[1;33m\u001b[0m\u001b[0m\n\u001b[0;32m      2\u001b[0m \u001b[0mfilename\u001b[0m \u001b[1;33m=\u001b[0m \u001b[1;34m'finalized_model.sav'\u001b[0m\u001b[1;33m\u001b[0m\u001b[1;33m\u001b[0m\u001b[0m\n\u001b[1;32m----> 3\u001b[1;33m \u001b[0mloaded_model\u001b[0m \u001b[1;33m=\u001b[0m \u001b[0mpickle\u001b[0m\u001b[1;33m.\u001b[0m\u001b[0mload\u001b[0m\u001b[1;33m(\u001b[0m\u001b[0mopen\u001b[0m\u001b[1;33m(\u001b[0m\u001b[0mfilename\u001b[0m\u001b[1;33m,\u001b[0m \u001b[1;34m'rb'\u001b[0m\u001b[1;33m)\u001b[0m\u001b[1;33m)\u001b[0m\u001b[1;33m\u001b[0m\u001b[1;33m\u001b[0m\u001b[0m\n\u001b[0m",
      "\u001b[1;31mUnpicklingError\u001b[0m: invalid load key, '/'."
     ]
    }
   ],
   "source": [
    "import pickle\n",
    "filename = 'finalized_model.sav'\n",
    "loaded_model = pickle.load(open(filename, 'rb'))"
   ]
  },
  {
   "cell_type": "code",
   "execution_count": 348,
   "metadata": {
    "ExecuteTime": {
     "end_time": "2022-07-09T13:25:38.799230Z",
     "start_time": "2022-07-09T13:25:38.713437Z"
    }
   },
   "outputs": [
    {
     "name": "stdout",
     "output_type": "stream",
     "text": [
      "Saved model to disk\n"
     ]
    }
   ],
   "source": [
    "model_json = model.to_json()\n",
    "with open(\"model1.json\", \"w\") as json_file:\n",
    "    json_file.write(model_json)\n",
    "# serialize weights to HDF5\n",
    "model.save_weights(\"model1.h5\")\n",
    "print(\"Saved model to disk\")"
   ]
  },
  {
   "cell_type": "code",
   "execution_count": 350,
   "metadata": {
    "ExecuteTime": {
     "end_time": "2022-07-09T13:26:44.209738Z",
     "start_time": "2022-07-09T13:26:44.012885Z"
    }
   },
   "outputs": [
    {
     "name": "stdout",
     "output_type": "stream",
     "text": [
      "Loaded model from disk\n"
     ]
    }
   ],
   "source": [
    "from keras.models import model_from_json\n",
    "json_file = open('model1.json', 'r')\n",
    "loaded_model_json = json_file.read()\n",
    "json_file.close()\n",
    "loaded_model = model_from_json(loaded_model_json)\n",
    "# load weights into new model\n",
    "loaded_model.load_weights(\"model1.h5\")\n",
    "print(\"Loaded model from disk\")\n",
    " \n",
    "# evaluate loaded model on test data\n",
    "loaded_model.compile(loss='binary_crossentropy', optimizer='rmsprop', metrics=['accuracy'])\n",
    "# score = loaded_model.evaluate(X, Y, verbose=0)\n",
    "# print(\"%s: %.2f%%\" % (loaded_model.metrics_names[1], score[1]*100))"
   ]
  },
  {
   "cell_type": "code",
   "execution_count": null,
   "metadata": {
    "ExecuteTime": {
     "start_time": "2022-07-09T13:27:06.634Z"
    }
   },
   "outputs": [],
   "source": [
    "model.predict(test)[0]"
   ]
  },
  {
   "cell_type": "code",
   "execution_count": null,
   "metadata": {},
   "outputs": [],
   "source": []
  }
 ],
 "metadata": {
  "kernelspec": {
   "display_name": "Python 3 (ipykernel)",
   "language": "python",
   "name": "python3"
  },
  "language_info": {
   "codemirror_mode": {
    "name": "ipython",
    "version": 3
   },
   "file_extension": ".py",
   "mimetype": "text/x-python",
   "name": "python",
   "nbconvert_exporter": "python",
   "pygments_lexer": "ipython3",
   "version": "3.10.5"
  },
  "nbTranslate": {
   "displayLangs": [
    "*"
   ],
   "hotkey": "alt-t",
   "langInMainMenu": true,
   "sourceLang": "en",
   "targetLang": "fr",
   "useGoogleTranslate": true
  },
  "toc": {
   "base_numbering": 1,
   "nav_menu": {},
   "number_sections": true,
   "sideBar": true,
   "skip_h1_title": false,
   "title_cell": "Table of Contents",
   "title_sidebar": "Contents",
   "toc_cell": false,
   "toc_position": {},
   "toc_section_display": true,
   "toc_window_display": false
  }
 },
 "nbformat": 4,
 "nbformat_minor": 4
}
